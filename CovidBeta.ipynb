{
  "cells": [
    {
      "cell_type": "markdown",
      "metadata": {
        "id": "view-in-github",
        "colab_type": "text"
      },
      "source": [
        "<a href=\"https://colab.research.google.com/github/nugomes2019/00-colab/blob/main/CovidBeta.ipynb\" target=\"_parent\"><img src=\"https://colab.research.google.com/assets/colab-badge.svg\" alt=\"Open In Colab\"/></a>"
      ]
    },
    {
      "cell_type": "markdown",
      "metadata": {
        "id": "z2WuEh-L0Oi2"
      },
      "source": [
        "# COVID-19 Beta\n",
        "\n"
      ]
    },
    {
      "cell_type": "code",
      "execution_count": null,
      "metadata": {
        "id": "8Djc6F3S0OjA"
      },
      "outputs": [],
      "source": [
        "from datetime import datetime as dt\n",
        "import pandas as pd\n",
        "import numpy as np\n",
        "import matplotlib.pyplot as plt\n",
        "import seaborn as sns\n",
        "import yfinance as yf\n",
        "\n",
        "plt.style.use(\"seaborn-deep\")"
      ]
    },
    {
      "cell_type": "markdown",
      "metadata": {
        "id": "bVUbQbZP0OjE"
      },
      "source": [
        "## COVID-19 Data\n",
        "\n",
        "We will use this NY Times [github repo](https://github.com/nytimes/covid-19-data) as the source of our COVID-19 Data (US only). One key problem with this dataset is that they retroactively fix datapoints, meaning that this data is not what we would have observed at the time. This limits the out-of-sample validity of this investigation.\n",
        "\n",
        "We will use COVID cases and deaths as two separate \"factors\"."
      ]
    },
    {
      "cell_type": "code",
      "execution_count": null,
      "metadata": {
        "id": "gQrk-nNe0OjF",
        "outputId": "ead76684-78d3-4e8d-acaf-5c06be4718f1"
      },
      "outputs": [
        {
          "data": {
            "text/html": [
              "<div>\n",
              "<style scoped>\n",
              "    .dataframe tbody tr th:only-of-type {\n",
              "        vertical-align: middle;\n",
              "    }\n",
              "\n",
              "    .dataframe tbody tr th {\n",
              "        vertical-align: top;\n",
              "    }\n",
              "\n",
              "    .dataframe thead th {\n",
              "        text-align: right;\n",
              "    }\n",
              "</style>\n",
              "<table border=\"1\" class=\"dataframe\">\n",
              "  <thead>\n",
              "    <tr style=\"text-align: right;\">\n",
              "      <th></th>\n",
              "      <th>cases</th>\n",
              "      <th>deaths</th>\n",
              "    </tr>\n",
              "    <tr>\n",
              "      <th>date</th>\n",
              "      <th></th>\n",
              "      <th></th>\n",
              "    </tr>\n",
              "  </thead>\n",
              "  <tbody>\n",
              "    <tr>\n",
              "      <th>2020-01-21</th>\n",
              "      <td>1</td>\n",
              "      <td>0</td>\n",
              "    </tr>\n",
              "    <tr>\n",
              "      <th>2020-01-22</th>\n",
              "      <td>1</td>\n",
              "      <td>0</td>\n",
              "    </tr>\n",
              "    <tr>\n",
              "      <th>2020-01-23</th>\n",
              "      <td>1</td>\n",
              "      <td>0</td>\n",
              "    </tr>\n",
              "    <tr>\n",
              "      <th>2020-01-24</th>\n",
              "      <td>2</td>\n",
              "      <td>0</td>\n",
              "    </tr>\n",
              "    <tr>\n",
              "      <th>2020-01-25</th>\n",
              "      <td>3</td>\n",
              "      <td>0</td>\n",
              "    </tr>\n",
              "  </tbody>\n",
              "</table>\n",
              "</div>"
            ],
            "text/plain": [
              "            cases  deaths\n",
              "date                     \n",
              "2020-01-21      1       0\n",
              "2020-01-22      1       0\n",
              "2020-01-23      1       0\n",
              "2020-01-24      2       0\n",
              "2020-01-25      3       0"
            ]
          },
          "execution_count": 29,
          "metadata": {},
          "output_type": "execute_result"
        }
      ],
      "source": [
        "# Covid data\n",
        "covid = pd.read_csv(\"nytimes_us_data.csv\", parse_dates=[\"date\"], index_col=\"date\")\n",
        "covid.head()"
      ]
    },
    {
      "cell_type": "code",
      "execution_count": null,
      "metadata": {
        "id": "OfrGwrwW0OjH"
      },
      "outputs": [],
      "source": [
        "def dual_plot(series1, series2, label1=\"1\", label2=\"2\", color1=\"darkblue\", color2=\"darkred\", figsize=(9,6)):\n",
        "    fig, ax1 = plt.subplots(figsize=figsize)\n",
        "    ax1.set_ylabel(label1, color=color1)\n",
        "    series1.plot(ax=ax1, color=color1)\n",
        "    ax1.tick_params(axis=\"y\", labelcolor=color1)\n",
        "\n",
        "    ax2 = ax1.twinx()  # instantiate a second axes that shares the same x-axis\n",
        "    ax2.set_ylabel(label2, color=color2)  # we already handled the x-label with ax1\n",
        "    series2.plot(ax=ax2, color=color2)\n",
        "    ax2.tick_params(axis='y', labelcolor=color2)\n",
        "\n",
        "    fig.tight_layout()  # otherwise the right y-label is slightly clipped\n"
      ]
    },
    {
      "cell_type": "code",
      "execution_count": null,
      "metadata": {
        "id": "vlsaQ6pU0OjI",
        "outputId": "8bba1fe6-68b9-4f64-d9c9-8faffa65514a"
      },
      "outputs": [
        {
          "data": {
            "image/png": "[encoded data removed]",
            "text/plain": [
              "<Figure size 648x432 with 2 Axes>"
            ]
          },
          "metadata": {
            "needs_background": "light"
          },
          "output_type": "display_data"
        }
      ],
      "source": [
        "dual_plot(covid.cases, covid.deaths, \"Cases\", \"Deaths\")\n",
        "plt.show()"
      ]
    },
    {
      "cell_type": "code",
      "execution_count": null,
      "metadata": {
        "id": "5K23l7yO0OjJ",
        "outputId": "fb7b78c1-9bec-44a3-c2a1-37e4c3a6efe1"
      },
      "outputs": [
        {
          "data": {
            "image/png": "[encoded data removed]",
            "text/plain": [
              "<Figure size 648x432 with 2 Axes>"
            ]
          },
          "metadata": {
            "needs_background": "light"
          },
          "output_type": "display_data"
        }
      ],
      "source": [
        "dual_plot(covid.cases.diff(), covid.deaths.diff(), \"New cases\", \"New deaths\")\n",
        "plt.show()"
      ]
    },
    {
      "cell_type": "code",
      "execution_count": null,
      "metadata": {
        "id": "j6i8jBce0OjK",
        "outputId": "ee5d035a-aa84-461c-8ecd-c273cfdd1e0c"
      },
      "outputs": [
        {
          "data": {
            "image/png": "[encoded data removed]",
            "text/plain": [
              "<Figure size 432x288 with 1 Axes>"
            ]
          },
          "metadata": {
            "needs_background": "light"
          },
          "output_type": "display_data"
        }
      ],
      "source": [
        "covid.cases.iloc[50:].pct_change().hist(bins=50);"
      ]
    },
    {
      "cell_type": "markdown",
      "metadata": {
        "id": "ieLV1i9O0OjL"
      },
      "source": [
        "## Asset prices\n",
        "\n",
        "We will be computing the beta of S&P500 constituents to each COVID factor (cases and deaths\"). In other words, we regress the asset returns to the daily percentage change in COVID.\n",
        "\n",
        "We get the SPY constituents from [here](https://github.com/datasets/s-and-p-500-companies-financials) then use yfinance to pull historical YTD adjusted closes."
      ]
    },
    {
      "cell_type": "code",
      "execution_count": null,
      "metadata": {
        "id": "0JL2xq_40OjM",
        "outputId": "ec007254-4aa9-47f8-c493-5d8666538159"
      },
      "outputs": [
        {
          "data": {
            "text/html": [
              "<div>\n",
              "<style scoped>\n",
              "    .dataframe tbody tr th:only-of-type {\n",
              "        vertical-align: middle;\n",
              "    }\n",
              "\n",
              "    .dataframe tbody tr th {\n",
              "        vertical-align: top;\n",
              "    }\n",
              "\n",
              "    .dataframe thead th {\n",
              "        text-align: right;\n",
              "    }\n",
              "</style>\n",
              "<table border=\"1\" class=\"dataframe\">\n",
              "  <thead>\n",
              "    <tr style=\"text-align: right;\">\n",
              "      <th></th>\n",
              "      <th>Symbol</th>\n",
              "      <th>Name</th>\n",
              "      <th>Sector</th>\n",
              "      <th>Price</th>\n",
              "      <th>Price/Earnings</th>\n",
              "      <th>Dividend Yield</th>\n",
              "      <th>Earnings/Share</th>\n",
              "      <th>52 Week Low</th>\n",
              "      <th>52 Week High</th>\n",
              "      <th>Market Cap</th>\n",
              "      <th>EBITDA</th>\n",
              "      <th>Price/Sales</th>\n",
              "      <th>Price/Book</th>\n",
              "      <th>SEC Filings</th>\n",
              "    </tr>\n",
              "  </thead>\n",
              "  <tbody>\n",
              "    <tr>\n",
              "      <th>0</th>\n",
              "      <td>MMM</td>\n",
              "      <td>3M Company</td>\n",
              "      <td>Industrials</td>\n",
              "      <td>222.89</td>\n",
              "      <td>24.31</td>\n",
              "      <td>2.332862</td>\n",
              "      <td>7.92</td>\n",
              "      <td>259.77</td>\n",
              "      <td>175.490</td>\n",
              "      <td>138721055226</td>\n",
              "      <td>9.048000e+09</td>\n",
              "      <td>4.390271</td>\n",
              "      <td>11.34</td>\n",
              "      <td>http://www.sec.gov/cgi-bin/browse-edgar?action...</td>\n",
              "    </tr>\n",
              "    <tr>\n",
              "      <th>1</th>\n",
              "      <td>AOS</td>\n",
              "      <td>A.O. Smith Corp</td>\n",
              "      <td>Industrials</td>\n",
              "      <td>60.24</td>\n",
              "      <td>27.76</td>\n",
              "      <td>1.147959</td>\n",
              "      <td>1.70</td>\n",
              "      <td>68.39</td>\n",
              "      <td>48.925</td>\n",
              "      <td>10783419933</td>\n",
              "      <td>6.010000e+08</td>\n",
              "      <td>3.575483</td>\n",
              "      <td>6.35</td>\n",
              "      <td>http://www.sec.gov/cgi-bin/browse-edgar?action...</td>\n",
              "    </tr>\n",
              "    <tr>\n",
              "      <th>2</th>\n",
              "      <td>ABT</td>\n",
              "      <td>Abbott Laboratories</td>\n",
              "      <td>Health Care</td>\n",
              "      <td>56.27</td>\n",
              "      <td>22.51</td>\n",
              "      <td>1.908982</td>\n",
              "      <td>0.26</td>\n",
              "      <td>64.60</td>\n",
              "      <td>42.280</td>\n",
              "      <td>102121042306</td>\n",
              "      <td>5.744000e+09</td>\n",
              "      <td>3.740480</td>\n",
              "      <td>3.19</td>\n",
              "      <td>http://www.sec.gov/cgi-bin/browse-edgar?action...</td>\n",
              "    </tr>\n",
              "    <tr>\n",
              "      <th>3</th>\n",
              "      <td>ABBV</td>\n",
              "      <td>AbbVie Inc.</td>\n",
              "      <td>Health Care</td>\n",
              "      <td>108.48</td>\n",
              "      <td>19.41</td>\n",
              "      <td>2.499560</td>\n",
              "      <td>3.29</td>\n",
              "      <td>125.86</td>\n",
              "      <td>60.050</td>\n",
              "      <td>181386347059</td>\n",
              "      <td>1.031000e+10</td>\n",
              "      <td>6.291571</td>\n",
              "      <td>26.14</td>\n",
              "      <td>http://www.sec.gov/cgi-bin/browse-edgar?action...</td>\n",
              "    </tr>\n",
              "    <tr>\n",
              "      <th>4</th>\n",
              "      <td>ACN</td>\n",
              "      <td>Accenture plc</td>\n",
              "      <td>Information Technology</td>\n",
              "      <td>150.51</td>\n",
              "      <td>25.47</td>\n",
              "      <td>1.714470</td>\n",
              "      <td>5.44</td>\n",
              "      <td>162.60</td>\n",
              "      <td>114.820</td>\n",
              "      <td>98765855553</td>\n",
              "      <td>5.643228e+09</td>\n",
              "      <td>2.604117</td>\n",
              "      <td>10.62</td>\n",
              "      <td>http://www.sec.gov/cgi-bin/browse-edgar?action...</td>\n",
              "    </tr>\n",
              "  </tbody>\n",
              "</table>\n",
              "</div>"
            ],
            "text/plain": [
              "  Symbol                 Name                  Sector   Price  Price/Earnings  \\\n",
              "0    MMM           3M Company             Industrials  222.89           24.31   \n",
              "1    AOS      A.O. Smith Corp             Industrials   60.24           27.76   \n",
              "2    ABT  Abbott Laboratories             Health Care   56.27           22.51   \n",
              "3   ABBV          AbbVie Inc.             Health Care  108.48           19.41   \n",
              "4    ACN        Accenture plc  Information Technology  150.51           25.47   \n",
              "\n",
              "   Dividend Yield  Earnings/Share  52 Week Low  52 Week High    Market Cap  \\\n",
              "0        2.332862            7.92       259.77       175.490  138721055226   \n",
              "1        1.147959            1.70        68.39        48.925   10783419933   \n",
              "2        1.908982            0.26        64.60        42.280  102121042306   \n",
              "3        2.499560            3.29       125.86        60.050  181386347059   \n",
              "4        1.714470            5.44       162.60       114.820   98765855553   \n",
              "\n",
              "         EBITDA  Price/Sales  Price/Book  \\\n",
              "0  9.048000e+09     4.390271       11.34   \n",
              "1  6.010000e+08     3.575483        6.35   \n",
              "2  5.744000e+09     3.740480        3.19   \n",
              "3  1.031000e+10     6.291571       26.14   \n",
              "4  5.643228e+09     2.604117       10.62   \n",
              "\n",
              "                                         SEC Filings  \n",
              "0  http://www.sec.gov/cgi-bin/browse-edgar?action...  \n",
              "1  http://www.sec.gov/cgi-bin/browse-edgar?action...  \n",
              "2  http://www.sec.gov/cgi-bin/browse-edgar?action...  \n",
              "3  http://www.sec.gov/cgi-bin/browse-edgar?action...  \n",
              "4  http://www.sec.gov/cgi-bin/browse-edgar?action...  "
            ]
          },
          "execution_count": 34,
          "metadata": {},
          "output_type": "execute_result"
        }
      ],
      "source": [
        "df = pd.read_csv(\"spy_constituents.csv\")\n",
        "tickers = df.Symbol.tolist()\n",
        "df.head()"
      ]
    },
    {
      "cell_type": "code",
      "execution_count": null,
      "metadata": {
        "id": "91NvLqYv0OjP"
      },
      "outputs": [],
      "source": [
        "# price_df = yf.download(tickers, period=\"ytd\")[\"Adj Close\"]\n",
        "# price_df.to_csv(\"stock_prices.csv\")"
      ]
    },
    {
      "cell_type": "code",
      "execution_count": null,
      "metadata": {
        "id": "cKGA9ore0OjQ",
        "outputId": "e36b1625-775a-4a36-d9be-0562f7eedfc6"
      },
      "outputs": [
        {
          "data": {
            "text/html": [
              "<div>\n",
              "<style scoped>\n",
              "    .dataframe tbody tr th:only-of-type {\n",
              "        vertical-align: middle;\n",
              "    }\n",
              "\n",
              "    .dataframe tbody tr th {\n",
              "        vertical-align: top;\n",
              "    }\n",
              "\n",
              "    .dataframe thead th {\n",
              "        text-align: right;\n",
              "    }\n",
              "</style>\n",
              "<table border=\"1\" class=\"dataframe\">\n",
              "  <thead>\n",
              "    <tr style=\"text-align: right;\">\n",
              "      <th></th>\n",
              "      <th>A</th>\n",
              "      <th>AAL</th>\n",
              "      <th>AAP</th>\n",
              "      <th>AAPL</th>\n",
              "      <th>ABBV</th>\n",
              "      <th>ABC</th>\n",
              "      <th>ABMD</th>\n",
              "      <th>ABT</th>\n",
              "      <th>ACN</th>\n",
              "      <th>ADBE</th>\n",
              "      <th>...</th>\n",
              "      <th>XLNX</th>\n",
              "      <th>XOM</th>\n",
              "      <th>XRAY</th>\n",
              "      <th>XRX</th>\n",
              "      <th>XYL</th>\n",
              "      <th>YUM</th>\n",
              "      <th>ZBH</th>\n",
              "      <th>ZBRA</th>\n",
              "      <th>ZION</th>\n",
              "      <th>ZTS</th>\n",
              "    </tr>\n",
              "    <tr>\n",
              "      <th>Date</th>\n",
              "      <th></th>\n",
              "      <th></th>\n",
              "      <th></th>\n",
              "      <th></th>\n",
              "      <th></th>\n",
              "      <th></th>\n",
              "      <th></th>\n",
              "      <th></th>\n",
              "      <th></th>\n",
              "      <th></th>\n",
              "      <th></th>\n",
              "      <th></th>\n",
              "      <th></th>\n",
              "      <th></th>\n",
              "      <th></th>\n",
              "      <th></th>\n",
              "      <th></th>\n",
              "      <th></th>\n",
              "      <th></th>\n",
              "      <th></th>\n",
              "      <th></th>\n",
              "    </tr>\n",
              "  </thead>\n",
              "  <tbody>\n",
              "    <tr>\n",
              "      <th>2020-01-02</th>\n",
              "      <td>85.398193</td>\n",
              "      <td>28.982893</td>\n",
              "      <td>158.154831</td>\n",
              "      <td>74.573036</td>\n",
              "      <td>84.852608</td>\n",
              "      <td>83.938957</td>\n",
              "      <td>168.809998</td>\n",
              "      <td>85.600449</td>\n",
              "      <td>206.829712</td>\n",
              "      <td>334.429993</td>\n",
              "      <td>...</td>\n",
              "      <td>100.399811</td>\n",
              "      <td>67.240555</td>\n",
              "      <td>56.502354</td>\n",
              "      <td>35.372929</td>\n",
              "      <td>79.031929</td>\n",
              "      <td>100.691872</td>\n",
              "      <td>148.258896</td>\n",
              "      <td>259.140015</td>\n",
              "      <td>50.968010</td>\n",
              "      <td>133.375900</td>\n",
              "    </tr>\n",
              "    <tr>\n",
              "      <th>2020-01-03</th>\n",
              "      <td>84.027046</td>\n",
              "      <td>27.548195</td>\n",
              "      <td>158.164749</td>\n",
              "      <td>73.848030</td>\n",
              "      <td>84.047203</td>\n",
              "      <td>82.883308</td>\n",
              "      <td>166.820007</td>\n",
              "      <td>84.556908</td>\n",
              "      <td>206.485229</td>\n",
              "      <td>331.809998</td>\n",
              "      <td>...</td>\n",
              "      <td>98.088585</td>\n",
              "      <td>66.699974</td>\n",
              "      <td>55.877087</td>\n",
              "      <td>34.913166</td>\n",
              "      <td>79.497108</td>\n",
              "      <td>100.376495</td>\n",
              "      <td>147.871353</td>\n",
              "      <td>256.049988</td>\n",
              "      <td>50.248787</td>\n",
              "      <td>133.395782</td>\n",
              "    </tr>\n",
              "    <tr>\n",
              "      <th>2020-01-06</th>\n",
              "      <td>84.275452</td>\n",
              "      <td>27.219410</td>\n",
              "      <td>155.565384</td>\n",
              "      <td>74.436470</td>\n",
              "      <td>84.710480</td>\n",
              "      <td>84.096809</td>\n",
              "      <td>179.039993</td>\n",
              "      <td>84.999916</td>\n",
              "      <td>205.136902</td>\n",
              "      <td>333.709991</td>\n",
              "      <td>...</td>\n",
              "      <td>96.044044</td>\n",
              "      <td>67.212105</td>\n",
              "      <td>56.184761</td>\n",
              "      <td>34.386356</td>\n",
              "      <td>78.982445</td>\n",
              "      <td>100.317375</td>\n",
              "      <td>147.016785</td>\n",
              "      <td>258.010010</td>\n",
              "      <td>49.636467</td>\n",
              "      <td>132.371658</td>\n",
              "    </tr>\n",
              "    <tr>\n",
              "      <th>2020-01-07</th>\n",
              "      <td>84.533775</td>\n",
              "      <td>27.119778</td>\n",
              "      <td>153.720047</td>\n",
              "      <td>74.086395</td>\n",
              "      <td>84.227234</td>\n",
              "      <td>83.494980</td>\n",
              "      <td>180.350006</td>\n",
              "      <td>84.527367</td>\n",
              "      <td>200.707962</td>\n",
              "      <td>333.390015</td>\n",
              "      <td>...</td>\n",
              "      <td>98.236748</td>\n",
              "      <td>66.662033</td>\n",
              "      <td>56.482506</td>\n",
              "      <td>34.434250</td>\n",
              "      <td>78.685516</td>\n",
              "      <td>100.494774</td>\n",
              "      <td>146.887604</td>\n",
              "      <td>256.470001</td>\n",
              "      <td>49.335167</td>\n",
              "      <td>132.819077</td>\n",
              "    </tr>\n",
              "    <tr>\n",
              "      <th>2020-01-08</th>\n",
              "      <td>85.368385</td>\n",
              "      <td>27.737495</td>\n",
              "      <td>151.954056</td>\n",
              "      <td>75.278160</td>\n",
              "      <td>84.824188</td>\n",
              "      <td>84.303986</td>\n",
              "      <td>178.690002</td>\n",
              "      <td>84.871948</td>\n",
              "      <td>201.101685</td>\n",
              "      <td>337.869995</td>\n",
              "      <td>...</td>\n",
              "      <td>97.960182</td>\n",
              "      <td>65.656754</td>\n",
              "      <td>57.077999</td>\n",
              "      <td>34.415089</td>\n",
              "      <td>78.952736</td>\n",
              "      <td>100.672165</td>\n",
              "      <td>148.646439</td>\n",
              "      <td>247.639999</td>\n",
              "      <td>49.821129</td>\n",
              "      <td>132.530716</td>\n",
              "    </tr>\n",
              "  </tbody>\n",
              "</table>\n",
              "<p>5 rows × 499 columns</p>\n",
              "</div>"
            ],
            "text/plain": [
              "                    A        AAL         AAP       AAPL       ABBV        ABC  \\\n",
              "Date                                                                            \n",
              "2020-01-02  85.398193  28.982893  158.154831  74.573036  84.852608  83.938957   \n",
              "2020-01-03  84.027046  27.548195  158.164749  73.848030  84.047203  82.883308   \n",
              "2020-01-06  84.275452  27.219410  155.565384  74.436470  84.710480  84.096809   \n",
              "2020-01-07  84.533775  27.119778  153.720047  74.086395  84.227234  83.494980   \n",
              "2020-01-08  85.368385  27.737495  151.954056  75.278160  84.824188  84.303986   \n",
              "\n",
              "                  ABMD        ABT         ACN        ADBE  ...        XLNX  \\\n",
              "Date                                                       ...               \n",
              "2020-01-02  168.809998  85.600449  206.829712  334.429993  ...  100.399811   \n",
              "2020-01-03  166.820007  84.556908  206.485229  331.809998  ...   98.088585   \n",
              "2020-01-06  179.039993  84.999916  205.136902  333.709991  ...   96.044044   \n",
              "2020-01-07  180.350006  84.527367  200.707962  333.390015  ...   98.236748   \n",
              "2020-01-08  178.690002  84.871948  201.101685  337.869995  ...   97.960182   \n",
              "\n",
              "                  XOM       XRAY        XRX        XYL         YUM  \\\n",
              "Date                                                                 \n",
              "2020-01-02  67.240555  56.502354  35.372929  79.031929  100.691872   \n",
              "2020-01-03  66.699974  55.877087  34.913166  79.497108  100.376495   \n",
              "2020-01-06  67.212105  56.184761  34.386356  78.982445  100.317375   \n",
              "2020-01-07  66.662033  56.482506  34.434250  78.685516  100.494774   \n",
              "2020-01-08  65.656754  57.077999  34.415089  78.952736  100.672165   \n",
              "\n",
              "                   ZBH        ZBRA       ZION         ZTS  \n",
              "Date                                                       \n",
              "2020-01-02  148.258896  259.140015  50.968010  133.375900  \n",
              "2020-01-03  147.871353  256.049988  50.248787  133.395782  \n",
              "2020-01-06  147.016785  258.010010  49.636467  132.371658  \n",
              "2020-01-07  146.887604  256.470001  49.335167  132.819077  \n",
              "2020-01-08  148.646439  247.639999  49.821129  132.530716  \n",
              "\n",
              "[5 rows x 499 columns]"
            ]
          },
          "execution_count": 36,
          "metadata": {},
          "output_type": "execute_result"
        }
      ],
      "source": [
        "price_df = pd.read_csv(\"stock_prices.csv\", parse_dates=[\"Date\"], index_col=\"Date\")\n",
        "# Drop cols with missing\n",
        "price_df = price_df.dropna(how=\"any\", axis=1)\n",
        "price_df.head()"
      ]
    },
    {
      "cell_type": "code",
      "execution_count": null,
      "metadata": {
        "id": "BvsvLPgf0OjQ",
        "outputId": "5bebfd4b-a93a-4991-d0cd-21d9ca5bf399"
      },
      "outputs": [
        {
          "data": {
            "text/html": [
              "<div>\n",
              "<style scoped>\n",
              "    .dataframe tbody tr th:only-of-type {\n",
              "        vertical-align: middle;\n",
              "    }\n",
              "\n",
              "    .dataframe tbody tr th {\n",
              "        vertical-align: top;\n",
              "    }\n",
              "\n",
              "    .dataframe thead th {\n",
              "        text-align: right;\n",
              "    }\n",
              "</style>\n",
              "<table border=\"1\" class=\"dataframe\">\n",
              "  <thead>\n",
              "    <tr style=\"text-align: right;\">\n",
              "      <th></th>\n",
              "      <th>SPY</th>\n",
              "    </tr>\n",
              "    <tr>\n",
              "      <th>Date</th>\n",
              "      <th></th>\n",
              "    </tr>\n",
              "  </thead>\n",
              "  <tbody>\n",
              "    <tr>\n",
              "      <th>2020-01-02</th>\n",
              "      <td>3257.850098</td>\n",
              "    </tr>\n",
              "    <tr>\n",
              "      <th>2020-01-03</th>\n",
              "      <td>3234.850098</td>\n",
              "    </tr>\n",
              "    <tr>\n",
              "      <th>2020-01-06</th>\n",
              "      <td>3246.280029</td>\n",
              "    </tr>\n",
              "    <tr>\n",
              "      <th>2020-01-07</th>\n",
              "      <td>3237.179932</td>\n",
              "    </tr>\n",
              "    <tr>\n",
              "      <th>2020-01-08</th>\n",
              "      <td>3253.050049</td>\n",
              "    </tr>\n",
              "  </tbody>\n",
              "</table>\n",
              "</div>"
            ],
            "text/plain": [
              "                    SPY\n",
              "Date                   \n",
              "2020-01-02  3257.850098\n",
              "2020-01-03  3234.850098\n",
              "2020-01-06  3246.280029\n",
              "2020-01-07  3237.179932\n",
              "2020-01-08  3253.050049"
            ]
          },
          "execution_count": 37,
          "metadata": {},
          "output_type": "execute_result"
        }
      ],
      "source": [
        "# spy_df = yf.download(\"^GSPC\", period=\"ytd\")[\"Adj Close\"]\n",
        "# spy_df.to_csv(\"spy_prices.csv\")\n",
        "spy_df = (\n",
        "    pd.read_csv(\"spy_prices.csv\", parse_dates=[\"Date\"], index_col=\"Date\")\n",
        "    .rename({\"Adj Close\":\"SPY\"}, axis=1)\n",
        ")\n",
        "spy_df.head()"
      ]
    },
    {
      "cell_type": "markdown",
      "metadata": {
        "id": "udleBAWu0OjR"
      },
      "source": [
        "## Computing betas"
      ]
    },
    {
      "cell_type": "code",
      "execution_count": null,
      "metadata": {
        "id": "4a7rniDj0OjS",
        "outputId": "5d30f77a-61e9-4336-f3db-281708f86184"
      },
      "outputs": [
        {
          "data": {
            "text/html": [
              "<div>\n",
              "<style scoped>\n",
              "    .dataframe tbody tr th:only-of-type {\n",
              "        vertical-align: middle;\n",
              "    }\n",
              "\n",
              "    .dataframe tbody tr th {\n",
              "        vertical-align: top;\n",
              "    }\n",
              "\n",
              "    .dataframe thead th {\n",
              "        text-align: right;\n",
              "    }\n",
              "</style>\n",
              "<table border=\"1\" class=\"dataframe\">\n",
              "  <thead>\n",
              "    <tr style=\"text-align: right;\">\n",
              "      <th></th>\n",
              "      <th>A</th>\n",
              "      <th>AAL</th>\n",
              "      <th>AAP</th>\n",
              "      <th>AAPL</th>\n",
              "      <th>ABBV</th>\n",
              "      <th>ABC</th>\n",
              "      <th>ABMD</th>\n",
              "      <th>ABT</th>\n",
              "      <th>ACN</th>\n",
              "      <th>ADBE</th>\n",
              "      <th>...</th>\n",
              "      <th>XRX</th>\n",
              "      <th>XYL</th>\n",
              "      <th>YUM</th>\n",
              "      <th>ZBH</th>\n",
              "      <th>ZBRA</th>\n",
              "      <th>ZION</th>\n",
              "      <th>ZTS</th>\n",
              "      <th>cases</th>\n",
              "      <th>deaths</th>\n",
              "      <th>SPY</th>\n",
              "    </tr>\n",
              "  </thead>\n",
              "  <tbody>\n",
              "    <tr>\n",
              "      <th>2020-02-19</th>\n",
              "      <td>84.802040</td>\n",
              "      <td>28.330000</td>\n",
              "      <td>139.016724</td>\n",
              "      <td>80.541367</td>\n",
              "      <td>90.406998</td>\n",
              "      <td>94.267532</td>\n",
              "      <td>167.899994</td>\n",
              "      <td>88.346695</td>\n",
              "      <td>213.330124</td>\n",
              "      <td>383.279999</td>\n",
              "      <td>...</td>\n",
              "      <td>35.219673</td>\n",
              "      <td>87.058846</td>\n",
              "      <td>104.132797</td>\n",
              "      <td>159.010651</td>\n",
              "      <td>240.500000</td>\n",
              "      <td>44.853638</td>\n",
              "      <td>143.446472</td>\n",
              "      <td>25</td>\n",
              "      <td>0</td>\n",
              "      <td>3386.149902</td>\n",
              "    </tr>\n",
              "    <tr>\n",
              "      <th>2020-02-20</th>\n",
              "      <td>83.798531</td>\n",
              "      <td>28.510000</td>\n",
              "      <td>141.358139</td>\n",
              "      <td>79.715088</td>\n",
              "      <td>90.493431</td>\n",
              "      <td>95.654846</td>\n",
              "      <td>168.080002</td>\n",
              "      <td>87.456902</td>\n",
              "      <td>211.334335</td>\n",
              "      <td>378.959991</td>\n",
              "      <td>...</td>\n",
              "      <td>35.229252</td>\n",
              "      <td>87.751678</td>\n",
              "      <td>102.826073</td>\n",
              "      <td>157.390930</td>\n",
              "      <td>242.720001</td>\n",
              "      <td>45.284451</td>\n",
              "      <td>142.938660</td>\n",
              "      <td>27</td>\n",
              "      <td>0</td>\n",
              "      <td>3373.229980</td>\n",
              "    </tr>\n",
              "    <tr>\n",
              "      <th>2020-02-21</th>\n",
              "      <td>84.523842</td>\n",
              "      <td>27.820000</td>\n",
              "      <td>139.502869</td>\n",
              "      <td>77.910744</td>\n",
              "      <td>91.194481</td>\n",
              "      <td>96.120583</td>\n",
              "      <td>166.740005</td>\n",
              "      <td>86.458351</td>\n",
              "      <td>209.348465</td>\n",
              "      <td>372.950012</td>\n",
              "      <td>...</td>\n",
              "      <td>34.807800</td>\n",
              "      <td>87.613098</td>\n",
              "      <td>102.469681</td>\n",
              "      <td>156.397232</td>\n",
              "      <td>238.389999</td>\n",
              "      <td>44.481567</td>\n",
              "      <td>141.624268</td>\n",
              "      <td>30</td>\n",
              "      <td>0</td>\n",
              "      <td>3337.750000</td>\n",
              "    </tr>\n",
              "    <tr>\n",
              "      <th>2020-02-24</th>\n",
              "      <td>79.983185</td>\n",
              "      <td>25.450001</td>\n",
              "      <td>138.808395</td>\n",
              "      <td>74.209946</td>\n",
              "      <td>89.446648</td>\n",
              "      <td>94.069351</td>\n",
              "      <td>165.289993</td>\n",
              "      <td>83.670326</td>\n",
              "      <td>201.908783</td>\n",
              "      <td>357.410004</td>\n",
              "      <td>...</td>\n",
              "      <td>33.390205</td>\n",
              "      <td>85.544518</td>\n",
              "      <td>99.242447</td>\n",
              "      <td>153.356537</td>\n",
              "      <td>227.399994</td>\n",
              "      <td>42.846432</td>\n",
              "      <td>137.800613</td>\n",
              "      <td>43</td>\n",
              "      <td>0</td>\n",
              "      <td>3225.889893</td>\n",
              "    </tr>\n",
              "    <tr>\n",
              "      <th>2020-02-25</th>\n",
              "      <td>77.449554</td>\n",
              "      <td>23.120001</td>\n",
              "      <td>136.516586</td>\n",
              "      <td>71.696297</td>\n",
              "      <td>85.643684</td>\n",
              "      <td>92.087479</td>\n",
              "      <td>158.800003</td>\n",
              "      <td>80.210014</td>\n",
              "      <td>194.735870</td>\n",
              "      <td>347.799988</td>\n",
              "      <td>...</td>\n",
              "      <td>34.922745</td>\n",
              "      <td>83.466026</td>\n",
              "      <td>96.965561</td>\n",
              "      <td>148.785553</td>\n",
              "      <td>220.000000</td>\n",
              "      <td>41.495243</td>\n",
              "      <td>134.245834</td>\n",
              "      <td>45</td>\n",
              "      <td>0</td>\n",
              "      <td>3128.209961</td>\n",
              "    </tr>\n",
              "    <tr>\n",
              "      <th>...</th>\n",
              "      <td>...</td>\n",
              "      <td>...</td>\n",
              "      <td>...</td>\n",
              "      <td>...</td>\n",
              "      <td>...</td>\n",
              "      <td>...</td>\n",
              "      <td>...</td>\n",
              "      <td>...</td>\n",
              "      <td>...</td>\n",
              "      <td>...</td>\n",
              "      <td>...</td>\n",
              "      <td>...</td>\n",
              "      <td>...</td>\n",
              "      <td>...</td>\n",
              "      <td>...</td>\n",
              "      <td>...</td>\n",
              "      <td>...</td>\n",
              "      <td>...</td>\n",
              "      <td>...</td>\n",
              "      <td>...</td>\n",
              "      <td>...</td>\n",
              "    </tr>\n",
              "    <tr>\n",
              "      <th>2020-10-26</th>\n",
              "      <td>104.629997</td>\n",
              "      <td>11.800000</td>\n",
              "      <td>151.210007</td>\n",
              "      <td>115.050003</td>\n",
              "      <td>83.919998</td>\n",
              "      <td>98.370003</td>\n",
              "      <td>288.320007</td>\n",
              "      <td>109.000000</td>\n",
              "      <td>219.229996</td>\n",
              "      <td>475.200012</td>\n",
              "      <td>...</td>\n",
              "      <td>18.920000</td>\n",
              "      <td>90.070000</td>\n",
              "      <td>99.199997</td>\n",
              "      <td>139.509995</td>\n",
              "      <td>295.100006</td>\n",
              "      <td>32.459999</td>\n",
              "      <td>160.479996</td>\n",
              "      <td>8777118</td>\n",
              "      <td>225698</td>\n",
              "      <td>3400.969971</td>\n",
              "    </tr>\n",
              "    <tr>\n",
              "      <th>2020-10-27</th>\n",
              "      <td>106.040001</td>\n",
              "      <td>11.230000</td>\n",
              "      <td>150.410004</td>\n",
              "      <td>116.599998</td>\n",
              "      <td>82.709999</td>\n",
              "      <td>97.650002</td>\n",
              "      <td>290.510010</td>\n",
              "      <td>108.580002</td>\n",
              "      <td>220.660004</td>\n",
              "      <td>478.559998</td>\n",
              "      <td>...</td>\n",
              "      <td>18.520000</td>\n",
              "      <td>89.059998</td>\n",
              "      <td>97.989998</td>\n",
              "      <td>138.600006</td>\n",
              "      <td>289.279999</td>\n",
              "      <td>31.080000</td>\n",
              "      <td>162.470001</td>\n",
              "      <td>8851546</td>\n",
              "      <td>226681</td>\n",
              "      <td>3390.679932</td>\n",
              "    </tr>\n",
              "    <tr>\n",
              "      <th>2020-10-28</th>\n",
              "      <td>101.660004</td>\n",
              "      <td>10.950000</td>\n",
              "      <td>146.380005</td>\n",
              "      <td>111.199997</td>\n",
              "      <td>80.489998</td>\n",
              "      <td>95.699997</td>\n",
              "      <td>283.000000</td>\n",
              "      <td>106.419998</td>\n",
              "      <td>213.940002</td>\n",
              "      <td>456.970001</td>\n",
              "      <td>...</td>\n",
              "      <td>17.230000</td>\n",
              "      <td>87.349998</td>\n",
              "      <td>95.059998</td>\n",
              "      <td>133.369995</td>\n",
              "      <td>285.200012</td>\n",
              "      <td>30.600000</td>\n",
              "      <td>158.690002</td>\n",
              "      <td>8933448</td>\n",
              "      <td>227697</td>\n",
              "      <td>3271.030029</td>\n",
              "    </tr>\n",
              "    <tr>\n",
              "      <th>2020-10-29</th>\n",
              "      <td>102.019997</td>\n",
              "      <td>11.160000</td>\n",
              "      <td>146.000000</td>\n",
              "      <td>115.320000</td>\n",
              "      <td>80.669998</td>\n",
              "      <td>94.589996</td>\n",
              "      <td>254.610001</td>\n",
              "      <td>105.000000</td>\n",
              "      <td>216.440002</td>\n",
              "      <td>461.109985</td>\n",
              "      <td>...</td>\n",
              "      <td>17.650000</td>\n",
              "      <td>86.860001</td>\n",
              "      <td>94.940002</td>\n",
              "      <td>133.839996</td>\n",
              "      <td>291.970001</td>\n",
              "      <td>31.559999</td>\n",
              "      <td>161.190002</td>\n",
              "      <td>9024176</td>\n",
              "      <td>228701</td>\n",
              "      <td>3310.110107</td>\n",
              "    </tr>\n",
              "    <tr>\n",
              "      <th>2020-10-30</th>\n",
              "      <td>102.089996</td>\n",
              "      <td>11.280000</td>\n",
              "      <td>147.279999</td>\n",
              "      <td>108.860001</td>\n",
              "      <td>85.099998</td>\n",
              "      <td>96.070000</td>\n",
              "      <td>251.880005</td>\n",
              "      <td>105.110001</td>\n",
              "      <td>216.910004</td>\n",
              "      <td>447.100006</td>\n",
              "      <td>...</td>\n",
              "      <td>17.379999</td>\n",
              "      <td>87.139999</td>\n",
              "      <td>93.330002</td>\n",
              "      <td>132.100006</td>\n",
              "      <td>283.640015</td>\n",
              "      <td>32.270000</td>\n",
              "      <td>158.550003</td>\n",
              "      <td>9123960</td>\n",
              "      <td>229672</td>\n",
              "      <td>3269.959961</td>\n",
              "    </tr>\n",
              "  </tbody>\n",
              "</table>\n",
              "<p>179 rows × 502 columns</p>\n",
              "</div>"
            ],
            "text/plain": [
              "                     A        AAL         AAP        AAPL       ABBV  \\\n",
              "2020-02-19   84.802040  28.330000  139.016724   80.541367  90.406998   \n",
              "2020-02-20   83.798531  28.510000  141.358139   79.715088  90.493431   \n",
              "2020-02-21   84.523842  27.820000  139.502869   77.910744  91.194481   \n",
              "2020-02-24   79.983185  25.450001  138.808395   74.209946  89.446648   \n",
              "2020-02-25   77.449554  23.120001  136.516586   71.696297  85.643684   \n",
              "...                ...        ...         ...         ...        ...   \n",
              "2020-10-26  104.629997  11.800000  151.210007  115.050003  83.919998   \n",
              "2020-10-27  106.040001  11.230000  150.410004  116.599998  82.709999   \n",
              "2020-10-28  101.660004  10.950000  146.380005  111.199997  80.489998   \n",
              "2020-10-29  102.019997  11.160000  146.000000  115.320000  80.669998   \n",
              "2020-10-30  102.089996  11.280000  147.279999  108.860001  85.099998   \n",
              "\n",
              "                  ABC        ABMD         ABT         ACN        ADBE  ...  \\\n",
              "2020-02-19  94.267532  167.899994   88.346695  213.330124  383.279999  ...   \n",
              "2020-02-20  95.654846  168.080002   87.456902  211.334335  378.959991  ...   \n",
              "2020-02-21  96.120583  166.740005   86.458351  209.348465  372.950012  ...   \n",
              "2020-02-24  94.069351  165.289993   83.670326  201.908783  357.410004  ...   \n",
              "2020-02-25  92.087479  158.800003   80.210014  194.735870  347.799988  ...   \n",
              "...               ...         ...         ...         ...         ...  ...   \n",
              "2020-10-26  98.370003  288.320007  109.000000  219.229996  475.200012  ...   \n",
              "2020-10-27  97.650002  290.510010  108.580002  220.660004  478.559998  ...   \n",
              "2020-10-28  95.699997  283.000000  106.419998  213.940002  456.970001  ...   \n",
              "2020-10-29  94.589996  254.610001  105.000000  216.440002  461.109985  ...   \n",
              "2020-10-30  96.070000  251.880005  105.110001  216.910004  447.100006  ...   \n",
              "\n",
              "                  XRX        XYL         YUM         ZBH        ZBRA  \\\n",
              "2020-02-19  35.219673  87.058846  104.132797  159.010651  240.500000   \n",
              "2020-02-20  35.229252  87.751678  102.826073  157.390930  242.720001   \n",
              "2020-02-21  34.807800  87.613098  102.469681  156.397232  238.389999   \n",
              "2020-02-24  33.390205  85.544518   99.242447  153.356537  227.399994   \n",
              "2020-02-25  34.922745  83.466026   96.965561  148.785553  220.000000   \n",
              "...               ...        ...         ...         ...         ...   \n",
              "2020-10-26  18.920000  90.070000   99.199997  139.509995  295.100006   \n",
              "2020-10-27  18.520000  89.059998   97.989998  138.600006  289.279999   \n",
              "2020-10-28  17.230000  87.349998   95.059998  133.369995  285.200012   \n",
              "2020-10-29  17.650000  86.860001   94.940002  133.839996  291.970001   \n",
              "2020-10-30  17.379999  87.139999   93.330002  132.100006  283.640015   \n",
              "\n",
              "                 ZION         ZTS    cases  deaths          SPY  \n",
              "2020-02-19  44.853638  143.446472       25       0  3386.149902  \n",
              "2020-02-20  45.284451  142.938660       27       0  3373.229980  \n",
              "2020-02-21  44.481567  141.624268       30       0  3337.750000  \n",
              "2020-02-24  42.846432  137.800613       43       0  3225.889893  \n",
              "2020-02-25  41.495243  134.245834       45       0  3128.209961  \n",
              "...               ...         ...      ...     ...          ...  \n",
              "2020-10-26  32.459999  160.479996  8777118  225698  3400.969971  \n",
              "2020-10-27  31.080000  162.470001  8851546  226681  3390.679932  \n",
              "2020-10-28  30.600000  158.690002  8933448  227697  3271.030029  \n",
              "2020-10-29  31.559999  161.190002  9024176  228701  3310.110107  \n",
              "2020-10-30  32.270000  158.550003  9123960  229672  3269.959961  \n",
              "\n",
              "[179 rows x 502 columns]"
            ]
          },
          "execution_count": 38,
          "metadata": {},
          "output_type": "execute_result"
        }
      ],
      "source": [
        "joined = price_df.join(covid, how=\"inner\").join(spy_df, how=\"inner\")\n",
        "tickerlist = joined.columns[:-3]\n",
        "joined.iloc[20:]"
      ]
    },
    {
      "cell_type": "code",
      "execution_count": null,
      "metadata": {
        "id": "ycFJBDxt0OjT"
      },
      "outputs": [],
      "source": [
        "# Regression approach\n",
        "from sklearn import linear_model\n",
        "\n",
        "rets = joined.pct_change().dropna()\n",
        "betas = {}\n",
        "\n",
        "for ticker in tickerlist:\n",
        "    try:\n",
        "        reg = linear_model.LinearRegression()\n",
        "        reg.fit(rets[[\"cases\", \"SPY\"]],rets[ticker])\n",
        "        betas[ticker] = reg.coef_\n",
        "    except:\n",
        "        print(ticker)\n",
        "    \n"
      ]
    },
    {
      "cell_type": "code",
      "execution_count": null,
      "metadata": {
        "id": "xSrvQROu0OjU"
      },
      "outputs": [],
      "source": [
        "betas = pd.DataFrame(betas, index=[\"cases_beta\", \"SPY_beta\"]).transpose()"
      ]
    },
    {
      "cell_type": "code",
      "execution_count": null,
      "metadata": {
        "id": "dngu0NrL0OjV",
        "outputId": "775e2117-a957-4489-c72d-b9f0950c7d7c"
      },
      "outputs": [
        {
          "data": {
            "text/html": [
              "<div>\n",
              "<style scoped>\n",
              "    .dataframe tbody tr th:only-of-type {\n",
              "        vertical-align: middle;\n",
              "    }\n",
              "\n",
              "    .dataframe tbody tr th {\n",
              "        vertical-align: top;\n",
              "    }\n",
              "\n",
              "    .dataframe thead th {\n",
              "        text-align: right;\n",
              "    }\n",
              "</style>\n",
              "<table border=\"1\" class=\"dataframe\">\n",
              "  <thead>\n",
              "    <tr style=\"text-align: right;\">\n",
              "      <th></th>\n",
              "      <th>Symbol</th>\n",
              "      <th>Name</th>\n",
              "      <th>Sector</th>\n",
              "      <th>Price</th>\n",
              "      <th>Price/Earnings</th>\n",
              "      <th>Dividend Yield</th>\n",
              "      <th>Earnings/Share</th>\n",
              "      <th>52 Week Low</th>\n",
              "      <th>52 Week High</th>\n",
              "      <th>Market Cap</th>\n",
              "      <th>EBITDA</th>\n",
              "      <th>Price/Sales</th>\n",
              "      <th>Price/Book</th>\n",
              "      <th>SEC Filings</th>\n",
              "      <th>cases_beta</th>\n",
              "      <th>SPY_beta</th>\n",
              "    </tr>\n",
              "  </thead>\n",
              "  <tbody>\n",
              "    <tr>\n",
              "      <th>0</th>\n",
              "      <td>MMM</td>\n",
              "      <td>3M Company</td>\n",
              "      <td>Industrials</td>\n",
              "      <td>222.89</td>\n",
              "      <td>24.31</td>\n",
              "      <td>2.332862</td>\n",
              "      <td>7.92</td>\n",
              "      <td>259.77</td>\n",
              "      <td>175.490</td>\n",
              "      <td>138721055226</td>\n",
              "      <td>9.048000e+09</td>\n",
              "      <td>4.390271</td>\n",
              "      <td>11.34</td>\n",
              "      <td>http://www.sec.gov/cgi-bin/browse-edgar?action...</td>\n",
              "      <td>-0.001437</td>\n",
              "      <td>0.840696</td>\n",
              "    </tr>\n",
              "    <tr>\n",
              "      <th>1</th>\n",
              "      <td>AOS</td>\n",
              "      <td>A.O. Smith Corp</td>\n",
              "      <td>Industrials</td>\n",
              "      <td>60.24</td>\n",
              "      <td>27.76</td>\n",
              "      <td>1.147959</td>\n",
              "      <td>1.70</td>\n",
              "      <td>68.39</td>\n",
              "      <td>48.925</td>\n",
              "      <td>10783419933</td>\n",
              "      <td>6.010000e+08</td>\n",
              "      <td>3.575483</td>\n",
              "      <td>6.35</td>\n",
              "      <td>http://www.sec.gov/cgi-bin/browse-edgar?action...</td>\n",
              "      <td>0.013047</td>\n",
              "      <td>0.718005</td>\n",
              "    </tr>\n",
              "    <tr>\n",
              "      <th>2</th>\n",
              "      <td>ABT</td>\n",
              "      <td>Abbott Laboratories</td>\n",
              "      <td>Health Care</td>\n",
              "      <td>56.27</td>\n",
              "      <td>22.51</td>\n",
              "      <td>1.908982</td>\n",
              "      <td>0.26</td>\n",
              "      <td>64.60</td>\n",
              "      <td>42.280</td>\n",
              "      <td>102121042306</td>\n",
              "      <td>5.744000e+09</td>\n",
              "      <td>3.740480</td>\n",
              "      <td>3.19</td>\n",
              "      <td>http://www.sec.gov/cgi-bin/browse-edgar?action...</td>\n",
              "      <td>-0.002372</td>\n",
              "      <td>0.855342</td>\n",
              "    </tr>\n",
              "    <tr>\n",
              "      <th>3</th>\n",
              "      <td>ABBV</td>\n",
              "      <td>AbbVie Inc.</td>\n",
              "      <td>Health Care</td>\n",
              "      <td>108.48</td>\n",
              "      <td>19.41</td>\n",
              "      <td>2.499560</td>\n",
              "      <td>3.29</td>\n",
              "      <td>125.86</td>\n",
              "      <td>60.050</td>\n",
              "      <td>181386347059</td>\n",
              "      <td>1.031000e+10</td>\n",
              "      <td>6.291571</td>\n",
              "      <td>26.14</td>\n",
              "      <td>http://www.sec.gov/cgi-bin/browse-edgar?action...</td>\n",
              "      <td>-0.011371</td>\n",
              "      <td>0.681354</td>\n",
              "    </tr>\n",
              "    <tr>\n",
              "      <th>4</th>\n",
              "      <td>ACN</td>\n",
              "      <td>Accenture plc</td>\n",
              "      <td>Information Technology</td>\n",
              "      <td>150.51</td>\n",
              "      <td>25.47</td>\n",
              "      <td>1.714470</td>\n",
              "      <td>5.44</td>\n",
              "      <td>162.60</td>\n",
              "      <td>114.820</td>\n",
              "      <td>98765855553</td>\n",
              "      <td>5.643228e+09</td>\n",
              "      <td>2.604117</td>\n",
              "      <td>10.62</td>\n",
              "      <td>http://www.sec.gov/cgi-bin/browse-edgar?action...</td>\n",
              "      <td>0.005272</td>\n",
              "      <td>1.051471</td>\n",
              "    </tr>\n",
              "  </tbody>\n",
              "</table>\n",
              "</div>"
            ],
            "text/plain": [
              "  Symbol                 Name                  Sector   Price  Price/Earnings  \\\n",
              "0    MMM           3M Company             Industrials  222.89           24.31   \n",
              "1    AOS      A.O. Smith Corp             Industrials   60.24           27.76   \n",
              "2    ABT  Abbott Laboratories             Health Care   56.27           22.51   \n",
              "3   ABBV          AbbVie Inc.             Health Care  108.48           19.41   \n",
              "4    ACN        Accenture plc  Information Technology  150.51           25.47   \n",
              "\n",
              "   Dividend Yield  Earnings/Share  52 Week Low  52 Week High    Market Cap  \\\n",
              "0        2.332862            7.92       259.77       175.490  138721055226   \n",
              "1        1.147959            1.70        68.39        48.925   10783419933   \n",
              "2        1.908982            0.26        64.60        42.280  102121042306   \n",
              "3        2.499560            3.29       125.86        60.050  181386347059   \n",
              "4        1.714470            5.44       162.60       114.820   98765855553   \n",
              "\n",
              "         EBITDA  Price/Sales  Price/Book  \\\n",
              "0  9.048000e+09     4.390271       11.34   \n",
              "1  6.010000e+08     3.575483        6.35   \n",
              "2  5.744000e+09     3.740480        3.19   \n",
              "3  1.031000e+10     6.291571       26.14   \n",
              "4  5.643228e+09     2.604117       10.62   \n",
              "\n",
              "                                         SEC Filings  cases_beta  SPY_beta  \n",
              "0  http://www.sec.gov/cgi-bin/browse-edgar?action...   -0.001437  0.840696  \n",
              "1  http://www.sec.gov/cgi-bin/browse-edgar?action...    0.013047  0.718005  \n",
              "2  http://www.sec.gov/cgi-bin/browse-edgar?action...   -0.002372  0.855342  \n",
              "3  http://www.sec.gov/cgi-bin/browse-edgar?action...   -0.011371  0.681354  \n",
              "4  http://www.sec.gov/cgi-bin/browse-edgar?action...    0.005272  1.051471  "
            ]
          },
          "execution_count": 41,
          "metadata": {},
          "output_type": "execute_result"
        }
      ],
      "source": [
        "df_merged = df.merge(betas, left_on=\"Symbol\", right_index=True, how=\"inner\")\n",
        "df_merged.head()"
      ]
    },
    {
      "cell_type": "markdown",
      "metadata": {
        "id": "HmE3cJZv0OjW"
      },
      "source": [
        "## Data analysis"
      ]
    },
    {
      "cell_type": "code",
      "execution_count": null,
      "metadata": {
        "id": "PmE0pVoI0OjX",
        "outputId": "ba7e1141-5a0a-4ba7-9f74-d370a015f839"
      },
      "outputs": [
        {
          "data": {
            "image/png": "[encoded data removed]",
            "text/plain": [
              "<Figure size 432x288 with 1 Axes>"
            ]
          },
          "metadata": {
            "needs_background": "light"
          },
          "output_type": "display_data"
        }
      ],
      "source": [
        "df_merged.cases_beta.hist(bins=50);"
      ]
    },
    {
      "cell_type": "code",
      "execution_count": null,
      "metadata": {
        "id": "1r9o8OEK0OjY",
        "outputId": "a0f4f065-acd0-4701-8c63-2c6e30f92f6f"
      },
      "outputs": [
        {
          "data": {
            "text/html": [
              "<div>\n",
              "<style scoped>\n",
              "    .dataframe tbody tr th:only-of-type {\n",
              "        vertical-align: middle;\n",
              "    }\n",
              "\n",
              "    .dataframe tbody tr th {\n",
              "        vertical-align: top;\n",
              "    }\n",
              "\n",
              "    .dataframe thead th {\n",
              "        text-align: right;\n",
              "    }\n",
              "</style>\n",
              "<table border=\"1\" class=\"dataframe\">\n",
              "  <thead>\n",
              "    <tr style=\"text-align: right;\">\n",
              "      <th></th>\n",
              "      <th>Symbol</th>\n",
              "      <th>Name</th>\n",
              "      <th>Sector</th>\n",
              "      <th>Price</th>\n",
              "      <th>Price/Earnings</th>\n",
              "      <th>Dividend Yield</th>\n",
              "      <th>Earnings/Share</th>\n",
              "      <th>52 Week Low</th>\n",
              "      <th>52 Week High</th>\n",
              "      <th>Market Cap</th>\n",
              "      <th>EBITDA</th>\n",
              "      <th>Price/Sales</th>\n",
              "      <th>Price/Book</th>\n",
              "      <th>SEC Filings</th>\n",
              "      <th>cases_beta</th>\n",
              "      <th>SPY_beta</th>\n",
              "    </tr>\n",
              "  </thead>\n",
              "  <tbody>\n",
              "    <tr>\n",
              "      <th>49</th>\n",
              "      <td>APA</td>\n",
              "      <td>Apache Corporation</td>\n",
              "      <td>Energy</td>\n",
              "      <td>37.73</td>\n",
              "      <td>-251.53</td>\n",
              "      <td>2.528445</td>\n",
              "      <td>-3.72</td>\n",
              "      <td>57.90</td>\n",
              "      <td>38.140</td>\n",
              "      <td>15066280977</td>\n",
              "      <td>3.265000e+09</td>\n",
              "      <td>3.651366</td>\n",
              "      <td>2.22</td>\n",
              "      <td>http://www.sec.gov/cgi-bin/browse-edgar?action...</td>\n",
              "      <td>-0.129761</td>\n",
              "      <td>1.671640</td>\n",
              "    </tr>\n",
              "    <tr>\n",
              "      <th>346</th>\n",
              "      <td>OXY</td>\n",
              "      <td>Occidental Petroleum</td>\n",
              "      <td>Energy</td>\n",
              "      <td>68.47</td>\n",
              "      <td>195.63</td>\n",
              "      <td>4.408186</td>\n",
              "      <td>-0.75</td>\n",
              "      <td>78.09</td>\n",
              "      <td>57.200</td>\n",
              "      <td>53467692395</td>\n",
              "      <td>5.205000e+09</td>\n",
              "      <td>6.044895</td>\n",
              "      <td>NaN</td>\n",
              "      <td>http://www.sec.gov/cgi-bin/browse-edgar?action...</td>\n",
              "      <td>-0.082103</td>\n",
              "      <td>1.638488</td>\n",
              "    </tr>\n",
              "    <tr>\n",
              "      <th>292</th>\n",
              "      <td>MRO</td>\n",
              "      <td>Marathon Oil Corp.</td>\n",
              "      <td>Energy</td>\n",
              "      <td>15.68</td>\n",
              "      <td>-32.00</td>\n",
              "      <td>1.224740</td>\n",
              "      <td>-2.65</td>\n",
              "      <td>19.52</td>\n",
              "      <td>10.550</td>\n",
              "      <td>13875005314</td>\n",
              "      <td>2.266000e+09</td>\n",
              "      <td>4.657875</td>\n",
              "      <td>NaN</td>\n",
              "      <td>http://www.sec.gov/cgi-bin/browse-edgar?action...</td>\n",
              "      <td>-0.081550</td>\n",
              "      <td>1.264306</td>\n",
              "    </tr>\n",
              "    <tr>\n",
              "      <th>348</th>\n",
              "      <td>OKE</td>\n",
              "      <td>ONEOK</td>\n",
              "      <td>Energy</td>\n",
              "      <td>54.40</td>\n",
              "      <td>34.00</td>\n",
              "      <td>5.443620</td>\n",
              "      <td>1.66</td>\n",
              "      <td>61.36</td>\n",
              "      <td>47.140</td>\n",
              "      <td>21988472489</td>\n",
              "      <td>1.851783e+09</td>\n",
              "      <td>2.615956</td>\n",
              "      <td>4.03</td>\n",
              "      <td>http://www.sec.gov/cgi-bin/browse-edgar?action...</td>\n",
              "      <td>-0.069308</td>\n",
              "      <td>1.493620</td>\n",
              "    </tr>\n",
              "    <tr>\n",
              "      <th>205</th>\n",
              "      <td>GPS</td>\n",
              "      <td>Gap Inc.</td>\n",
              "      <td>Consumer Discretionary</td>\n",
              "      <td>31.17</td>\n",
              "      <td>15.35</td>\n",
              "      <td>2.820356</td>\n",
              "      <td>1.69</td>\n",
              "      <td>35.68</td>\n",
              "      <td>21.020</td>\n",
              "      <td>12684517721</td>\n",
              "      <td>1.959000e+09</td>\n",
              "      <td>1.128974</td>\n",
              "      <td>3.93</td>\n",
              "      <td>http://www.sec.gov/cgi-bin/browse-edgar?action...</td>\n",
              "      <td>-0.051908</td>\n",
              "      <td>1.439469</td>\n",
              "    </tr>\n",
              "    <tr>\n",
              "      <th>430</th>\n",
              "      <td>TPR</td>\n",
              "      <td>Tapestry, Inc.</td>\n",
              "      <td>Consumer Discretionary</td>\n",
              "      <td>48.85</td>\n",
              "      <td>NaN</td>\n",
              "      <td>0.000000</td>\n",
              "      <td>2.09</td>\n",
              "      <td>50.71</td>\n",
              "      <td>36.690</td>\n",
              "      <td>14247199374</td>\n",
              "      <td>0.000000e+00</td>\n",
              "      <td>4.078549</td>\n",
              "      <td>4.35</td>\n",
              "      <td>http://www.sec.gov/cgi-bin/browse-edgar?action...</td>\n",
              "      <td>-0.048289</td>\n",
              "      <td>1.583849</td>\n",
              "    </tr>\n",
              "    <tr>\n",
              "      <th>229</th>\n",
              "      <td>HES</td>\n",
              "      <td>Hess Corporation</td>\n",
              "      <td>Energy</td>\n",
              "      <td>43.00</td>\n",
              "      <td>-9.33</td>\n",
              "      <td>2.267060</td>\n",
              "      <td>-19.94</td>\n",
              "      <td>55.48</td>\n",
              "      <td>37.250</td>\n",
              "      <td>14016129999</td>\n",
              "      <td>-8.190000e+08</td>\n",
              "      <td>3.780475</td>\n",
              "      <td>1.08</td>\n",
              "      <td>http://www.sec.gov/cgi-bin/browse-edgar?action...</td>\n",
              "      <td>-0.048166</td>\n",
              "      <td>1.361802</td>\n",
              "    </tr>\n",
              "    <tr>\n",
              "      <th>272</th>\n",
              "      <td>KSS</td>\n",
              "      <td>Kohl's Corp.</td>\n",
              "      <td>Consumer Discretionary</td>\n",
              "      <td>60.34</td>\n",
              "      <td>16.01</td>\n",
              "      <td>3.496504</td>\n",
              "      <td>3.12</td>\n",
              "      <td>69.14</td>\n",
              "      <td>35.160</td>\n",
              "      <td>10570861198</td>\n",
              "      <td>2.286000e+09</td>\n",
              "      <td>0.855776</td>\n",
              "      <td>2.04</td>\n",
              "      <td>http://www.sec.gov/cgi-bin/browse-edgar?action...</td>\n",
              "      <td>-0.047111</td>\n",
              "      <td>1.400060</td>\n",
              "    </tr>\n",
              "    <tr>\n",
              "      <th>219</th>\n",
              "      <td>HAL</td>\n",
              "      <td>Halliburton Co.</td>\n",
              "      <td>Energy</td>\n",
              "      <td>47.41</td>\n",
              "      <td>38.86</td>\n",
              "      <td>1.448984</td>\n",
              "      <td>-0.53</td>\n",
              "      <td>57.86</td>\n",
              "      <td>38.181</td>\n",
              "      <td>43356557470</td>\n",
              "      <td>2.910000e+09</td>\n",
              "      <td>2.142422</td>\n",
              "      <td>4.74</td>\n",
              "      <td>http://www.sec.gov/cgi-bin/browse-edgar?action...</td>\n",
              "      <td>-0.047069</td>\n",
              "      <td>1.762542</td>\n",
              "    </tr>\n",
              "    <tr>\n",
              "      <th>406</th>\n",
              "      <td>SLB</td>\n",
              "      <td>Schlumberger Ltd.</td>\n",
              "      <td>Energy</td>\n",
              "      <td>67.40</td>\n",
              "      <td>44.93</td>\n",
              "      <td>2.867383</td>\n",
              "      <td>-1.08</td>\n",
              "      <td>82.71</td>\n",
              "      <td>61.020</td>\n",
              "      <td>96529311126</td>\n",
              "      <td>3.222000e+09</td>\n",
              "      <td>3.229783</td>\n",
              "      <td>2.64</td>\n",
              "      <td>http://www.sec.gov/cgi-bin/browse-edgar?action...</td>\n",
              "      <td>-0.043947</td>\n",
              "      <td>1.383478</td>\n",
              "    </tr>\n",
              "  </tbody>\n",
              "</table>\n",
              "</div>"
            ],
            "text/plain": [
              "    Symbol                  Name                  Sector  Price  \\\n",
              "49     APA    Apache Corporation                  Energy  37.73   \n",
              "346    OXY  Occidental Petroleum                  Energy  68.47   \n",
              "292    MRO    Marathon Oil Corp.                  Energy  15.68   \n",
              "348    OKE                 ONEOK                  Energy  54.40   \n",
              "205    GPS              Gap Inc.  Consumer Discretionary  31.17   \n",
              "430    TPR        Tapestry, Inc.  Consumer Discretionary  48.85   \n",
              "229    HES      Hess Corporation                  Energy  43.00   \n",
              "272    KSS          Kohl's Corp.  Consumer Discretionary  60.34   \n",
              "219    HAL       Halliburton Co.                  Energy  47.41   \n",
              "406    SLB     Schlumberger Ltd.                  Energy  67.40   \n",
              "\n",
              "     Price/Earnings  Dividend Yield  Earnings/Share  52 Week Low  \\\n",
              "49          -251.53        2.528445           -3.72        57.90   \n",
              "346          195.63        4.408186           -0.75        78.09   \n",
              "292          -32.00        1.224740           -2.65        19.52   \n",
              "348           34.00        5.443620            1.66        61.36   \n",
              "205           15.35        2.820356            1.69        35.68   \n",
              "430             NaN        0.000000            2.09        50.71   \n",
              "229           -9.33        2.267060          -19.94        55.48   \n",
              "272           16.01        3.496504            3.12        69.14   \n",
              "219           38.86        1.448984           -0.53        57.86   \n",
              "406           44.93        2.867383           -1.08        82.71   \n",
              "\n",
              "     52 Week High   Market Cap        EBITDA  Price/Sales  Price/Book  \\\n",
              "49         38.140  15066280977  3.265000e+09     3.651366        2.22   \n",
              "346        57.200  53467692395  5.205000e+09     6.044895         NaN   \n",
              "292        10.550  13875005314  2.266000e+09     4.657875         NaN   \n",
              "348        47.140  21988472489  1.851783e+09     2.615956        4.03   \n",
              "205        21.020  12684517721  1.959000e+09     1.128974        3.93   \n",
              "430        36.690  14247199374  0.000000e+00     4.078549        4.35   \n",
              "229        37.250  14016129999 -8.190000e+08     3.780475        1.08   \n",
              "272        35.160  10570861198  2.286000e+09     0.855776        2.04   \n",
              "219        38.181  43356557470  2.910000e+09     2.142422        4.74   \n",
              "406        61.020  96529311126  3.222000e+09     3.229783        2.64   \n",
              "\n",
              "                                           SEC Filings  cases_beta  SPY_beta  \n",
              "49   http://www.sec.gov/cgi-bin/browse-edgar?action...   -0.129761  1.671640  \n",
              "346  http://www.sec.gov/cgi-bin/browse-edgar?action...   -0.082103  1.638488  \n",
              "292  http://www.sec.gov/cgi-bin/browse-edgar?action...   -0.081550  1.264306  \n",
              "348  http://www.sec.gov/cgi-bin/browse-edgar?action...   -0.069308  1.493620  \n",
              "205  http://www.sec.gov/cgi-bin/browse-edgar?action...   -0.051908  1.439469  \n",
              "430  http://www.sec.gov/cgi-bin/browse-edgar?action...   -0.048289  1.583849  \n",
              "229  http://www.sec.gov/cgi-bin/browse-edgar?action...   -0.048166  1.361802  \n",
              "272  http://www.sec.gov/cgi-bin/browse-edgar?action...   -0.047111  1.400060  \n",
              "219  http://www.sec.gov/cgi-bin/browse-edgar?action...   -0.047069  1.762542  \n",
              "406  http://www.sec.gov/cgi-bin/browse-edgar?action...   -0.043947  1.383478  "
            ]
          },
          "execution_count": 43,
          "metadata": {},
          "output_type": "execute_result"
        }
      ],
      "source": [
        "# Worst hit\n",
        "df_merged.sort_values(by=\"cases_beta\").iloc[:10]"
      ]
    },
    {
      "cell_type": "code",
      "execution_count": null,
      "metadata": {
        "id": "68taTXtH0OjY",
        "outputId": "503ff7f4-c6a1-4758-f643-15efc943f4a0"
      },
      "outputs": [
        {
          "data": {
            "text/html": [
              "<div>\n",
              "<style scoped>\n",
              "    .dataframe tbody tr th:only-of-type {\n",
              "        vertical-align: middle;\n",
              "    }\n",
              "\n",
              "    .dataframe tbody tr th {\n",
              "        vertical-align: top;\n",
              "    }\n",
              "\n",
              "    .dataframe thead th {\n",
              "        text-align: right;\n",
              "    }\n",
              "</style>\n",
              "<table border=\"1\" class=\"dataframe\">\n",
              "  <thead>\n",
              "    <tr style=\"text-align: right;\">\n",
              "      <th></th>\n",
              "      <th>Symbol</th>\n",
              "      <th>Name</th>\n",
              "      <th>Sector</th>\n",
              "      <th>Price</th>\n",
              "      <th>Price/Earnings</th>\n",
              "      <th>Dividend Yield</th>\n",
              "      <th>Earnings/Share</th>\n",
              "      <th>52 Week Low</th>\n",
              "      <th>52 Week High</th>\n",
              "      <th>Market Cap</th>\n",
              "      <th>EBITDA</th>\n",
              "      <th>Price/Sales</th>\n",
              "      <th>Price/Book</th>\n",
              "      <th>SEC Filings</th>\n",
              "      <th>cases_beta</th>\n",
              "      <th>SPY_beta</th>\n",
              "    </tr>\n",
              "  </thead>\n",
              "  <tbody>\n",
              "    <tr>\n",
              "      <th>480</th>\n",
              "      <td>WMT</td>\n",
              "      <td>Wal-Mart Stores</td>\n",
              "      <td>Consumer Staples</td>\n",
              "      <td>100.02</td>\n",
              "      <td>23.10</td>\n",
              "      <td>1.983471</td>\n",
              "      <td>4.39</td>\n",
              "      <td>109.98</td>\n",
              "      <td>66.8900</td>\n",
              "      <td>304680931618</td>\n",
              "      <td>3.072100e+10</td>\n",
              "      <td>0.820994</td>\n",
              "      <td>3.89</td>\n",
              "      <td>http://www.sec.gov/cgi-bin/browse-edgar?action...</td>\n",
              "      <td>0.021276</td>\n",
              "      <td>0.553764</td>\n",
              "    </tr>\n",
              "    <tr>\n",
              "      <th>326</th>\n",
              "      <td>NFLX</td>\n",
              "      <td>Netflix Inc.</td>\n",
              "      <td>Information Technology</td>\n",
              "      <td>250.10</td>\n",
              "      <td>200.08</td>\n",
              "      <td>0.000000</td>\n",
              "      <td>1.25</td>\n",
              "      <td>286.81</td>\n",
              "      <td>138.2600</td>\n",
              "      <td>114805404842</td>\n",
              "      <td>8.090280e+08</td>\n",
              "      <td>9.861594</td>\n",
              "      <td>30.80</td>\n",
              "      <td>http://www.sec.gov/cgi-bin/browse-edgar?action...</td>\n",
              "      <td>0.021827</td>\n",
              "      <td>0.693140</td>\n",
              "    </tr>\n",
              "    <tr>\n",
              "      <th>224</th>\n",
              "      <td>HAS</td>\n",
              "      <td>Hasbro Inc.</td>\n",
              "      <td>Consumer Discretionary</td>\n",
              "      <td>96.48</td>\n",
              "      <td>20.57</td>\n",
              "      <td>2.230483</td>\n",
              "      <td>4.34</td>\n",
              "      <td>116.20</td>\n",
              "      <td>87.9200</td>\n",
              "      <td>12732072001</td>\n",
              "      <td>1.028425e+09</td>\n",
              "      <td>3.237568</td>\n",
              "      <td>5.82</td>\n",
              "      <td>http://www.sec.gov/cgi-bin/browse-edgar?action...</td>\n",
              "      <td>0.023042</td>\n",
              "      <td>1.103237</td>\n",
              "    </tr>\n",
              "    <tr>\n",
              "      <th>309</th>\n",
              "      <td>MCHP</td>\n",
              "      <td>Microchip Technology</td>\n",
              "      <td>Information Technology</td>\n",
              "      <td>79.90</td>\n",
              "      <td>21.77</td>\n",
              "      <td>1.751297</td>\n",
              "      <td>0.66</td>\n",
              "      <td>99.17</td>\n",
              "      <td>69.7600</td>\n",
              "      <td>19393095636</td>\n",
              "      <td>9.974920e+08</td>\n",
              "      <td>7.447518</td>\n",
              "      <td>5.90</td>\n",
              "      <td>http://www.sec.gov/cgi-bin/browse-edgar?action...</td>\n",
              "      <td>0.023712</td>\n",
              "      <td>1.478947</td>\n",
              "    </tr>\n",
              "    <tr>\n",
              "      <th>195</th>\n",
              "      <td>FLIR</td>\n",
              "      <td>FLIR Systems</td>\n",
              "      <td>Information Technology</td>\n",
              "      <td>46.46</td>\n",
              "      <td>25.53</td>\n",
              "      <td>1.239669</td>\n",
              "      <td>1.21</td>\n",
              "      <td>52.88</td>\n",
              "      <td>33.7500</td>\n",
              "      <td>6706992926</td>\n",
              "      <td>3.752670e+08</td>\n",
              "      <td>5.137961</td>\n",
              "      <td>3.52</td>\n",
              "      <td>http://www.sec.gov/cgi-bin/browse-edgar?action...</td>\n",
              "      <td>0.026065</td>\n",
              "      <td>0.746490</td>\n",
              "    </tr>\n",
              "    <tr>\n",
              "      <th>151</th>\n",
              "      <td>DLTR</td>\n",
              "      <td>Dollar Tree</td>\n",
              "      <td>Consumer Discretionary</td>\n",
              "      <td>101.58</td>\n",
              "      <td>26.66</td>\n",
              "      <td>0.000000</td>\n",
              "      <td>3.77</td>\n",
              "      <td>116.65</td>\n",
              "      <td>65.6300</td>\n",
              "      <td>25151198417</td>\n",
              "      <td>2.430300e+09</td>\n",
              "      <td>1.609759</td>\n",
              "      <td>4.08</td>\n",
              "      <td>http://www.sec.gov/cgi-bin/browse-edgar?action...</td>\n",
              "      <td>0.027059</td>\n",
              "      <td>0.789291</td>\n",
              "    </tr>\n",
              "    <tr>\n",
              "      <th>85</th>\n",
              "      <td>COG</td>\n",
              "      <td>Cabot Oil &amp; Gas</td>\n",
              "      <td>Energy</td>\n",
              "      <td>23.01</td>\n",
              "      <td>60.55</td>\n",
              "      <td>1.026958</td>\n",
              "      <td>-0.92</td>\n",
              "      <td>29.57</td>\n",
              "      <td>21.4000</td>\n",
              "      <td>10808821635</td>\n",
              "      <td>4.049510e+08</td>\n",
              "      <td>8.636729</td>\n",
              "      <td>4.21</td>\n",
              "      <td>http://www.sec.gov/cgi-bin/browse-edgar?action...</td>\n",
              "      <td>0.027165</td>\n",
              "      <td>0.819988</td>\n",
              "    </tr>\n",
              "    <tr>\n",
              "      <th>247</th>\n",
              "      <td>INTC</td>\n",
              "      <td>Intel Corp.</td>\n",
              "      <td>Information Technology</td>\n",
              "      <td>42.75</td>\n",
              "      <td>12.32</td>\n",
              "      <td>2.654867</td>\n",
              "      <td>1.98</td>\n",
              "      <td>50.85</td>\n",
              "      <td>33.2300</td>\n",
              "      <td>211536000000</td>\n",
              "      <td>2.624700e+10</td>\n",
              "      <td>3.348876</td>\n",
              "      <td>3.34</td>\n",
              "      <td>http://www.sec.gov/cgi-bin/browse-edgar?action...</td>\n",
              "      <td>0.029219</td>\n",
              "      <td>1.210357</td>\n",
              "    </tr>\n",
              "    <tr>\n",
              "      <th>271</th>\n",
              "      <td>KLAC</td>\n",
              "      <td>KLA-Tencor Corp.</td>\n",
              "      <td>Information Technology</td>\n",
              "      <td>98.54</td>\n",
              "      <td>16.59</td>\n",
              "      <td>2.298850</td>\n",
              "      <td>5.88</td>\n",
              "      <td>121.65</td>\n",
              "      <td>86.3300</td>\n",
              "      <td>16078622033</td>\n",
              "      <td>1.506642e+09</td>\n",
              "      <td>4.339586</td>\n",
              "      <td>12.93</td>\n",
              "      <td>http://www.sec.gov/cgi-bin/browse-edgar?action...</td>\n",
              "      <td>0.029483</td>\n",
              "      <td>1.512150</td>\n",
              "    </tr>\n",
              "    <tr>\n",
              "      <th>116</th>\n",
              "      <td>CTXS</td>\n",
              "      <td>Citrix Systems</td>\n",
              "      <td>Information Technology</td>\n",
              "      <td>84.53</td>\n",
              "      <td>20.37</td>\n",
              "      <td>0.000000</td>\n",
              "      <td>-0.24</td>\n",
              "      <td>95.00</td>\n",
              "      <td>73.3346</td>\n",
              "      <td>13199167493</td>\n",
              "      <td>8.102680e+08</td>\n",
              "      <td>4.753871</td>\n",
              "      <td>6.73</td>\n",
              "      <td>http://www.sec.gov/cgi-bin/browse-edgar?action...</td>\n",
              "      <td>0.035770</td>\n",
              "      <td>0.606636</td>\n",
              "    </tr>\n",
              "  </tbody>\n",
              "</table>\n",
              "</div>"
            ],
            "text/plain": [
              "    Symbol                  Name                  Sector   Price  \\\n",
              "480    WMT       Wal-Mart Stores        Consumer Staples  100.02   \n",
              "326   NFLX          Netflix Inc.  Information Technology  250.10   \n",
              "224    HAS           Hasbro Inc.  Consumer Discretionary   96.48   \n",
              "309   MCHP  Microchip Technology  Information Technology   79.90   \n",
              "195   FLIR          FLIR Systems  Information Technology   46.46   \n",
              "151   DLTR           Dollar Tree  Consumer Discretionary  101.58   \n",
              "85     COG       Cabot Oil & Gas                  Energy   23.01   \n",
              "247   INTC           Intel Corp.  Information Technology   42.75   \n",
              "271   KLAC      KLA-Tencor Corp.  Information Technology   98.54   \n",
              "116   CTXS        Citrix Systems  Information Technology   84.53   \n",
              "\n",
              "     Price/Earnings  Dividend Yield  Earnings/Share  52 Week Low  \\\n",
              "480           23.10        1.983471            4.39       109.98   \n",
              "326          200.08        0.000000            1.25       286.81   \n",
              "224           20.57        2.230483            4.34       116.20   \n",
              "309           21.77        1.751297            0.66        99.17   \n",
              "195           25.53        1.239669            1.21        52.88   \n",
              "151           26.66        0.000000            3.77       116.65   \n",
              "85            60.55        1.026958           -0.92        29.57   \n",
              "247           12.32        2.654867            1.98        50.85   \n",
              "271           16.59        2.298850            5.88       121.65   \n",
              "116           20.37        0.000000           -0.24        95.00   \n",
              "\n",
              "     52 Week High    Market Cap        EBITDA  Price/Sales  Price/Book  \\\n",
              "480       66.8900  304680931618  3.072100e+10     0.820994        3.89   \n",
              "326      138.2600  114805404842  8.090280e+08     9.861594       30.80   \n",
              "224       87.9200   12732072001  1.028425e+09     3.237568        5.82   \n",
              "309       69.7600   19393095636  9.974920e+08     7.447518        5.90   \n",
              "195       33.7500    6706992926  3.752670e+08     5.137961        3.52   \n",
              "151       65.6300   25151198417  2.430300e+09     1.609759        4.08   \n",
              "85        21.4000   10808821635  4.049510e+08     8.636729        4.21   \n",
              "247       33.2300  211536000000  2.624700e+10     3.348876        3.34   \n",
              "271       86.3300   16078622033  1.506642e+09     4.339586       12.93   \n",
              "116       73.3346   13199167493  8.102680e+08     4.753871        6.73   \n",
              "\n",
              "                                           SEC Filings  cases_beta  SPY_beta  \n",
              "480  http://www.sec.gov/cgi-bin/browse-edgar?action...    0.021276  0.553764  \n",
              "326  http://www.sec.gov/cgi-bin/browse-edgar?action...    0.021827  0.693140  \n",
              "224  http://www.sec.gov/cgi-bin/browse-edgar?action...    0.023042  1.103237  \n",
              "309  http://www.sec.gov/cgi-bin/browse-edgar?action...    0.023712  1.478947  \n",
              "195  http://www.sec.gov/cgi-bin/browse-edgar?action...    0.026065  0.746490  \n",
              "151  http://www.sec.gov/cgi-bin/browse-edgar?action...    0.027059  0.789291  \n",
              "85   http://www.sec.gov/cgi-bin/browse-edgar?action...    0.027165  0.819988  \n",
              "247  http://www.sec.gov/cgi-bin/browse-edgar?action...    0.029219  1.210357  \n",
              "271  http://www.sec.gov/cgi-bin/browse-edgar?action...    0.029483  1.512150  \n",
              "116  http://www.sec.gov/cgi-bin/browse-edgar?action...    0.035770  0.606636  "
            ]
          },
          "execution_count": 44,
          "metadata": {},
          "output_type": "execute_result"
        }
      ],
      "source": [
        "# Biggest beneficiaries\n",
        "df_merged.sort_values(by=\"cases_beta\").iloc[-10:]"
      ]
    },
    {
      "cell_type": "code",
      "execution_count": null,
      "metadata": {
        "id": "pfsEyvVP0OjZ"
      },
      "outputs": [],
      "source": [
        "# We remove left-tail outliers so that the visualisations are smoother\n",
        "df_merged = df_merged[df_merged.cases_beta > df_merged.cases_beta.quantile(0.01)].sort_values(by=\"cases_beta\")"
      ]
    },
    {
      "cell_type": "code",
      "execution_count": null,
      "metadata": {
        "id": "lL7ZAuuf0OjZ",
        "outputId": "32153b99-a044-47c1-e9b5-d24a3ebd6f94"
      },
      "outputs": [
        {
          "data": {
            "image/png": "[encoded data removed]",
            "text/plain": [
              "<Figure size 432x288 with 1 Axes>"
            ]
          },
          "metadata": {
            "needs_background": "light"
          },
          "output_type": "display_data"
        }
      ],
      "source": [
        "df_merged.cases_beta.hist(bins=50);"
      ]
    },
    {
      "cell_type": "code",
      "execution_count": null,
      "metadata": {
        "id": "2eIBrWpX0Oja",
        "outputId": "6bfdd0d5-33b3-4284-8223-05a211e81586"
      },
      "outputs": [
        {
          "data": {
            "image/png": "[encoded data removed]",
            "text/plain": [
              "<Figure size 864x720 with 1 Axes>"
            ]
          },
          "metadata": {
            "needs_background": "light"
          },
          "output_type": "display_data"
        }
      ],
      "source": [
        "# Plot top 10 rolling betas\n",
        "fig, ax = plt.subplots(figsize=(12,10))\n",
        "top_10_tickers = df_merged.sort_values(by=\"cases_beta\").Symbol.iloc[-10:].tolist()\n",
        "\n",
        "res = []\n",
        "period = 42 # 2months\n",
        "\n",
        "for t in top_10_tickers:\n",
        "    rolling_beta = (rets[t].rolling(period).cov(rets[\"cases\"]) / rets[\"cases\"].rolling(period).var()).dropna()\n",
        "    res.append(rolling_beta.rename(t))\n",
        "rolling_betas_top = pd.concat(res, axis=1)\n",
        "rolling_betas_top.plot(ax=ax)\n",
        "plt.show()"
      ]
    },
    {
      "cell_type": "code",
      "execution_count": null,
      "metadata": {
        "id": "8MafYzNM0Oja",
        "outputId": "31905d88-2b44-483d-9e5a-d2940bf020d1"
      },
      "outputs": [
        {
          "data": {
            "image/png": "[encoded data removed]",
            "text/plain": [
              "<Figure size 864x720 with 1 Axes>"
            ]
          },
          "metadata": {
            "needs_background": "light"
          },
          "output_type": "display_data"
        }
      ],
      "source": [
        "# Plot bottom 10 rolling betas\n",
        "fig, ax = plt.subplots(figsize=(12,10))\n",
        "bottom_10_tickers = df_merged.sort_values(by=\"cases_beta\").Symbol.iloc[:10].tolist()\n",
        "\n",
        "res = []\n",
        "period = 42\n",
        "\n",
        "for t in bottom_10_tickers:\n",
        "    rolling_beta = (rets[t].rolling(period).cov(rets[\"cases\"]) / rets[\"cases\"].rolling(period).var()).dropna()\n",
        "    res.append(rolling_beta.rename(t))\n",
        "rolling_betas_bottom = pd.concat(res, axis=1)\n",
        "rolling_betas_bottom.plot(ax=ax)\n",
        "plt.show()"
      ]
    },
    {
      "cell_type": "code",
      "execution_count": null,
      "metadata": {
        "id": "gf9x5Pnq0Ojb",
        "outputId": "5aa02974-57e6-4944-e5ce-ef6c84742822"
      },
      "outputs": [
        {
          "name": "stdout",
          "output_type": "stream",
          "text": [
            "CPU times: user 2.01 s, sys: 15.1 ms, total: 2.02 s\n",
            "Wall time: 2.1 s\n"
          ]
        },
        {
          "data": {
            "text/html": [
              "<div>\n",
              "<style scoped>\n",
              "    .dataframe tbody tr th:only-of-type {\n",
              "        vertical-align: middle;\n",
              "    }\n",
              "\n",
              "    .dataframe tbody tr th {\n",
              "        vertical-align: top;\n",
              "    }\n",
              "\n",
              "    .dataframe thead th {\n",
              "        text-align: right;\n",
              "    }\n",
              "</style>\n",
              "<table border=\"1\" class=\"dataframe\">\n",
              "  <thead>\n",
              "    <tr style=\"text-align: right;\">\n",
              "      <th></th>\n",
              "      <th>TPR</th>\n",
              "      <th>HES</th>\n",
              "      <th>KSS</th>\n",
              "      <th>HAL</th>\n",
              "      <th>SLB</th>\n",
              "      <th>PXD</th>\n",
              "      <th>DVN</th>\n",
              "      <th>EOG</th>\n",
              "      <th>CMA</th>\n",
              "      <th>COP</th>\n",
              "      <th>...</th>\n",
              "      <th>WMT</th>\n",
              "      <th>NFLX</th>\n",
              "      <th>HAS</th>\n",
              "      <th>MCHP</th>\n",
              "      <th>FLIR</th>\n",
              "      <th>DLTR</th>\n",
              "      <th>COG</th>\n",
              "      <th>INTC</th>\n",
              "      <th>KLAC</th>\n",
              "      <th>CTXS</th>\n",
              "    </tr>\n",
              "  </thead>\n",
              "  <tbody>\n",
              "    <tr>\n",
              "      <th>2020-04-29</th>\n",
              "      <td>-0.141542</td>\n",
              "      <td>-0.147661</td>\n",
              "      <td>-0.118860</td>\n",
              "      <td>-0.151279</td>\n",
              "      <td>-0.127507</td>\n",
              "      <td>-0.133896</td>\n",
              "      <td>-0.144089</td>\n",
              "      <td>-0.119827</td>\n",
              "      <td>-0.113624</td>\n",
              "      <td>-0.133211</td>\n",
              "      <td>...</td>\n",
              "      <td>0.000157</td>\n",
              "      <td>-0.004685</td>\n",
              "      <td>-0.015986</td>\n",
              "      <td>-0.038913</td>\n",
              "      <td>-0.007183</td>\n",
              "      <td>0.003676</td>\n",
              "      <td>-0.020941</td>\n",
              "      <td>-0.026791</td>\n",
              "      <td>-0.036798</td>\n",
              "      <td>0.005927</td>\n",
              "    </tr>\n",
              "    <tr>\n",
              "      <th>2020-04-30</th>\n",
              "      <td>-0.136429</td>\n",
              "      <td>-0.149648</td>\n",
              "      <td>-0.115174</td>\n",
              "      <td>-0.151404</td>\n",
              "      <td>-0.126885</td>\n",
              "      <td>-0.135944</td>\n",
              "      <td>-0.144759</td>\n",
              "      <td>-0.120457</td>\n",
              "      <td>-0.114509</td>\n",
              "      <td>-0.135368</td>\n",
              "      <td>...</td>\n",
              "      <td>-0.004109</td>\n",
              "      <td>-0.007841</td>\n",
              "      <td>-0.018013</td>\n",
              "      <td>-0.039732</td>\n",
              "      <td>-0.006118</td>\n",
              "      <td>0.003301</td>\n",
              "      <td>-0.025394</td>\n",
              "      <td>-0.028327</td>\n",
              "      <td>-0.034919</td>\n",
              "      <td>0.001030</td>\n",
              "    </tr>\n",
              "    <tr>\n",
              "      <th>2020-05-01</th>\n",
              "      <td>-0.136229</td>\n",
              "      <td>-0.142607</td>\n",
              "      <td>-0.112129</td>\n",
              "      <td>-0.146815</td>\n",
              "      <td>-0.122646</td>\n",
              "      <td>-0.130923</td>\n",
              "      <td>-0.137546</td>\n",
              "      <td>-0.115720</td>\n",
              "      <td>-0.111297</td>\n",
              "      <td>-0.130121</td>\n",
              "      <td>...</td>\n",
              "      <td>-0.005028</td>\n",
              "      <td>-0.007532</td>\n",
              "      <td>-0.015888</td>\n",
              "      <td>-0.036249</td>\n",
              "      <td>-0.006147</td>\n",
              "      <td>0.004339</td>\n",
              "      <td>-0.020762</td>\n",
              "      <td>-0.026149</td>\n",
              "      <td>-0.030154</td>\n",
              "      <td>0.001905</td>\n",
              "    </tr>\n",
              "    <tr>\n",
              "      <th>2020-05-04</th>\n",
              "      <td>-0.134264</td>\n",
              "      <td>-0.143388</td>\n",
              "      <td>-0.111393</td>\n",
              "      <td>-0.146807</td>\n",
              "      <td>-0.123393</td>\n",
              "      <td>-0.130120</td>\n",
              "      <td>-0.137593</td>\n",
              "      <td>-0.117197</td>\n",
              "      <td>-0.109616</td>\n",
              "      <td>-0.130529</td>\n",
              "      <td>...</td>\n",
              "      <td>-0.005293</td>\n",
              "      <td>-0.008875</td>\n",
              "      <td>-0.016116</td>\n",
              "      <td>-0.036372</td>\n",
              "      <td>-0.004748</td>\n",
              "      <td>0.004236</td>\n",
              "      <td>-0.020259</td>\n",
              "      <td>-0.026419</td>\n",
              "      <td>-0.030508</td>\n",
              "      <td>0.000929</td>\n",
              "    </tr>\n",
              "    <tr>\n",
              "      <th>2020-05-05</th>\n",
              "      <td>-0.131100</td>\n",
              "      <td>-0.140488</td>\n",
              "      <td>-0.107637</td>\n",
              "      <td>-0.143489</td>\n",
              "      <td>-0.121543</td>\n",
              "      <td>-0.127640</td>\n",
              "      <td>-0.134782</td>\n",
              "      <td>-0.114522</td>\n",
              "      <td>-0.105738</td>\n",
              "      <td>-0.129052</td>\n",
              "      <td>...</td>\n",
              "      <td>-0.005244</td>\n",
              "      <td>-0.007010</td>\n",
              "      <td>-0.013009</td>\n",
              "      <td>-0.035289</td>\n",
              "      <td>-0.003442</td>\n",
              "      <td>0.005626</td>\n",
              "      <td>-0.019598</td>\n",
              "      <td>-0.025701</td>\n",
              "      <td>-0.030529</td>\n",
              "      <td>-0.000674</td>\n",
              "    </tr>\n",
              "  </tbody>\n",
              "</table>\n",
              "<p>5 rows × 432 columns</p>\n",
              "</div>"
            ],
            "text/plain": [
              "                 TPR       HES       KSS       HAL       SLB       PXD  \\\n",
              "2020-04-29 -0.141542 -0.147661 -0.118860 -0.151279 -0.127507 -0.133896   \n",
              "2020-04-30 -0.136429 -0.149648 -0.115174 -0.151404 -0.126885 -0.135944   \n",
              "2020-05-01 -0.136229 -0.142607 -0.112129 -0.146815 -0.122646 -0.130923   \n",
              "2020-05-04 -0.134264 -0.143388 -0.111393 -0.146807 -0.123393 -0.130120   \n",
              "2020-05-05 -0.131100 -0.140488 -0.107637 -0.143489 -0.121543 -0.127640   \n",
              "\n",
              "                 DVN       EOG       CMA       COP  ...       WMT      NFLX  \\\n",
              "2020-04-29 -0.144089 -0.119827 -0.113624 -0.133211  ...  0.000157 -0.004685   \n",
              "2020-04-30 -0.144759 -0.120457 -0.114509 -0.135368  ... -0.004109 -0.007841   \n",
              "2020-05-01 -0.137546 -0.115720 -0.111297 -0.130121  ... -0.005028 -0.007532   \n",
              "2020-05-04 -0.137593 -0.117197 -0.109616 -0.130529  ... -0.005293 -0.008875   \n",
              "2020-05-05 -0.134782 -0.114522 -0.105738 -0.129052  ... -0.005244 -0.007010   \n",
              "\n",
              "                 HAS      MCHP      FLIR      DLTR       COG      INTC  \\\n",
              "2020-04-29 -0.015986 -0.038913 -0.007183  0.003676 -0.020941 -0.026791   \n",
              "2020-04-30 -0.018013 -0.039732 -0.006118  0.003301 -0.025394 -0.028327   \n",
              "2020-05-01 -0.015888 -0.036249 -0.006147  0.004339 -0.020762 -0.026149   \n",
              "2020-05-04 -0.016116 -0.036372 -0.004748  0.004236 -0.020259 -0.026419   \n",
              "2020-05-05 -0.013009 -0.035289 -0.003442  0.005626 -0.019598 -0.025701   \n",
              "\n",
              "                KLAC      CTXS  \n",
              "2020-04-29 -0.036798  0.005927  \n",
              "2020-04-30 -0.034919  0.001030  \n",
              "2020-05-01 -0.030154  0.001905  \n",
              "2020-05-04 -0.030508  0.000929  \n",
              "2020-05-05 -0.030529 -0.000674  \n",
              "\n",
              "[5 rows x 432 columns]"
            ]
          },
          "execution_count": 49,
          "metadata": {},
          "output_type": "execute_result"
        }
      ],
      "source": [
        "%%time\n",
        "tickers = df_merged.Symbol.tolist()\n",
        "\n",
        "res = []\n",
        "period = 42\n",
        "\n",
        "for t in tickers:\n",
        "    rolling_beta = (rets[t].rolling(period).cov(rets[\"cases\"]) / rets[\"cases\"].rolling(period).var()).dropna()\n",
        "    res.append(rolling_beta.rename(t))\n",
        "rolling_betas = pd.concat(res, axis=1)\n",
        "rolling_betas.head()"
      ]
    },
    {
      "cell_type": "code",
      "execution_count": null,
      "metadata": {
        "id": "HBm-fhmV0Ojb",
        "outputId": "7be4df26-8051-4d4e-84ba-06bdc13b3709"
      },
      "outputs": [
        {
          "data": {
            "image/png": "[encoded data removed]",
            "text/plain": [
              "<Figure size 648x432 with 1 Axes>"
            ]
          },
          "metadata": {
            "needs_background": "light"
          },
          "output_type": "display_data"
        }
      ],
      "source": [
        "fig, ax = plt.subplots(figsize=(9,6))\n",
        "rolling_betas_top.mean(axis=1).plot(ax=ax, color=\"blue\", label=\"Lowest beta\")\n",
        "rolling_betas_bottom.mean(axis=1).plot(ax=ax, color=\"darkred\", label=\"Highest beta\")\n",
        "ax.legend();\n",
        "ax.set_ylabel(\"Rolling 2mo beta\")\n",
        "plt.savefig(\"rolling_beta.png\", dpi=400)\n",
        "# plt.show()"
      ]
    },
    {
      "cell_type": "markdown",
      "metadata": {
        "id": "o0_Vcxrq0Ojc"
      },
      "source": [
        "## Visualisation"
      ]
    },
    {
      "cell_type": "code",
      "execution_count": null,
      "metadata": {
        "id": "3UEsewoN0Ojc",
        "outputId": "7e6cae5c-17f9-4f82-ae9e-3d31e1f97f0d"
      },
      "outputs": [
        {
          "data": {
            "image/png": "[encoded data removed]",
            "text/plain": [
              "<Figure size 648x432 with 2 Axes>"
            ]
          },
          "metadata": {
            "needs_background": "light"
          },
          "output_type": "display_data"
        }
      ],
      "source": [
        "# COVID-19 and the SPY\n",
        "dual_plot(joined.SPY, joined.cases.diff(7), \"SPY price\", \"Weekly new covid cases\")\n",
        "# plt.savefig(\"spy_covid.png\", dpi=400)\n",
        "plt.show()"
      ]
    },
    {
      "cell_type": "code",
      "execution_count": null,
      "metadata": {
        "id": "4uxrN-pe0Ojd",
        "outputId": "1baf90ce-fb8e-43b6-8a62-fe269bae9952"
      },
      "outputs": [
        {
          "data": {
            "application/vnd.plotly.v1+json": {
              "config": {
                "plotlyServerURL": "https://plot.ly"
              },
              "data": [
                {
                  "branchvalues": "total",
                  "customdata": [
                    [
                      27.45,
                      6.493563,
                      4.56,
                      -0.005211944444846901
                    ],
                    [
                      9.92,
                      0.58022565,
                      6.03,
                      0.005146316851280463
                    ],
                    [
                      19.54,
                      1.1301061000000001,
                      2.51,
                      0.011968566534969001
                    ],
                    [
                      16.86,
                      3.4586093,
                      5.66,
                      0.005721207777088747
                    ],
                    [
                      19.41,
                      6.291571,
                      26.14,
                      -0.011370893938062444
                    ],
                    [
                      15.54,
                      0.17396984,
                      9.73,
                      0.0025971937237106875
                    ],
                    [
                      22.51,
                      3.7404803999999996,
                      3.19,
                      -0.002372214723871919
                    ],
                    [
                      25.47,
                      2.604117,
                      10.62,
                      0.005272199508263387
                    ],
                    [
                      52.31,
                      13.092818,
                      11.06,
                      0.014046171434700392
                    ],
                    [
                      17.67,
                      8.003910000000001,
                      3.13,
                      0.004856033766381212
                    ],
                    [
                      17.45,
                      0.52478915,
                      1.29,
                      0.004022635445282359
                    ],
                    [
                      29.34,
                      4.0483294,
                      12.86,
                      0.005636630473284431
                    ],
                    [
                      -77.07,
                      16.50682,
                      224.13,
                      0.012320552976079856
                    ],
                    [
                      20.38,
                      2.693119,
                      1.79,
                      0.003960345913192124
                    ],
                    [
                      17.32,
                      2.7489934,
                      1.81,
                      0.003949750462976146
                    ],
                    [
                      9.96,
                      0.65951383,
                      2.2,
                      -0.0006535824688885981
                    ],
                    [
                      12.24,
                      1.5429343999999998,
                      1.53,
                      0.0016672729595150486
                    ],
                    [
                      23.22,
                      1.4686536000000001,
                      0.75,
                      -0.011290153144923215
                    ],
                    [
                      15.6,
                      6.187621,
                      4.69,
                      -0.02431644524435351
                    ],
                    [
                      33.27,
                      0.9821866,
                      1.12,
                      0.0009328985099824269
                    ],
                    [
                      21.05,
                      1.9400215,
                      2.92,
                      -0.006870038787552745
                    ],
                    [
                      32.55,
                      5.854652400000001,
                      3.25,
                      0.014138768947978423
                    ],
                    [
                      26.03,
                      5.3666205,
                      2.98,
                      -0.023835934103786035
                    ],
                    [
                      56.59,
                      13.138819,
                      16.44,
                      0.0016831583882636109
                    ],
                    [
                      9.66,
                      0.9801091999999999,
                      2.21,
                      -0.003643770347538094
                    ],
                    [
                      13.26,
                      1.2085556,
                      1.67,
                      0.00760233594907773
                    ],
                    [
                      21.07,
                      4.265232,
                      20.48,
                      0.002494049639971337
                    ],
                    [
                      22.18,
                      9.720562,
                      2.82,
                      0.009950924944506312
                    ],
                    [
                      14.08,
                      4.7020154000000005,
                      5.44,
                      0.014560545778284356
                    ],
                    [
                      187,
                      2.1091955000000002,
                      21.47,
                      0.01940068129234403
                    ],
                    [
                      27.61,
                      4.015368,
                      4.54,
                      -0.019078068960887203
                    ],
                    [
                      13.76,
                      5.581919999999999,
                      3.91,
                      0.01312129489586959
                    ],
                    [
                      12.41,
                      1.9493247,
                      3.73,
                      -0.007470290940363182
                    ],
                    [
                      20.68,
                      11.954137,
                      9.22,
                      -0.0038263277598695206
                    ],
                    [
                      296.16,
                      3.927053,
                      24.28,
                      0.019482404978986515
                    ],
                    [
                      42.53,
                      16.8134,
                      5.79,
                      0.013988299224205225
                    ],
                    [
                      19.23,
                      0.6696521,
                      2.28,
                      -0.004564176217167694
                    ],
                    [
                      20.8,
                      3.4972682,
                      6.78,
                      -0.015442096877633881
                    ],
                    [
                      27.76,
                      3.5754826,
                      6.35,
                      0.01304744011342674
                    ],
                    [
                      24.22,
                      4.1163682999999995,
                      3.35,
                      -0.010212143410935905
                    ],
                    [
                      25.9,
                      3.85675,
                      6.64,
                      -0.0014609973322396606
                    ],
                    [
                      69.74,
                      1.5025798000000001,
                      7.56,
                      0.0013056062916759498
                    ],
                    [
                      19.03,
                      10.492155,
                      2.07,
                      -0.012467031090422463
                    ],
                    [
                      31.8,
                      10.59512,
                      5.16,
                      0.019359773463067796
                    ],
                    [
                      17.97,
                      10.251216000000001,
                      2.12,
                      -0.019693595797618094
                    ],
                    [
                      15.94,
                      6.961892999999999,
                      4.4,
                      0.009483591955420617
                    ],
                    [
                      22.11,
                      1.5206499,
                      8.83,
                      -0.0116649336393489
                    ],
                    [
                      26.23,
                      5.553833,
                      2.55,
                      0.007718224871634394
                    ],
                    [
                      15,
                      2.273575,
                      3.75,
                      0.0012004715043340687
                    ],
                    [
                      16.31,
                      1.8510429,
                      136.23,
                      0.013673830991563414
                    ],
                    [
                      27.29,
                      2.1560605,
                      182.86,
                      0.008771546681345586
                    ],
                    [
                      16.34,
                      3.2011874,
                      1.24,
                      -0.017252009632601345
                    ],
                    [
                      25.12,
                      3.4394413999999998,
                      3.77,
                      -0.007861734439547486
                    ],
                    [
                      19.22,
                      0.76715523,
                      4.79,
                      0.0023032043139229745
                    ],
                    [
                      22.28,
                      5.6912947,
                      3.98,
                      -0.006443553574806066
                    ],
                    [
                      12.67,
                      3.3991010000000004,
                      1.83,
                      -0.005208710836239727
                    ],
                    [
                      14.3,
                      5.737439,
                      5.51,
                      0.010976285251000676
                    ],
                    [
                      14.76,
                      3.3834257000000005,
                      1.49,
                      -0.0038263289566380426
                    ],
                    [
                      22.49,
                      6.9158196,
                      2.95,
                      -0.00185005677303454
                    ],
                    [
                      20.56,
                      1.5696398999999999,
                      3.62,
                      -0.006256355222867376
                    ],
                    [
                      20.83,
                      6.5032309999999995,
                      6.75,
                      -0.004723203491505887
                    ],
                    [
                      20,
                      4.0556849999999995,
                      4.78,
                      -0.011609804743006703
                    ],
                    [
                      14.15,
                      1.5831376,
                      2.89,
                      0.006533944677330572
                    ],
                    [
                      18.05,
                      6.839459,
                      3.15,
                      -0.011758013641352427
                    ],
                    [
                      13.48,
                      2.1857585999999998,
                      0.9,
                      -0.014494205823317674
                    ],
                    [
                      18.2,
                      1.8294993999999998,
                      3.86,
                      0.021075781492984478
                    ],
                    [
                      12.29,
                      0.21131156,
                      3.03,
                      0.005660985266729233
                    ],
                    [
                      21.22,
                      2.0468428,
                      5.75,
                      -0.01005152858693978
                    ],
                    [
                      17.5,
                      2.0985637,
                      1.35,
                      -0.014630640149051377
                    ],
                    [
                      35.06,
                      8.249042,
                      5.15,
                      -0.004186843466014379
                    ],
                    [
                      21.45,
                      10.125291,
                      3.54,
                      -0.0028177378515077687
                    ],
                    [
                      17.48,
                      2.8147783,
                      2,
                      -0.02007882668612668
                    ],
                    [
                      34.09,
                      5.751737,
                      10.98,
                      0.014678239162095529
                    ],
                    [
                      27.09,
                      5.5560412,
                      4.62,
                      0.0007976719115372684
                    ],
                    [
                      -59.46,
                      3.0044447999999995,
                      2.81,
                      -0.008692078999113726
                    ],
                    [
                      16.04,
                      3.3917346,
                      1.08,
                      -0.03238322668258034
                    ],
                    [
                      24.42,
                      3.1682447999999996,
                      6.28,
                      -0.007955116411373761
                    ],
                    [
                      26,
                      0.85282737,
                      9.31,
                      0.00614884208453846
                    ],
                    [
                      162.92,
                      2.1208633999999997,
                      2.27,
                      -0.0009546343850366932
                    ],
                    [
                      18.11,
                      1.550762,
                      3.39,
                      0.001058337992789738
                    ],
                    [
                      27.48,
                      2.756679,
                      1.6,
                      -0.0037652756481916954
                    ],
                    [
                      24.02,
                      4.000737,
                      236.42,
                      0.00230998781569137
                    ],
                    [
                      23.44,
                      2.798683,
                      21.62,
                      0.016191180385520483
                    ],
                    [
                      18.89,
                      4.9054720000000005,
                      1.96,
                      -0.03839986235413864
                    ],
                    [
                      18.54,
                      2.1797748,
                      2.65,
                      0.01183236173731168
                    ],
                    [
                      32.15,
                      14.881806,
                      2.51,
                      -0.014052599571629213
                    ],
                    [
                      45.86,
                      2.5523853,
                      6.11,
                      0.006379417787741427
                    ],
                    [
                      16.83,
                      1.9406168000000001,
                      3.89,
                      -0.012730418554944277
                    ],
                    [
                      21.42,
                      2.4711676,
                      2.65,
                      0.006885414858035954
                    ],
                    [
                      19.12,
                      0.5028663,
                      2.58,
                      0.0059810174249736265
                    ],
                    [
                      19.73,
                      1.6262617,
                      3.21,
                      -0.02713147212375979
                    ],
                    [
                      11.85,
                      1.5931405,
                      0.94,
                      -0.018322391834393464
                    ],
                    [
                      60.55,
                      8.636728999999999,
                      4.21,
                      0.027165001712310278
                    ],
                    [
                      22.96,
                      6.8538464999999995,
                      3.57,
                      0.0024197398754250304
                    ],
                    [
                      72.93,
                      2.0764177,
                      2.16,
                      -0.038357302497295756
                    ],
                    [
                      30.69,
                      0.61203885,
                      7.24,
                      0.011477776333029741
                    ],
                    [
                      24.64,
                      2.0061796000000003,
                      1.37,
                      0.014012325608763202
                    ],
                    [
                      14.84,
                      2.3898203,
                      7.91,
                      0.0018117760775266853
                    ],
                    [
                      520.15,
                      10.3738785,
                      8.81,
                      0.004054902507402308
                    ],
                    [
                      17.87,
                      5.484418,
                      3.07,
                      0.016214058199933302
                    ],
                    [
                      21.94,
                      4.216355,
                      4.27,
                      -0.012325226772562032
                    ],
                    [
                      32.75,
                      2.7614057,
                      6.53,
                      -0.02634409349027191
                    ],
                    [
                      8.35,
                      1.4795983999999998,
                      1.39,
                      -0.0035226686402254105
                    ],
                    [
                      22.44,
                      3.9678397000000003,
                      3.94,
                      -0.012624390742221523
                    ],
                    [
                      20.37,
                      4.7538714,
                      6.73,
                      0.035769992225420856
                    ],
                    [
                      12.36,
                      0.549852,
                      2.13,
                      0.0023672682215463573
                    ],
                    [
                      27.52,
                      1.6489863,
                      1.71,
                      -0.015302922743007145
                    ],
                    [
                      84.39,
                      12.271951,
                      2.61,
                      -0.026566594029823167
                    ],
                    [
                      20.42,
                      3.7954214,
                      2.96,
                      -0.013314158256335444
                    ],
                    [
                      10.37,
                      0.91792434,
                      2.67,
                      0.004115487088473426
                    ],
                    [
                      23.14,
                      2.3746447999999996,
                      5.31,
                      0.00009664664147547687
                    ],
                    [
                      12.13,
                      2.3610325,
                      2.52,
                      -0.005576736180525364
                    ],
                    [
                      21.18,
                      1.5283886,
                      4.53,
                      0.011482655647318393
                    ],
                    [
                      17.07,
                      1.7709883000000002,
                      2.82,
                      0.0022719931803685057
                    ],
                    [
                      16.32,
                      1.1931022,
                      2.17,
                      -0.024398452513502887
                    ],
                    [
                      22.87,
                      3.688278,
                      2.65,
                      -0.00004099481359057324
                    ],
                    [
                      17.78,
                      3.9635562999999996,
                      3.82,
                      0.006209784440618377
                    ],
                    [
                      11,
                      1.8040880000000001,
                      1.5,
                      0.0009871167083228066
                    ],
                    [
                      10.37,
                      1.7147918000000002,
                      1.43,
                      -0.006190276193262106
                    ],
                    [
                      16.09,
                      1.8521843,
                      3.76,
                      -0.01949171430778312
                    ],
                    [
                      16.55,
                      12.434961,
                      2.32,
                      -0.004943581670782496
                    ],
                    [
                      26.66,
                      1.6097589,
                      4.08,
                      0.02705939001097488
                    ],
                    [
                      23.87,
                      1.986176,
                      3.59,
                      -0.001440242232707276
                    ],
                    [
                      19.77,
                      16.077257,
                      1.94,
                      -0.000052348968509810614
                    ],
                    [
                      22.72,
                      1.5278828000000002,
                      5.89,
                      0.0013531746899852208
                    ],
                    [
                      19.12,
                      1.9091922,
                      1.95,
                      -0.012368130145702216
                    ],
                    [
                      16.7,
                      2.9348857,
                      1.27,
                      -0.0045192771169053365
                    ],
                    [
                      20.55,
                      1.1451396999999999,
                      2.79,
                      0.01500195787747678
                    ],
                    [
                      23.93,
                      2.0660408,
                      2.85,
                      -0.04047937246501265
                    ],
                    [
                      79.93,
                      1.9598055,
                      2.26,
                      -0.0180832202994249
                    ],
                    [
                      34.48,
                      7.4415816999999995,
                      8.54,
                      0.01929854568673626
                    ],
                    [
                      24.86,
                      4.6720185,
                      3.8,
                      -0.0047585359660166715
                    ],
                    [
                      28.08,
                      3.7360687000000006,
                      5.28,
                      -0.005398415133827148
                    ],
                    [
                      18.64,
                      2.960244,
                      1.58,
                      -0.003971774933591539
                    ],
                    [
                      19.03,
                      5.633805799999999,
                      4.59,
                      -0.003159623880077383
                    ],
                    [
                      13.23,
                      2.161095,
                      1.59,
                      -0.008509337198586247
                    ],
                    [
                      37.78,
                      3.9522583,
                      10.82,
                      -0.006204115653058076
                    ],
                    [
                      12.28,
                      1.4904785,
                      2.78,
                      -0.017427212196990192
                    ],
                    [
                      25.74,
                      3.6707752,
                      5.01,
                      -0.031035360920482296
                    ],
                    [
                      246.44,
                      8.023019999999999,
                      4.55,
                      -0.04040250856652219
                    ],
                    [
                      23.06,
                      10.639136,
                      5.14,
                      0.006076612760791995
                    ],
                    [
                      17.6,
                      8.593619,
                      2.09,
                      -0.008254964025256271
                    ],
                    [
                      18.22,
                      3.1134193,
                      1.68,
                      -0.00793711853297717
                    ],
                    [
                      18.66,
                      14.1830845,
                      2.3,
                      -0.015371717167891494
                    ],
                    [
                      17.08,
                      1.8161736000000002,
                      2.17,
                      -0.01267592588905073
                    ],
                    [
                      10.65,
                      1.5543115,
                      1.54,
                      -0.0026691850948117337
                    ],
                    [
                      32.57,
                      7.8283277,
                      8.48,
                      -0.006672618467486239
                    ],
                    [
                      14.51,
                      1.3933871,
                      1.26,
                      0.002546239665763615
                    ],
                    [
                      25.26,
                      2.1903189999999997,
                      5.55,
                      0.0046728889915320935
                    ],
                    [
                      30.99,
                      2.5074897000000003,
                      4.14,
                      -0.010138051676533269
                    ],
                    [
                      18.12,
                      12.204818,
                      4.54,
                      -0.017028131686928363
                    ],
                    [
                      5.89,
                      0.27054095,
                      1.26,
                      -0.022876709173270632
                    ],
                    [
                      27.02,
                      3.4729769999999998,
                      7.39,
                      -0.0011765165884513257
                    ],
                    [
                      27.9,
                      13.241967,
                      7.08,
                      0.0014556290277680155
                    ],
                    [
                      20.27,
                      1.8434572,
                      3.76,
                      -0.011718181587976726
                    ],
                    [
                      14.67,
                      1.6538345,
                      3.66,
                      -0.006770270441361845
                    ],
                    [
                      19.45,
                      1.0751684,
                      3.9,
                      0.0007934566284133259
                    ],
                    [
                      11.18,
                      1.2994481000000002,
                      2.19,
                      0.001799617170908583
                    ],
                    [
                      21.21,
                      4.1203604,
                      6.86,
                      -0.00016460199026139757
                    ],
                    [
                      22.08,
                      4.7038417,
                      3.25,
                      0.007523192081407915
                    ],
                    [
                      27.32,
                      6.518713,
                      11.54,
                      0.0010091901522352746
                    ],
                    [
                      16.9,
                      2.8802847999999996,
                      1.46,
                      -0.02391965972170854
                    ],
                    [
                      25.53,
                      5.137961,
                      3.52,
                      0.02606490896695029
                    ],
                    [
                      26.17,
                      2.0803037,
                      3.15,
                      -0.02975968459035388
                    ],
                    [
                      32.48,
                      6.008903500000001,
                      5.26,
                      -0.0036094809290794184
                    ],
                    [
                      17.57,
                      3.1654842,
                      4.04,
                      0.009749274813400101
                    ],
                    [
                      17.81,
                      2.1080317,
                      4.11,
                      0.005992875915388915
                    ],
                    [
                      18.35,
                      12.898601,
                      3.98,
                      -0.020055081217117337
                    ],
                    [
                      18.77,
                      1.561575,
                      1.06,
                      -0.021380588742550454
                    ],
                    [
                      25.05,
                      5.168267299999999,
                      7.17,
                      -0.016100201624195423
                    ],
                    [
                      20.71,
                      2.0481362,
                      5.45,
                      -0.010560972773461361
                    ],
                    [
                      13.76,
                      1.0887611000000001,
                      1.7,
                      -0.019622962971670457
                    ],
                    [
                      8.16,
                      5.208746400000001,
                      4.12,
                      0.010338335549579542
                    ],
                    [
                      17.53,
                      2.0389178,
                      7.26,
                      -0.0017398360622333663
                    ],
                    [
                      16.45,
                      2.544682,
                      1.71,
                      -0.0059483483233222405
                    ],
                    [
                      6.58,
                      0.5633218000000001,
                      1.33,
                      -0.01940713768491655
                    ],
                    [
                      40.29,
                      6.772653,
                      4.67,
                      0.0026913649541678163
                    ],
                    [
                      31.48,
                      6.801692,
                      4.7,
                      0.002831401211770181
                    ],
                    [
                      21.17,
                      1.212236,
                      4.33,
                      -0.006679291235580846
                    ],
                    [
                      27.86,
                      5.775833,
                      4.73,
                      0.0009841409352427104
                    ],
                    [
                      21.23,
                      5.319881,
                      3.14,
                      -0.0031009608223211064
                    ],
                    [
                      12.44,
                      2.309415,
                      1.25,
                      0.0013612162920702854
                    ],
                    [
                      22.57,
                      1.3995146,
                      8.1,
                      -0.006302337883429149
                    ],
                    [
                      38.86,
                      2.1424223999999996,
                      4.74,
                      -0.04706940729863944
                    ],
                    [
                      20.57,
                      3.2375681,
                      5.82,
                      0.02304156761706902
                    ],
                    [
                      15.41,
                      3.5112102,
                      1.72,
                      -0.022816977205098975
                    ],
                    [
                      10.04,
                      1.6339768,
                      6.17,
                      -0.007195381559930038
                    ],
                    [
                      14.07,
                      0.7251920999999999,
                      null,
                      0.0034897870119070173
                    ],
                    [
                      28.1,
                      2.8964397999999996,
                      84.08,
                      0.010827357272847057
                    ],
                    [
                      -9.33,
                      3.780475,
                      1.08,
                      -0.04816605870806598
                    ],
                    [
                      14.34,
                      1.3939538,
                      1.15,
                      -0.0034630604649506223
                    ],
                    [
                      18.75,
                      1.8924941000000002,
                      6.04,
                      0.0032868803998141994
                    ],
                    [
                      36.42,
                      3.7628453,
                      17.67,
                      0.0003785646019073803
                    ],
                    [
                      19.21,
                      4.80335,
                      4,
                      -0.019933991414622945
                    ],
                    [
                      20.68,
                      2.8267898999999996,
                      5.71,
                      -0.01132164673949048
                    ],
                    [
                      11.57,
                      1.4609766000000002,
                      1.06,
                      -0.010555292433670259
                    ],
                    [
                      12.07,
                      0.8954903000000001,
                      0.66,
                      -0.003466003438362531
                    ],
                    [
                      12.29,
                      2.0188456,
                      205.41,
                      0.004766809691879001
                    ],
                    [
                      20.39,
                      2.5174792,
                      3.49,
                      0.008129621013979474
                    ],
                    [
                      19.85,
                      1.262194,
                      3.74,
                      -0.005173678360449004
                    ],
                    [
                      11.23,
                      3.5549128,
                      2.02,
                      0.007097297507087319
                    ],
                    [
                      20.51,
                      2.8396711,
                      25.64,
                      0.0014963929324440777
                    ],
                    [
                      22.39,
                      0.9256895,
                      3.33,
                      0.0001642544674747643
                    ],
                    [
                      10.67,
                      1.8171669999999998,
                      7.7,
                      0.009333061790035782
                    ],
                    [
                      22.95,
                      9.619987,
                      2.62,
                      -0.006828871068624925
                    ],
                    [
                      53.57,
                      7.97525,
                      196.21,
                      0.003431716247592465
                    ],
                    [
                      24.17,
                      4.4208813,
                      6.34,
                      -0.006721615834976336
                    ],
                    [
                      52.25,
                      11.713953,
                      10.89,
                      0.016311887783871354
                    ],
                    [
                      -119.89,
                      17.026989999999998,
                      10.25,
                      0.006089167330283835
                    ],
                    [
                      26.19,
                      5.0604,
                      2.24,
                      -0.013410589633505625
                    ],
                    [
                      12.32,
                      3.348876,
                      3.34,
                      0.02921890594477179
                    ],
                    [
                      40.52,
                      9.633731,
                      33.5,
                      0.006419562906692098
                    ],
                    [
                      15.57,
                      1.0738261,
                      4.99,
                      -0.014169395019772494
                    ],
                    [
                      15.46,
                      1.4712903,
                      4.01,
                      0.010025819508912
                    ],
                    [
                      21.74,
                      2.8477087000000005,
                      2.77,
                      -0.008897690940054123
                    ],
                    [
                      19.38,
                      1.6147361,
                      3.34,
                      -0.013823721027156698
                    ],
                    [
                      15.42,
                      3.2898626,
                      4.97,
                      -0.005809820916215805
                    ],
                    [
                      48.58,
                      14.655261,
                      9.48,
                      -0.006916568674655936
                    ],
                    [
                      36.86,
                      4.894499,
                      13.47,
                      0.003096575609895901
                    ],
                    [
                      23.62,
                      3.9286149,
                      10.99,
                      -0.0007323925570659076
                    ],
                    [
                      11.87,
                      2.6513786,
                      1.62,
                      -0.023058177737641333
                    ],
                    [
                      30.62,
                      1.7697401999999998,
                      8.55,
                      -0.006105815100516674
                    ],
                    [
                      14,
                      1.1415336,
                      1.69,
                      -0.010265431559030425
                    ],
                    [
                      17.31,
                      4.6326222,
                      4.74,
                      0.002195808669378473
                    ],
                    [
                      14.09,
                      1.8543326,
                      1.78,
                      0.003680015354494763
                    ],
                    [
                      15.43,
                      3.3714992999999995,
                      1.6,
                      -0.01170215895156367
                    ],
                    [
                      16.5,
                      2.3173764,
                      11.5,
                      0.004072078443906747
                    ],
                    [
                      14.66,
                      3.270451,
                      1.55,
                      -0.02446588686332279
                    ],
                    [
                      20.11,
                      4.678085299999999,
                      1.54,
                      0.002154506258865259
                    ],
                    [
                      9.28,
                      7.0508942999999995,
                      1.2,
                      -0.03293056541309831
                    ],
                    [
                      16.59,
                      4.3395863,
                      12.93,
                      0.02948261218843561
                    ],
                    [
                      17.93,
                      2.1947837000000003,
                      151.66,
                      0.008152054369699074
                    ],
                    [
                      25.07,
                      2.8239360000000002,
                      1.07,
                      -0.03183224522324732
                    ],
                    [
                      19.44,
                      0.6913859,
                      3.55,
                      -0.01241379007502522
                    ],
                    [
                      22.8,
                      6.822138000000001,
                      8.65,
                      -0.001199416829058241
                    ],
                    [
                      13.07,
                      0.27961263,
                      4.02,
                      0.010374842311749328
                    ],
                    [
                      16.01,
                      0.8557756999999999,
                      2.04,
                      -0.047110865183773075
                    ],
                    [
                      19.8,
                      4.281897,
                      2.39,
                      -0.0197302726478458
                    ],
                    [
                      15.99,
                      1.5809761,
                      0.85,
                      0.004232775594714922
                    ],
                    [
                      12.77,
                      1.7060977,
                      1403.38,
                      -0.03536595462918194
                    ],
                    [
                      17.88,
                      2.0302901,
                      4.89,
                      -0.009235549182613179
                    ],
                    [
                      15.35,
                      1.1468264,
                      1.76,
                      -0.037544597114206595
                    ],
                    [
                      17.79,
                      2.2459624,
                      2.71,
                      0.0014087679022756537
                    ],
                    [
                      21.35,
                      1.723609,
                      3.02,
                      -0.02690816199168261
                    ],
                    [
                      17.34,
                      3.7546779999999997,
                      5.73,
                      0.009439501651635712
                    ],
                    [
                      24.28,
                      1.8781451,
                      45.55,
                      -0.009388131842584491
                    ],
                    [
                      9.49,
                      1.2019440000000001,
                      1.04,
                      0.004085785776588883
                    ],
                    [
                      19.86,
                      3.4331481,
                      2.13,
                      0.004569041699351878
                    ],
                    [
                      23.87,
                      1.5653384,
                      14.1,
                      -0.00913971972907641
                    ],
                    [
                      16.29,
                      3.0405292999999998,
                      4.52,
                      0.015408561212144142
                    ],
                    [
                      15.89,
                      1.6294897,
                      3.84,
                      0.010441857580937911
                    ],
                    [
                      10.35,
                      1.3037611999999998,
                      5.86,
                      -0.023675445366839652
                    ],
                    [
                      34.99,
                      15.020556,
                      26.93,
                      0.0039440335579645595
                    ],
                    [
                      14.38,
                      6.6291075,
                      1.6,
                      -0.010657467937122139
                    ],
                    [
                      32.73,
                      2.9997249,
                      11.02,
                      -0.010184733466565047
                    ],
                    [
                      22.12,
                      2.308266,
                      11.93,
                      -0.01335095070469442
                    ],
                    [
                      23.83,
                      5.770237,
                      146.07,
                      -0.009279655263833226
                    ],
                    [
                      21.77,
                      7.4475183000000005,
                      5.9,
                      0.023712270861135958
                    ],
                    [
                      11.68,
                      0.15318617,
                      2.68,
                      0.0031616805252892588
                    ],
                    [
                      26.55,
                      9.932974,
                      73.84,
                      -0.00296788060072629
                    ],
                    [
                      19.85,
                      2.5708609,
                      2.52,
                      0.006595719449469191
                    ],
                    [
                      17.04,
                      4.944542,
                      2.14,
                      -0.003589994217966392
                    ],
                    [
                      8.52,
                      1.0496864,
                      0.85,
                      -0.013984346557428324
                    ],
                    [
                      29.65,
                      2.2276719,
                      3.09,
                      -0.014993353594555765
                    ],
                    [
                      19.08,
                      2.7977824,
                      2.88,
                      0.01741276896312713
                    ],
                    [
                      23.91,
                      2.7788277000000003,
                      5.2,
                      -0.007624898675210386
                    ],
                    [
                      30.38,
                      4.416998,
                      3.03,
                      -0.01984931559677483
                    ],
                    [
                      20.23,
                      2.9848945,
                      5.85,
                      -0.0039768186034041175
                    ],
                    [
                      24.31,
                      4.3902707,
                      11.34,
                      -0.0014367784175169662
                    ],
                    [
                      42.17,
                      14.152586999999999,
                      9.56,
                      0.003009341799971624
                    ],
                    [
                      18.89,
                      4.945682,
                      10.32,
                      -0.0061432898309723765
                    ],
                    [
                      23.66,
                      1.8161957999999998,
                      0.94,
                      -0.012362865272747806
                    ],
                    [
                      16.06,
                      0.42713487,
                      2.43,
                      -0.029999831516122222
                    ],
                    [
                      13.75,
                      5.0893345000000005,
                      4.02,
                      0.003181155356062412
                    ],
                    [
                      14.23,
                      2.2258842,
                      1.33,
                      -0.005949437302202008
                    ],
                    [
                      25.76,
                      7.113096700000001,
                      9.49,
                      0.014079913775493105
                    ],
                    [
                      19.03,
                      2.6092633999999997,
                      6.81,
                      -0.00540143048284831
                    ],
                    [
                      18.91,
                      4.6277885,
                      1.79,
                      -0.02011971694261844
                    ],
                    [
                      35.56,
                      8.372307000000001,
                      31.69,
                      -0.006273016296312799
                    ],
                    [
                      9.01,
                      2.1912806000000002,
                      2.02,
                      0.012994654255559093
                    ],
                    [
                      8.35,
                      2.5358944,
                      1.63,
                      0.019319568625946457
                    ],
                    [
                      105.96,
                      4.6976447,
                      1.44,
                      -0.02486028505486566
                    ],
                    [
                      15.35,
                      3.2066103999999997,
                      2.35,
                      -0.00723675969639415
                    ],
                    [
                      17.78,
                      3.2591083,
                      2.25,
                      -0.0013859218107946686
                    ],
                    [
                      21.65,
                      4.091698,
                      2.75,
                      0.003440942164727904
                    ],
                    [
                      26.34,
                      3.7076392,
                      1.81,
                      0.011571989916356714
                    ],
                    [
                      200.08,
                      9.861594,
                      30.8,
                      0.021827105328401344
                    ],
                    [
                      19.57,
                      2.2361343,
                      1.82,
                      0.005301639328776007
                    ],
                    [
                      24.9,
                      3.0549932,
                      8.91,
                      -0.005204270629748287
                    ],
                    [
                      18.73,
                      2.7288197999999997,
                      3.02,
                      -0.021232080112079922
                    ],
                    [
                      24.4,
                      2.2095759999999998,
                      7.96,
                      -0.0011901173389977802
                    ],
                    [
                      -77.71,
                      2.5209634,
                      0.91,
                      -0.0230855041346655
                    ],
                    [
                      17.78,
                      0.9933021000000001,
                      6.73,
                      -0.016324016071984002
                    ],
                    [
                      20.65,
                      3.8525907999999998,
                      3.09,
                      -0.011086256547186714
                    ],
                    [
                      26.1,
                      3.6687025999999996,
                      5.46,
                      0.005744794758890263
                    ],
                    [
                      19.96,
                      4.031728,
                      2.44,
                      -0.0009270297945173961
                    ],
                    [
                      17.01,
                      0.99837583,
                      2.34,
                      -0.014475209384937078
                    ],
                    [
                      82.08,
                      20.094294,
                      20.39,
                      0.016505133531003607
                    ],
                    [
                      9.72,
                      1.2810479,
                      1.01,
                      0.006942228824096058
                    ],
                    [
                      44.03,
                      1.5718216,
                      0.86,
                      -0.0032047963059406363
                    ],
                    [
                      43.47,
                      1.5518167,
                      0.85,
                      -0.009717201704225858
                    ],
                    [
                      15.54,
                      15.588069,
                      1.92,
                      -0.023597456624024158
                    ],
                    [
                      15.27,
                      1.5327156000000002,
                      6.66,
                      0.001773164898074631
                    ],
                    [
                      18.81,
                      5.256164599999999,
                      3.56,
                      0.012161178006862733
                    ],
                    [
                      21.91,
                      3.1934318999999998,
                      34.12,
                      0.012124694918575775
                    ],
                    [
                      27.49,
                      7.248487,
                      11.77,
                      -0.002602194966189144
                    ],
                    [
                      18.02,
                      3.9272704,
                      1.17,
                      -0.00048757850988621025
                    ],
                    [
                      15.72,
                      1.28693,
                      3.07,
                      -0.00042657659893862343
                    ],
                    [
                      16.11,
                      3.4491453,
                      1.88,
                      -0.0015911640979352109
                    ],
                    [
                      21.51,
                      3.6705062000000006,
                      null,
                      0.00944620114219623
                    ],
                    [
                      12.69,
                      4.0020885,
                      3.4,
                      0.008146484147308676
                    ],
                    [
                      11.96,
                      1.7167546000000002,
                      1.53,
                      -0.020251277805570133
                    ],
                    [
                      20.46,
                      3.1595004,
                      3.85,
                      0.0029940294974010965
                    ],
                    [
                      20.76,
                      1.1458876,
                      3.25,
                      0.003933568573636418
                    ],
                    [
                      21.6,
                      1.8652664,
                      4.39,
                      -0.007881089623740971
                    ],
                    [
                      12.86,
                      1.0341544,
                      1.99,
                      -0.03208002738278349
                    ],
                    [
                      18.57,
                      1.741522,
                      5.54,
                      -0.002818124206272134
                    ],
                    [
                      24.68,
                      3.7116462999999995,
                      3.25,
                      -0.0120329546899741
                    ],
                    [
                      20.76,
                      14.380373,
                      2.11,
                      0.002750006546750386
                    ],
                    [
                      22.36,
                      2.7574685000000003,
                      1318.7,
                      0.0011355560502218597
                    ],
                    [
                      17.55,
                      4.046530000000001,
                      1.53,
                      -0.017913485156501235
                    ],
                    [
                      18.89,
                      2.5191512,
                      2.48,
                      -0.01443953737103722
                    ],
                    [
                      16.06,
                      2.9931207000000004,
                      1.65,
                      -0.0020108650655840093
                    ],
                    [
                      18.73,
                      1.9551051,
                      4.83,
                      -0.013768245617619445
                    ],
                    [
                      12.83,
                      3.7497053,
                      1.95,
                      -0.009757351780341088
                    ],
                    [
                      null,
                      3.3850067000000004,
                      2.03,
                      0.0187964441543274
                    ],
                    [
                      9.99,
                      1.083727,
                      0.93,
                      -0.01901931192244597
                    ],
                    [
                      18.21,
                      16.164170000000002,
                      6.56,
                      -0.005234360091881988
                    ],
                    [
                      21.11,
                      0.47499472,
                      2.12,
                      -0.00867343603403108
                    ],
                    [
                      20.98,
                      1.7617522,
                      2.14,
                      -0.017457106789277477
                    ],
                    [
                      17.54,
                      0.77893436,
                      1.43,
                      -0.0219483543574864
                    ],
                    [
                      118.29,
                      6.7890477,
                      2.76,
                      -0.043827293506679695
                    ],
                    [
                      49.53,
                      6.935696000000001,
                      5.81,
                      0.0010825507949443177
                    ],
                    [
                      16.51,
                      4.263658,
                      3.82,
                      0.011001484646967808
                    ],
                    [
                      19.71,
                      3.3891419999999997,
                      1.98,
                      0.005795453434319594
                    ],
                    [
                      16.26,
                      3.1026611,
                      2.56,
                      -0.001391595661048713
                    ],
                    [
                      27.24,
                      2.0991988,
                      1.16,
                      -0.017537793875044137
                    ],
                    [
                      15.27,
                      13.762162,
                      1.51,
                      -0.006978265068693423
                    ],
                    [
                      27.93,
                      8.48541,
                      5.89,
                      0.01885642819880629
                    ],
                    [
                      17.9,
                      3.474771,
                      1.32,
                      -0.023228165294318707
                    ],
                    [
                      20.18,
                      1.3330402,
                      5.98,
                      -0.008718019641592249
                    ],
                    [
                      16.94,
                      1.9734555,
                      2.34,
                      -0.008318083562560157
                    ],
                    [
                      17.74,
                      1.3948757999999999,
                      2.44,
                      -0.009708907431549304
                    ],
                    [
                      31.54,
                      6.1640687000000005,
                      6.61,
                      0.020634724524799707
                    ],
                    [
                      26.48,
                      3.760594,
                      10.94,
                      -0.013050491714356554
                    ],
                    [
                      27.57,
                      5.9715905,
                      4.23,
                      -0.015522851875552374
                    ],
                    [
                      26.52,
                      2.9734495,
                      10.28,
                      -0.0030903662706156377
                    ],
                    [
                      26.13,
                      2.8841186000000003,
                      2.83,
                      -0.010359240255954156
                    ],
                    [
                      199.81,
                      15.189207000000001,
                      91.04,
                      -0.0015030114373353284
                    ],
                    [
                      25.98,
                      3.4392443,
                      13.36,
                      0.004116013979666568
                    ],
                    [
                      29.82,
                      7.949615,
                      4.51,
                      -0.01104421493669352
                    ],
                    [
                      21.31,
                      2.4700067000000003,
                      10.55,
                      -0.010352757313619378
                    ],
                    [
                      26.75,
                      2.5276077,
                      13.42,
                      0.000091706665877836
                    ],
                    [
                      15.35,
                      2.496677,
                      1.88,
                      0.008144558168700662
                    ],
                    [
                      44.93,
                      3.2297827999999997,
                      2.64,
                      -0.04394682402970106
                    ],
                    [
                      14.07,
                      6.5820084,
                      1.32,
                      -0.024855605407227494
                    ],
                    [
                      15.81,
                      3.5114812999999994,
                      3.21,
                      -0.002348781745213443
                    ],
                    [
                      67.72,
                      6.276264,
                      3.98,
                      0.0017035966500550783
                    ],
                    [
                      15.78,
                      2.5080602,
                      1.82,
                      -0.0051256268765335995
                    ],
                    [
                      13.56,
                      8.754495,
                      13.24,
                      -0.014665506912407944
                    ],
                    [
                      27.38,
                      10.254703999999998,
                      50.56,
                      -0.0038681085021168332
                    ],
                    [
                      19.14,
                      3.1530299999999998,
                      1.98,
                      -0.016243655785616273
                    ],
                    [
                      15.35,
                      3.263072,
                      1.95,
                      -0.014283023234911986
                    ],
                    [
                      11.51,
                      1.3048558000000001,
                      13.33,
                      0.0035003608296690527
                    ],
                    [
                      30.92,
                      5.145596,
                      5.14,
                      -0.018910561725526825
                    ],
                    [
                      20.57,
                      1.944325,
                      3.34,
                      -0.013241068446344425
                    ],
                    [
                      16.45,
                      6.970443700000001,
                      4.25,
                      0.01340427710072182
                    ],
                    [
                      13.35,
                      2.1096623,
                      1.97,
                      -0.023515501483424475
                    ],
                    [
                      23.46,
                      4.635566000000001,
                      5.54,
                      -0.006937355714453126
                    ],
                    [
                      22.98,
                      0.7295535,
                      13.4,
                      0.0039413272836162595
                    ],
                    [
                      12.14,
                      1.4083152,
                      1.8,
                      -0.0047819488446779485
                    ],
                    [
                      17.66,
                      1.2371694,
                      1.34,
                      -0.006209883105524621
                    ],
                    [
                      23.76,
                      4.268832,
                      null,
                      -0.015375226889448472
                    ],
                    [
                      19.72,
                      2.5734365,
                      3.6,
                      0.001828845542070831
                    ],
                    [
                      14.19,
                      0.8047394,
                      3.45,
                      0.008497711098673415
                    ],
                    [
                      27,
                      4.516748000000001,
                      3.97,
                      -0.008860878815813985
                    ],
                    [
                      21.01,
                      1.9293598,
                      10.35,
                      0.0004174320942352367
                    ],
                    [
                      21.84,
                      4.015666,
                      3.38,
                      -0.007202762885780295
                    ],
                    [
                      null,
                      4.0785494,
                      4.35,
                      -0.04828940525007715
                    ],
                    [
                      19.92,
                      7.3911157,
                      4.61,
                      -0.0060624228765978035
                    ],
                    [
                      16.48,
                      1.33382,
                      1.63,
                      -0.0029864074678875433
                    ],
                    [
                      19.57,
                      1.1642125,
                      6.01,
                      -0.0021639572658213946
                    ],
                    [
                      13.92,
                      0.93730986,
                      2.55,
                      0.019242405742436793
                    ],
                    [
                      24.05,
                      6.957223399999999,
                      9.32,
                      0.011016626122169785
                    ],
                    [
                      22.13,
                      1.0645695,
                      2.57,
                      -0.004444182664528521
                    ],
                    [
                      29.15,
                      1.4738787,
                      2.5,
                      -0.016264252359868055
                    ],
                    [
                      32.05,
                      1.602308,
                      2.72,
                      -0.015550714337290984
                    ],
                    [
                      8.85,
                      0.5020496,
                      2.09,
                      -0.0029850004191367277
                    ],
                    [
                      17.79,
                      12.365829,
                      3.27,
                      -0.012654322633433777
                    ],
                    [
                      15.36,
                      1.3158662,
                      2.21,
                      0.0033511618575198508
                    ],
                    [
                      32.07,
                      3.3779112999999996,
                      8.04,
                      -0.0028379227702359684
                    ],
                    [
                      21.47,
                      1.0903316,
                      4.71,
                      0.004129111703455036
                    ],
                    [
                      11.51,
                      0.9984924000000001,
                      1.19,
                      -0.010589347569006789
                    ],
                    [
                      22.06,
                      4.8605075,
                      null,
                      -0.01391231350295036
                    ],
                    [
                      18.27,
                      1.4744618,
                      64.7,
                      0.0021269144750821595
                    ],
                    [
                      16.33,
                      2.1782618,
                      4.53,
                      0.0065829786458879505
                    ],
                    [
                      15.35,
                      3.7773547,
                      2.09,
                      -0.020473956048845648
                    ],
                    [
                      32.72,
                      14.433654,
                      9.4,
                      -0.0018418837533784888
                    ],
                    [
                      29.93,
                      3.9652252,
                      7.32,
                      -0.01268207769855442
                    ],
                    [
                      25.9,
                      3.7110943999999995,
                      7.89,
                      -0.01176635834565386
                    ],
                    [
                      18.74,
                      0.42119179999999995,
                      1.93,
                      -0.009163805209150092
                    ],
                    [
                      40.9,
                      5.7576876,
                      3.54,
                      -0.0067819996734434645
                    ],
                    [
                      16.22,
                      7.1491003,
                      3.63,
                      -0.008980816172689235
                    ],
                    [
                      28.84,
                      9.935474000000001,
                      9.34,
                      -0.0015079104677364942
                    ],
                    [
                      29.5,
                      12.401829,
                      10.82,
                      0.005344507525759112
                    ],
                    [
                      252.67,
                      16.185404000000002,
                      21.91,
                      0.01469448885212424
                    ],
                    [
                      12.21,
                      7.074049499999999,
                      1.76,
                      -0.0045997584717260695
                    ],
                    [
                      13.08,
                      1.6452543999999998,
                      7.96,
                      0.007629492017963376
                    ],
                    [
                      26.64,
                      6.9824114,
                      6.15,
                      0.0023448517684944085
                    ],
                    [
                      13.38,
                      0.5904388,
                      3.06,
                      0.013593261042162026
                    ],
                    [
                      10.19,
                      1.245503,
                      2,
                      0.020555458651332282
                    ],
                    [
                      19.57,
                      2.4834197000000002,
                      2.1,
                      0.0030359440975371438
                    ],
                    [
                      13.58,
                      2.8728192000000004,
                      1.58,
                      -0.007094343462732031
                    ],
                    [
                      11.77,
                      0.58064795,
                      2.57,
                      -0.03088312940650026
                    ],
                    [
                      18.67,
                      3.4484663,
                      2.1,
                      0.00015933889095972117
                    ],
                    [
                      25.36,
                      3.2787669000000004,
                      6.73,
                      -0.011309607785439364
                    ],
                    [
                      48.41,
                      4.2982845,
                      3.01,
                      -0.012663840035949534
                    ],
                    [
                      23.1,
                      0.82099426,
                      3.89,
                      0.02127575067156738
                    ],
                    [
                      23.26,
                      1.075785,
                      1.58,
                      0.009018830219523847
                    ],
                    [
                      10.17,
                      2.22677,
                      12.65,
                      0.00006315524674316549
                    ],
                    [
                      34.29,
                      3.6396794000000003,
                      2.9,
                      -0.01640729118118777
                    ],
                    [
                      31.7,
                      2.4786580000000002,
                      51.69,
                      0.007420185868078578
                    ],
                    [
                      18.14,
                      2.5204560000000003,
                      1.94,
                      0.006318139386562491
                    ],
                    [
                      27.19,
                      7.1012059999999995,
                      7.22,
                      0.010253854498463177
                    ],
                    [
                      21.37,
                      1.7701944,
                      1.85,
                      -0.009476366380592365
                    ],
                    [
                      22.65,
                      4.6262620000000005,
                      1.8,
                      -0.006798807046316282
                    ],
                    [
                      8.87,
                      0.7877656,
                      1.49,
                      -0.015514751471628483
                    ],
                    [
                      30.94,
                      2.7262093999999997,
                      5.31,
                      -0.0015528394995825737
                    ],
                    [
                      27.25,
                      6.3136363,
                      212.08,
                      -0.0049114501085677385
                    ],
                    [
                      14.32,
                      3.1648953,
                      2.39,
                      -0.012867204325537788
                    ],
                    [
                      17.73,
                      3.7945792999999997,
                      1.42,
                      -0.02075611510579531
                    ],
                    [
                      32.8,
                      9.280896,
                      18.09,
                      -0.01256373658423224
                    ],
                    [
                      "(?)",
                      "(?)",
                      "(?)",
                      0.003521204420418416
                    ],
                    [
                      "(?)",
                      "(?)",
                      "(?)",
                      0.005719012949767131
                    ],
                    [
                      "(?)",
                      "(?)",
                      "(?)",
                      -0.022086897475122217
                    ],
                    [
                      "(?)",
                      "(?)",
                      "(?)",
                      -0.010657175920663503
                    ],
                    [
                      "(?)",
                      "(?)",
                      "(?)",
                      0.0015152601909513225
                    ],
                    [
                      "(?)",
                      "(?)",
                      "(?)",
                      -0.006402095050403783
                    ],
                    [
                      "(?)",
                      "(?)",
                      "(?)",
                      0.0074087890498917485
                    ],
                    [
                      "(?)",
                      "(?)",
                      "(?)",
                      -0.009221511024211728
                    ],
                    [
                      "(?)",
                      "(?)",
                      "(?)",
                      -0.00792355419240285
                    ],
                    [
                      "(?)",
                      "(?)",
                      "(?)",
                      0.000969585125463593
                    ],
                    [
                      "(?)",
                      "(?)",
                      "(?)",
                      -0.0032122956448452345
                    ],
                    [
                      "(?)",
                      "(?)",
                      "(?)",
                      -0.00023398907171855293
                    ]
                  ],
                  "domain": {
                    "x": [
                      0,
                      1
                    ],
                    "y": [
                      0,
                      1
                    ]
                  },
                  "hovertemplate": "labels=%{label}<br>Market Cap=%{value}<br>parent=%{parent}<br>id=%{id}<br>Price/Earnings=%{customdata[0]}<br>Price/Sales=%{customdata[1]}<br>Price/Book=%{customdata[2]}<br>COVID beta=%{color}<extra></extra>",
                  "ids": [
                    "S&P500/Health Care/A",
                    "S&P500/Industrials/AAL",
                    "S&P500/Consumer Discretionary/AAP",
                    "S&P500/Information Technology/AAPL",
                    "S&P500/Health Care/ABBV",
                    "S&P500/Health Care/ABC",
                    "S&P500/Health Care/ABT",
                    "S&P500/Information Technology/ACN",
                    "S&P500/Information Technology/ADBE",
                    "S&P500/Information Technology/ADI",
                    "S&P500/Consumer Staples/ADM",
                    "S&P500/Information Technology/ADP",
                    "S&P500/Information Technology/ADSK",
                    "S&P500/Utilities/AEE",
                    "S&P500/Utilities/AEP",
                    "S&P500/Utilities/AES",
                    "S&P500/Financials/AFL",
                    "S&P500/Financials/AIG",
                    "S&P500/Real Estate/AIV",
                    "S&P500/Financials/AIZ",
                    "S&P500/Financials/AJG",
                    "S&P500/Information Technology/AKAM",
                    "S&P500/Materials/ALB",
                    "S&P500/Health Care/ALGN",
                    "S&P500/Industrials/ALK",
                    "S&P500/Financials/ALL",
                    "S&P500/Industrials/ALLE",
                    "S&P500/Health Care/ALXN",
                    "S&P500/Information Technology/AMAT",
                    "S&P500/Information Technology/AMD",
                    "S&P500/Industrials/AME",
                    "S&P500/Health Care/AMGN",
                    "S&P500/Financials/AMP",
                    "S&P500/Real Estate/AMT",
                    "S&P500/Consumer Discretionary/AMZN",
                    "S&P500/Information Technology/ANSS",
                    "S&P500/Health Care/ANTM",
                    "S&P500/Financials/AON",
                    "S&P500/Industrials/AOS",
                    "S&P500/Materials/APD",
                    "S&P500/Information Technology/APH",
                    "S&P500/Consumer Discretionary/APTV",
                    "S&P500/Real Estate/ARE",
                    "S&P500/Information Technology/ATVI",
                    "S&P500/Real Estate/AVB",
                    "S&P500/Information Technology/AVGO",
                    "S&P500/Materials/AVY",
                    "S&P500/Utilities/AWK",
                    "S&P500/Financials/AXP",
                    "S&P500/Consumer Discretionary/AZO",
                    "S&P500/Industrials/BA",
                    "S&P500/Financials/BAC",
                    "S&P500/Health Care/BAX",
                    "S&P500/Consumer Discretionary/BBY",
                    "S&P500/Health Care/BDX",
                    "S&P500/Financials/BEN",
                    "S&P500/Health Care/BIIB",
                    "S&P500/Financials/BK",
                    "S&P500/Financials/BLK",
                    "S&P500/Materials/BLL",
                    "S&P500/Health Care/BMY",
                    "S&P500/Health Care/BSX",
                    "S&P500/Consumer Discretionary/BWA",
                    "S&P500/Real Estate/BXP",
                    "S&P500/Financials/C",
                    "S&P500/Consumer Staples/CAG",
                    "S&P500/Health Care/CAH",
                    "S&P500/Industrials/CAT",
                    "S&P500/Financials/CB",
                    "S&P500/Financials/CBOE",
                    "S&P500/Real Estate/CCI",
                    "S&P500/Consumer Discretionary/CCL",
                    "S&P500/Information Technology/CDNS",
                    "S&P500/Health Care/CERN",
                    "S&P500/Materials/CF",
                    "S&P500/Financials/CFG",
                    "S&P500/Consumer Staples/CHD",
                    "S&P500/Industrials/CHRW",
                    "S&P500/Consumer Discretionary/CHTR",
                    "S&P500/Health Care/CI",
                    "S&P500/Financials/CINF",
                    "S&P500/Consumer Staples/CL",
                    "S&P500/Consumer Staples/CLX",
                    "S&P500/Financials/CMA",
                    "S&P500/Consumer Discretionary/CMCSA",
                    "S&P500/Financials/CME",
                    "S&P500/Consumer Discretionary/CMG",
                    "S&P500/Industrials/CMI",
                    "S&P500/Utilities/CMS",
                    "S&P500/Health Care/CNC",
                    "S&P500/Utilities/CNP",
                    "S&P500/Financials/COF",
                    "S&P500/Energy/COG",
                    "S&P500/Health Care/COO",
                    "S&P500/Energy/COP",
                    "S&P500/Consumer Staples/COST",
                    "S&P500/Consumer Staples/COTY",
                    "S&P500/Consumer Staples/CPB",
                    "S&P500/Information Technology/CRM",
                    "S&P500/Information Technology/CSCO",
                    "S&P500/Industrials/CSX",
                    "S&P500/Industrials/CTAS",
                    "S&P500/Telecommunication Services/CTL",
                    "S&P500/Information Technology/CTSH",
                    "S&P500/Information Technology/CTXS",
                    "S&P500/Consumer Staples/CVS",
                    "S&P500/Energy/CVX",
                    "S&P500/Energy/CXO",
                    "S&P500/Utilities/D",
                    "S&P500/Industrials/DAL",
                    "S&P500/Industrials/DE",
                    "S&P500/Financials/DFS",
                    "S&P500/Consumer Discretionary/DG",
                    "S&P500/Health Care/DGX",
                    "S&P500/Consumer Discretionary/DHI",
                    "S&P500/Health Care/DHR",
                    "S&P500/Consumer Discretionary/DIS",
                    "S&P500/Consumer Discretionary/DISCA",
                    "S&P500/Consumer Discretionary/DISCK",
                    "S&P500/Consumer Discretionary/DISH",
                    "S&P500/Real Estate/DLR",
                    "S&P500/Consumer Discretionary/DLTR",
                    "S&P500/Industrials/DOV",
                    "S&P500/Real Estate/DRE",
                    "S&P500/Consumer Discretionary/DRI",
                    "S&P500/Utilities/DTE",
                    "S&P500/Utilities/DUK",
                    "S&P500/Health Care/DVA",
                    "S&P500/Energy/DVN",
                    "S&P500/Information Technology/DXC",
                    "S&P500/Information Technology/EA",
                    "S&P500/Information Technology/EBAY",
                    "S&P500/Materials/ECL",
                    "S&P500/Utilities/ED",
                    "S&P500/Industrials/EFX",
                    "S&P500/Utilities/EIX",
                    "S&P500/Consumer Staples/EL",
                    "S&P500/Materials/EMN",
                    "S&P500/Industrials/EMR",
                    "S&P500/Energy/EOG",
                    "S&P500/Real Estate/EQIX",
                    "S&P500/Real Estate/EQR",
                    "S&P500/Utilities/ES",
                    "S&P500/Real Estate/ESS",
                    "S&P500/Industrials/ETN",
                    "S&P500/Utilities/ETR",
                    "S&P500/Health Care/EW",
                    "S&P500/Utilities/EXC",
                    "S&P500/Industrials/EXPD",
                    "S&P500/Consumer Discretionary/EXPE",
                    "S&P500/Real Estate/EXR",
                    "S&P500/Consumer Discretionary/F",
                    "S&P500/Industrials/FAST",
                    "S&P500/Information Technology/FB",
                    "S&P500/Industrials/FBHS",
                    "S&P500/Materials/FCX",
                    "S&P500/Industrials/FDX",
                    "S&P500/Utilities/FE",
                    "S&P500/Information Technology/FFIV",
                    "S&P500/Information Technology/FIS",
                    "S&P500/Information Technology/FISV",
                    "S&P500/Financials/FITB",
                    "S&P500/Information Technology/FLIR",
                    "S&P500/Industrials/FLS",
                    "S&P500/Materials/FMC",
                    "S&P500/Consumer Discretionary/FOX",
                    "S&P500/Consumer Discretionary/FOXA",
                    "S&P500/Real Estate/FRT",
                    "S&P500/Energy/FTI",
                    "S&P500/Industrials/FTV",
                    "S&P500/Industrials/GD",
                    "S&P500/Industrials/GE",
                    "S&P500/Health Care/GILD",
                    "S&P500/Consumer Staples/GIS",
                    "S&P500/Information Technology/GLW",
                    "S&P500/Consumer Discretionary/GM",
                    "S&P500/Information Technology/GOOG",
                    "S&P500/Information Technology/GOOGL",
                    "S&P500/Consumer Discretionary/GPC",
                    "S&P500/Information Technology/GPN",
                    "S&P500/Consumer Discretionary/GRMN",
                    "S&P500/Financials/GS",
                    "S&P500/Industrials/GWW",
                    "S&P500/Energy/HAL",
                    "S&P500/Consumer Discretionary/HAS",
                    "S&P500/Financials/HBAN",
                    "S&P500/Consumer Discretionary/HBI",
                    "S&P500/Health Care/HCA",
                    "S&P500/Consumer Discretionary/HD",
                    "S&P500/Energy/HES",
                    "S&P500/Financials/HIG",
                    "S&P500/Industrials/HII",
                    "S&P500/Consumer Discretionary/HLT",
                    "S&P500/Health Care/HOLX",
                    "S&P500/Industrials/HON",
                    "S&P500/Information Technology/HPE",
                    "S&P500/Information Technology/HPQ",
                    "S&P500/Financials/HRB",
                    "S&P500/Consumer Staples/HRL",
                    "S&P500/Health Care/HSIC",
                    "S&P500/Real Estate/HST",
                    "S&P500/Consumer Staples/HSY",
                    "S&P500/Health Care/HUM",
                    "S&P500/Information Technology/IBM",
                    "S&P500/Financials/ICE",
                    "S&P500/Health Care/IDXX",
                    "S&P500/Materials/IFF",
                    "S&P500/Health Care/ILMN",
                    "S&P500/Health Care/INCY",
                    "S&P500/Industrials/INFO",
                    "S&P500/Information Technology/INTC",
                    "S&P500/Information Technology/INTU",
                    "S&P500/Materials/IP",
                    "S&P500/Consumer Discretionary/IPG",
                    "S&P500/Health Care/IQV",
                    "S&P500/Industrials/IR",
                    "S&P500/Real Estate/IRM",
                    "S&P500/Health Care/ISRG",
                    "S&P500/Information Technology/IT",
                    "S&P500/Industrials/ITW",
                    "S&P500/Financials/IVZ",
                    "S&P500/Industrials/JBHT",
                    "S&P500/Industrials/JCI",
                    "S&P500/Health Care/JNJ",
                    "S&P500/Information Technology/JNPR",
                    "S&P500/Financials/JPM",
                    "S&P500/Consumer Staples/K",
                    "S&P500/Financials/KEY",
                    "S&P500/Consumer Staples/KHC",
                    "S&P500/Real Estate/KIM",
                    "S&P500/Information Technology/KLAC",
                    "S&P500/Consumer Staples/KMB",
                    "S&P500/Energy/KMI",
                    "S&P500/Consumer Discretionary/KMX",
                    "S&P500/Consumer Staples/KO",
                    "S&P500/Consumer Staples/KR",
                    "S&P500/Consumer Discretionary/KSS",
                    "S&P500/Industrials/KSU",
                    "S&P500/Financials/L",
                    "S&P500/Consumer Discretionary/LB",
                    "S&P500/Consumer Discretionary/LEG",
                    "S&P500/Consumer Discretionary/LEN",
                    "S&P500/Health Care/LH",
                    "S&P500/Consumer Discretionary/LKQ",
                    "S&P500/Health Care/LLY",
                    "S&P500/Industrials/LMT",
                    "S&P500/Financials/LNC",
                    "S&P500/Utilities/LNT",
                    "S&P500/Consumer Discretionary/LOW",
                    "S&P500/Information Technology/LRCX",
                    "S&P500/Industrials/LUV",
                    "S&P500/Materials/LYB",
                    "S&P500/Information Technology/MA",
                    "S&P500/Real Estate/MAA",
                    "S&P500/Consumer Discretionary/MAR",
                    "S&P500/Industrials/MAS",
                    "S&P500/Consumer Discretionary/MCD",
                    "S&P500/Information Technology/MCHP",
                    "S&P500/Health Care/MCK",
                    "S&P500/Financials/MCO",
                    "S&P500/Consumer Staples/MDLZ",
                    "S&P500/Health Care/MDT",
                    "S&P500/Financials/MET",
                    "S&P500/Consumer Discretionary/MGM",
                    "S&P500/Consumer Discretionary/MHK",
                    "S&P500/Consumer Staples/MKC",
                    "S&P500/Materials/MLM",
                    "S&P500/Financials/MMC",
                    "S&P500/Industrials/MMM",
                    "S&P500/Consumer Staples/MNST",
                    "S&P500/Consumer Staples/MO",
                    "S&P500/Materials/MOS",
                    "S&P500/Energy/MPC",
                    "S&P500/Health Care/MRK",
                    "S&P500/Financials/MS",
                    "S&P500/Information Technology/MSFT",
                    "S&P500/Information Technology/MSI",
                    "S&P500/Financials/MTB",
                    "S&P500/Health Care/MTD",
                    "S&P500/Information Technology/MU",
                    "S&P500/Health Care/MYL",
                    "S&P500/Energy/NBL",
                    "S&P500/Consumer Discretionary/NCLH",
                    "S&P500/Financials/NDAQ",
                    "S&P500/Utilities/NEE",
                    "S&P500/Materials/NEM",
                    "S&P500/Information Technology/NFLX",
                    "S&P500/Utilities/NI",
                    "S&P500/Consumer Discretionary/NKE",
                    "S&P500/Industrials/NLSN",
                    "S&P500/Industrials/NOC",
                    "S&P500/Energy/NOV",
                    "S&P500/Utilities/NRG",
                    "S&P500/Industrials/NSC",
                    "S&P500/Information Technology/NTAP",
                    "S&P500/Financials/NTRS",
                    "S&P500/Materials/NUE",
                    "S&P500/Information Technology/NVDA",
                    "S&P500/Consumer Discretionary/NWL",
                    "S&P500/Consumer Discretionary/NWS",
                    "S&P500/Consumer Discretionary/NWSA",
                    "S&P500/Real Estate/O",
                    "S&P500/Consumer Discretionary/OMC",
                    "S&P500/Information Technology/ORCL",
                    "S&P500/Consumer Discretionary/ORLY",
                    "S&P500/Information Technology/PAYX",
                    "S&P500/Financials/PBCT",
                    "S&P500/Industrials/PCAR",
                    "S&P500/Utilities/PEG",
                    "S&P500/Consumer Staples/PEP",
                    "S&P500/Health Care/PFE",
                    "S&P500/Financials/PFG",
                    "S&P500/Consumer Staples/PG",
                    "S&P500/Financials/PGR",
                    "S&P500/Industrials/PH",
                    "S&P500/Consumer Discretionary/PHM",
                    "S&P500/Materials/PKG",
                    "S&P500/Health Care/PKI",
                    "S&P500/Real Estate/PLD",
                    "S&P500/Consumer Staples/PM",
                    "S&P500/Financials/PNC",
                    "S&P500/Industrials/PNR",
                    "S&P500/Utilities/PNW",
                    "S&P500/Materials/PPG",
                    "S&P500/Utilities/PPL",
                    "S&P500/Health Care/PRGO",
                    "S&P500/Financials/PRU",
                    "S&P500/Real Estate/PSA",
                    "S&P500/Energy/PSX",
                    "S&P500/Consumer Discretionary/PVH",
                    "S&P500/Industrials/PWR",
                    "S&P500/Energy/PXD",
                    "S&P500/Information Technology/PYPL",
                    "S&P500/Information Technology/QCOM",
                    "S&P500/Information Technology/QRVO",
                    "S&P500/Consumer Discretionary/RCL",
                    "S&P500/Financials/RE",
                    "S&P500/Real Estate/REG",
                    "S&P500/Health Care/REGN",
                    "S&P500/Financials/RF",
                    "S&P500/Industrials/RHI",
                    "S&P500/Financials/RJF",
                    "S&P500/Consumer Discretionary/RL",
                    "S&P500/Health Care/RMD",
                    "S&P500/Industrials/ROK",
                    "S&P500/Industrials/ROP",
                    "S&P500/Consumer Discretionary/ROST",
                    "S&P500/Industrials/RSG",
                    "S&P500/Real Estate/SBAC",
                    "S&P500/Consumer Discretionary/SBUX",
                    "S&P500/Financials/SCHW",
                    "S&P500/Materials/SEE",
                    "S&P500/Materials/SHW",
                    "S&P500/Consumer Staples/SJM",
                    "S&P500/Energy/SLB",
                    "S&P500/Real Estate/SLG",
                    "S&P500/Consumer Discretionary/SNA",
                    "S&P500/Information Technology/SNPS",
                    "S&P500/Utilities/SO",
                    "S&P500/Real Estate/SPG",
                    "S&P500/Financials/SPGI",
                    "S&P500/Utilities/SRE",
                    "S&P500/Financials/STT",
                    "S&P500/Information Technology/STX",
                    "S&P500/Consumer Staples/STZ",
                    "S&P500/Consumer Discretionary/SWK",
                    "S&P500/Information Technology/SWKS",
                    "S&P500/Financials/SYF",
                    "S&P500/Health Care/SYK",
                    "S&P500/Consumer Staples/SYY",
                    "S&P500/Telecommunication Services/T",
                    "S&P500/Consumer Staples/TAP",
                    "S&P500/Industrials/TDG",
                    "S&P500/Information Technology/TEL",
                    "S&P500/Consumer Discretionary/TGT",
                    "S&P500/Consumer Discretionary/TIF",
                    "S&P500/Consumer Discretionary/TJX",
                    "S&P500/Health Care/TMO",
                    "S&P500/Consumer Discretionary/TPR",
                    "S&P500/Financials/TROW",
                    "S&P500/Financials/TRV",
                    "S&P500/Consumer Discretionary/TSCO",
                    "S&P500/Consumer Staples/TSN",
                    "S&P500/Information Technology/TXN",
                    "S&P500/Industrials/TXT",
                    "S&P500/Consumer Discretionary/UA",
                    "S&P500/Consumer Discretionary/UAA",
                    "S&P500/Industrials/UAL",
                    "S&P500/Real Estate/UDR",
                    "S&P500/Health Care/UHS",
                    "S&P500/Consumer Discretionary/ULTA",
                    "S&P500/Health Care/UNH",
                    "S&P500/Financials/UNM",
                    "S&P500/Industrials/UNP",
                    "S&P500/Industrials/UPS",
                    "S&P500/Industrials/URI",
                    "S&P500/Financials/USB",
                    "S&P500/Information Technology/V",
                    "S&P500/Health Care/VAR",
                    "S&P500/Consumer Discretionary/VFC",
                    "S&P500/Energy/VLO",
                    "S&P500/Materials/VMC",
                    "S&P500/Real Estate/VNO",
                    "S&P500/Industrials/VRSK",
                    "S&P500/Information Technology/VRSN",
                    "S&P500/Health Care/VRTX",
                    "S&P500/Real Estate/VTR",
                    "S&P500/Telecommunication Services/VZ",
                    "S&P500/Health Care/WAT",
                    "S&P500/Consumer Staples/WBA",
                    "S&P500/Information Technology/WDC",
                    "S&P500/Utilities/WEC",
                    "S&P500/Financials/WFC",
                    "S&P500/Consumer Discretionary/WHR",
                    "S&P500/Financials/WLTW",
                    "S&P500/Industrials/WM",
                    "S&P500/Energy/WMB",
                    "S&P500/Consumer Staples/WMT",
                    "S&P500/Materials/WRK",
                    "S&P500/Information Technology/WU",
                    "S&P500/Real Estate/WY",
                    "S&P500/Consumer Discretionary/WYNN",
                    "S&P500/Utilities/XEL",
                    "S&P500/Information Technology/XLNX",
                    "S&P500/Energy/XOM",
                    "S&P500/Health Care/XRAY",
                    "S&P500/Information Technology/XRX",
                    "S&P500/Industrials/XYL",
                    "S&P500/Consumer Discretionary/YUM",
                    "S&P500/Health Care/ZBH",
                    "S&P500/Financials/ZION",
                    "S&P500/Health Care/ZTS",
                    "S&P500/Consumer Discretionary",
                    "S&P500/Consumer Staples",
                    "S&P500/Energy",
                    "S&P500/Financials",
                    "S&P500/Health Care",
                    "S&P500/Industrials",
                    "S&P500/Information Technology",
                    "S&P500/Materials",
                    "S&P500/Real Estate",
                    "S&P500/Telecommunication Services",
                    "S&P500/Utilities",
                    "S&P500"
                  ],
                  "labels": [
                    "A",
                    "AAL",
                    "AAP",
                    "AAPL",
                    "ABBV",
                    "ABC",
                    "ABT",
                    "ACN",
                    "ADBE",
                    "ADI",
                    "ADM",
                    "ADP",
                    "ADSK",
                    "AEE",
                    "AEP",
                    "AES",
                    "AFL",
                    "AIG",
                    "AIV",
                    "AIZ",
                    "AJG",
                    "AKAM",
                    "ALB",
                    "ALGN",
                    "ALK",
                    "ALL",
                    "ALLE",
                    "ALXN",
                    "AMAT",
                    "AMD",
                    "AME",
                    "AMGN",
                    "AMP",
                    "AMT",
                    "AMZN",
                    "ANSS",
                    "ANTM",
                    "AON",
                    "AOS",
                    "APD",
                    "APH",
                    "APTV",
                    "ARE",
                    "ATVI",
                    "AVB",
                    "AVGO",
                    "AVY",
                    "AWK",
                    "AXP",
                    "AZO",
                    "BA",
                    "BAC",
                    "BAX",
                    "BBY",
                    "BDX",
                    "BEN",
                    "BIIB",
                    "BK",
                    "BLK",
                    "BLL",
                    "BMY",
                    "BSX",
                    "BWA",
                    "BXP",
                    "C",
                    "CAG",
                    "CAH",
                    "CAT",
                    "CB",
                    "CBOE",
                    "CCI",
                    "CCL",
                    "CDNS",
                    "CERN",
                    "CF",
                    "CFG",
                    "CHD",
                    "CHRW",
                    "CHTR",
                    "CI",
                    "CINF",
                    "CL",
                    "CLX",
                    "CMA",
                    "CMCSA",
                    "CME",
                    "CMG",
                    "CMI",
                    "CMS",
                    "CNC",
                    "CNP",
                    "COF",
                    "COG",
                    "COO",
                    "COP",
                    "COST",
                    "COTY",
                    "CPB",
                    "CRM",
                    "CSCO",
                    "CSX",
                    "CTAS",
                    "CTL",
                    "CTSH",
                    "CTXS",
                    "CVS",
                    "CVX",
                    "CXO",
                    "D",
                    "DAL",
                    "DE",
                    "DFS",
                    "DG",
                    "DGX",
                    "DHI",
                    "DHR",
                    "DIS",
                    "DISCA",
                    "DISCK",
                    "DISH",
                    "DLR",
                    "DLTR",
                    "DOV",
                    "DRE",
                    "DRI",
                    "DTE",
                    "DUK",
                    "DVA",
                    "DVN",
                    "DXC",
                    "EA",
                    "EBAY",
                    "ECL",
                    "ED",
                    "EFX",
                    "EIX",
                    "EL",
                    "EMN",
                    "EMR",
                    "EOG",
                    "EQIX",
                    "EQR",
                    "ES",
                    "ESS",
                    "ETN",
                    "ETR",
                    "EW",
                    "EXC",
                    "EXPD",
                    "EXPE",
                    "EXR",
                    "F",
                    "FAST",
                    "FB",
                    "FBHS",
                    "FCX",
                    "FDX",
                    "FE",
                    "FFIV",
                    "FIS",
                    "FISV",
                    "FITB",
                    "FLIR",
                    "FLS",
                    "FMC",
                    "FOX",
                    "FOXA",
                    "FRT",
                    "FTI",
                    "FTV",
                    "GD",
                    "GE",
                    "GILD",
                    "GIS",
                    "GLW",
                    "GM",
                    "GOOG",
                    "GOOGL",
                    "GPC",
                    "GPN",
                    "GRMN",
                    "GS",
                    "GWW",
                    "HAL",
                    "HAS",
                    "HBAN",
                    "HBI",
                    "HCA",
                    "HD",
                    "HES",
                    "HIG",
                    "HII",
                    "HLT",
                    "HOLX",
                    "HON",
                    "HPE",
                    "HPQ",
                    "HRB",
                    "HRL",
                    "HSIC",
                    "HST",
                    "HSY",
                    "HUM",
                    "IBM",
                    "ICE",
                    "IDXX",
                    "IFF",
                    "ILMN",
                    "INCY",
                    "INFO",
                    "INTC",
                    "INTU",
                    "IP",
                    "IPG",
                    "IQV",
                    "IR",
                    "IRM",
                    "ISRG",
                    "IT",
                    "ITW",
                    "IVZ",
                    "JBHT",
                    "JCI",
                    "JNJ",
                    "JNPR",
                    "JPM",
                    "K",
                    "KEY",
                    "KHC",
                    "KIM",
                    "KLAC",
                    "KMB",
                    "KMI",
                    "KMX",
                    "KO",
                    "KR",
                    "KSS",
                    "KSU",
                    "L",
                    "LB",
                    "LEG",
                    "LEN",
                    "LH",
                    "LKQ",
                    "LLY",
                    "LMT",
                    "LNC",
                    "LNT",
                    "LOW",
                    "LRCX",
                    "LUV",
                    "LYB",
                    "MA",
                    "MAA",
                    "MAR",
                    "MAS",
                    "MCD",
                    "MCHP",
                    "MCK",
                    "MCO",
                    "MDLZ",
                    "MDT",
                    "MET",
                    "MGM",
                    "MHK",
                    "MKC",
                    "MLM",
                    "MMC",
                    "MMM",
                    "MNST",
                    "MO",
                    "MOS",
                    "MPC",
                    "MRK",
                    "MS",
                    "MSFT",
                    "MSI",
                    "MTB",
                    "MTD",
                    "MU",
                    "MYL",
                    "NBL",
                    "NCLH",
                    "NDAQ",
                    "NEE",
                    "NEM",
                    "NFLX",
                    "NI",
                    "NKE",
                    "NLSN",
                    "NOC",
                    "NOV",
                    "NRG",
                    "NSC",
                    "NTAP",
                    "NTRS",
                    "NUE",
                    "NVDA",
                    "NWL",
                    "NWS",
                    "NWSA",
                    "O",
                    "OMC",
                    "ORCL",
                    "ORLY",
                    "PAYX",
                    "PBCT",
                    "PCAR",
                    "PEG",
                    "PEP",
                    "PFE",
                    "PFG",
                    "PG",
                    "PGR",
                    "PH",
                    "PHM",
                    "PKG",
                    "PKI",
                    "PLD",
                    "PM",
                    "PNC",
                    "PNR",
                    "PNW",
                    "PPG",
                    "PPL",
                    "PRGO",
                    "PRU",
                    "PSA",
                    "PSX",
                    "PVH",
                    "PWR",
                    "PXD",
                    "PYPL",
                    "QCOM",
                    "QRVO",
                    "RCL",
                    "RE",
                    "REG",
                    "REGN",
                    "RF",
                    "RHI",
                    "RJF",
                    "RL",
                    "RMD",
                    "ROK",
                    "ROP",
                    "ROST",
                    "RSG",
                    "SBAC",
                    "SBUX",
                    "SCHW",
                    "SEE",
                    "SHW",
                    "SJM",
                    "SLB",
                    "SLG",
                    "SNA",
                    "SNPS",
                    "SO",
                    "SPG",
                    "SPGI",
                    "SRE",
                    "STT",
                    "STX",
                    "STZ",
                    "SWK",
                    "SWKS",
                    "SYF",
                    "SYK",
                    "SYY",
                    "T",
                    "TAP",
                    "TDG",
                    "TEL",
                    "TGT",
                    "TIF",
                    "TJX",
                    "TMO",
                    "TPR",
                    "TROW",
                    "TRV",
                    "TSCO",
                    "TSN",
                    "TXN",
                    "TXT",
                    "UA",
                    "UAA",
                    "UAL",
                    "UDR",
                    "UHS",
                    "ULTA",
                    "UNH",
                    "UNM",
                    "UNP",
                    "UPS",
                    "URI",
                    "USB",
                    "V",
                    "VAR",
                    "VFC",
                    "VLO",
                    "VMC",
                    "VNO",
                    "VRSK",
                    "VRSN",
                    "VRTX",
                    "VTR",
                    "VZ",
                    "WAT",
                    "WBA",
                    "WDC",
                    "WEC",
                    "WFC",
                    "WHR",
                    "WLTW",
                    "WM",
                    "WMB",
                    "WMT",
                    "WRK",
                    "WU",
                    "WY",
                    "WYNN",
                    "XEL",
                    "XLNX",
                    "XOM",
                    "XRAY",
                    "XRX",
                    "XYL",
                    "YUM",
                    "ZBH",
                    "ZION",
                    "ZTS",
                    "Consumer Discretionary",
                    "Consumer Staples",
                    "Energy",
                    "Financials",
                    "Health Care",
                    "Industrials",
                    "Information Technology",
                    "Materials",
                    "Real Estate",
                    "Telecommunication Services",
                    "Utilities",
                    "S&P500"
                  ],
                  "marker": {
                    "coloraxis": "coloraxis",
                    "colors": [
                      -0.005211944444846901,
                      0.005146316851280463,
                      0.011968566534969001,
                      0.005721207777088747,
                      -0.011370893938062444,
                      0.0025971937237106875,
                      -0.002372214723871919,
                      0.005272199508263387,
                      0.014046171434700392,
                      0.004856033766381212,
                      0.004022635445282359,
                      0.005636630473284431,
                      0.012320552976079856,
                      0.003960345913192124,
                      0.003949750462976146,
                      -0.0006535824688885981,
                      0.0016672729595150486,
                      -0.011290153144923215,
                      -0.02431644524435351,
                      0.0009328985099824269,
                      -0.006870038787552745,
                      0.014138768947978423,
                      -0.023835934103786035,
                      0.0016831583882636109,
                      -0.003643770347538094,
                      0.00760233594907773,
                      0.002494049639971337,
                      0.009950924944506312,
                      0.014560545778284356,
                      0.01940068129234403,
                      -0.019078068960887203,
                      0.01312129489586959,
                      -0.007470290940363182,
                      -0.0038263277598695206,
                      0.019482404978986515,
                      0.013988299224205225,
                      -0.004564176217167694,
                      -0.015442096877633881,
                      0.01304744011342674,
                      -0.010212143410935905,
                      -0.0014609973322396606,
                      0.0013056062916759498,
                      -0.012467031090422463,
                      0.019359773463067796,
                      -0.019693595797618094,
                      0.009483591955420617,
                      -0.0116649336393489,
                      0.007718224871634394,
                      0.0012004715043340687,
                      0.013673830991563414,
                      0.008771546681345586,
                      -0.017252009632601345,
                      -0.007861734439547486,
                      0.0023032043139229745,
                      -0.006443553574806066,
                      -0.005208710836239727,
                      0.010976285251000676,
                      -0.0038263289566380426,
                      -0.00185005677303454,
                      -0.006256355222867376,
                      -0.004723203491505887,
                      -0.011609804743006703,
                      0.006533944677330572,
                      -0.011758013641352427,
                      -0.014494205823317674,
                      0.021075781492984478,
                      0.005660985266729233,
                      -0.01005152858693978,
                      -0.014630640149051377,
                      -0.004186843466014379,
                      -0.0028177378515077687,
                      -0.02007882668612668,
                      0.014678239162095529,
                      0.0007976719115372684,
                      -0.008692078999113726,
                      -0.03238322668258034,
                      -0.007955116411373761,
                      0.00614884208453846,
                      -0.0009546343850366932,
                      0.001058337992789738,
                      -0.0037652756481916954,
                      0.00230998781569137,
                      0.016191180385520483,
                      -0.03839986235413864,
                      0.01183236173731168,
                      -0.014052599571629213,
                      0.006379417787741427,
                      -0.012730418554944277,
                      0.006885414858035954,
                      0.0059810174249736265,
                      -0.02713147212375979,
                      -0.018322391834393464,
                      0.027165001712310278,
                      0.0024197398754250304,
                      -0.038357302497295756,
                      0.011477776333029741,
                      0.014012325608763202,
                      0.0018117760775266853,
                      0.004054902507402308,
                      0.016214058199933302,
                      -0.012325226772562032,
                      -0.02634409349027191,
                      -0.0035226686402254105,
                      -0.012624390742221523,
                      0.035769992225420856,
                      0.0023672682215463573,
                      -0.015302922743007145,
                      -0.026566594029823167,
                      -0.013314158256335444,
                      0.004115487088473426,
                      0.00009664664147547687,
                      -0.005576736180525364,
                      0.011482655647318393,
                      0.0022719931803685057,
                      -0.024398452513502887,
                      -0.00004099481359057324,
                      0.006209784440618377,
                      0.0009871167083228066,
                      -0.006190276193262106,
                      -0.01949171430778312,
                      -0.004943581670782496,
                      0.02705939001097488,
                      -0.001440242232707276,
                      -0.000052348968509810614,
                      0.0013531746899852208,
                      -0.012368130145702216,
                      -0.0045192771169053365,
                      0.01500195787747678,
                      -0.04047937246501265,
                      -0.0180832202994249,
                      0.01929854568673626,
                      -0.0047585359660166715,
                      -0.005398415133827148,
                      -0.003971774933591539,
                      -0.003159623880077383,
                      -0.008509337198586247,
                      -0.006204115653058076,
                      -0.017427212196990192,
                      -0.031035360920482296,
                      -0.04040250856652219,
                      0.006076612760791995,
                      -0.008254964025256271,
                      -0.00793711853297717,
                      -0.015371717167891494,
                      -0.01267592588905073,
                      -0.0026691850948117337,
                      -0.006672618467486239,
                      0.002546239665763615,
                      0.0046728889915320935,
                      -0.010138051676533269,
                      -0.017028131686928363,
                      -0.022876709173270632,
                      -0.0011765165884513257,
                      0.0014556290277680155,
                      -0.011718181587976726,
                      -0.006770270441361845,
                      0.0007934566284133259,
                      0.001799617170908583,
                      -0.00016460199026139757,
                      0.007523192081407915,
                      0.0010091901522352746,
                      -0.02391965972170854,
                      0.02606490896695029,
                      -0.02975968459035388,
                      -0.0036094809290794184,
                      0.009749274813400101,
                      0.005992875915388915,
                      -0.020055081217117337,
                      -0.021380588742550454,
                      -0.016100201624195423,
                      -0.010560972773461361,
                      -0.019622962971670457,
                      0.010338335549579542,
                      -0.0017398360622333663,
                      -0.0059483483233222405,
                      -0.01940713768491655,
                      0.0026913649541678163,
                      0.002831401211770181,
                      -0.006679291235580846,
                      0.0009841409352427104,
                      -0.0031009608223211064,
                      0.0013612162920702854,
                      -0.006302337883429149,
                      -0.04706940729863944,
                      0.02304156761706902,
                      -0.022816977205098975,
                      -0.007195381559930038,
                      0.0034897870119070173,
                      0.010827357272847057,
                      -0.04816605870806598,
                      -0.0034630604649506223,
                      0.0032868803998141994,
                      0.0003785646019073803,
                      -0.019933991414622945,
                      -0.01132164673949048,
                      -0.010555292433670259,
                      -0.003466003438362531,
                      0.004766809691879001,
                      0.008129621013979474,
                      -0.005173678360449004,
                      0.007097297507087319,
                      0.0014963929324440777,
                      0.0001642544674747643,
                      0.009333061790035782,
                      -0.006828871068624925,
                      0.003431716247592465,
                      -0.006721615834976336,
                      0.016311887783871354,
                      0.006089167330283835,
                      -0.013410589633505625,
                      0.02921890594477179,
                      0.006419562906692098,
                      -0.014169395019772494,
                      0.010025819508912,
                      -0.008897690940054123,
                      -0.013823721027156698,
                      -0.005809820916215805,
                      -0.006916568674655936,
                      0.003096575609895901,
                      -0.0007323925570659076,
                      -0.023058177737641333,
                      -0.006105815100516674,
                      -0.010265431559030425,
                      0.002195808669378473,
                      0.003680015354494763,
                      -0.01170215895156367,
                      0.004072078443906747,
                      -0.02446588686332279,
                      0.002154506258865259,
                      -0.03293056541309831,
                      0.02948261218843561,
                      0.008152054369699074,
                      -0.03183224522324732,
                      -0.01241379007502522,
                      -0.001199416829058241,
                      0.010374842311749328,
                      -0.047110865183773075,
                      -0.0197302726478458,
                      0.004232775594714922,
                      -0.03536595462918194,
                      -0.009235549182613179,
                      -0.037544597114206595,
                      0.0014087679022756537,
                      -0.02690816199168261,
                      0.009439501651635712,
                      -0.009388131842584491,
                      0.004085785776588883,
                      0.004569041699351878,
                      -0.00913971972907641,
                      0.015408561212144142,
                      0.010441857580937911,
                      -0.023675445366839652,
                      0.0039440335579645595,
                      -0.010657467937122139,
                      -0.010184733466565047,
                      -0.01335095070469442,
                      -0.009279655263833226,
                      0.023712270861135958,
                      0.0031616805252892588,
                      -0.00296788060072629,
                      0.006595719449469191,
                      -0.003589994217966392,
                      -0.013984346557428324,
                      -0.014993353594555765,
                      0.01741276896312713,
                      -0.007624898675210386,
                      -0.01984931559677483,
                      -0.0039768186034041175,
                      -0.0014367784175169662,
                      0.003009341799971624,
                      -0.0061432898309723765,
                      -0.012362865272747806,
                      -0.029999831516122222,
                      0.003181155356062412,
                      -0.005949437302202008,
                      0.014079913775493105,
                      -0.00540143048284831,
                      -0.02011971694261844,
                      -0.006273016296312799,
                      0.012994654255559093,
                      0.019319568625946457,
                      -0.02486028505486566,
                      -0.00723675969639415,
                      -0.0013859218107946686,
                      0.003440942164727904,
                      0.011571989916356714,
                      0.021827105328401344,
                      0.005301639328776007,
                      -0.005204270629748287,
                      -0.021232080112079922,
                      -0.0011901173389977802,
                      -0.0230855041346655,
                      -0.016324016071984002,
                      -0.011086256547186714,
                      0.005744794758890263,
                      -0.0009270297945173961,
                      -0.014475209384937078,
                      0.016505133531003607,
                      0.006942228824096058,
                      -0.0032047963059406363,
                      -0.009717201704225858,
                      -0.023597456624024158,
                      0.001773164898074631,
                      0.012161178006862733,
                      0.012124694918575775,
                      -0.002602194966189144,
                      -0.00048757850988621025,
                      -0.00042657659893862343,
                      -0.0015911640979352109,
                      0.00944620114219623,
                      0.008146484147308676,
                      -0.020251277805570133,
                      0.0029940294974010965,
                      0.003933568573636418,
                      -0.007881089623740971,
                      -0.03208002738278349,
                      -0.002818124206272134,
                      -0.0120329546899741,
                      0.002750006546750386,
                      0.0011355560502218597,
                      -0.017913485156501235,
                      -0.01443953737103722,
                      -0.0020108650655840093,
                      -0.013768245617619445,
                      -0.009757351780341088,
                      0.0187964441543274,
                      -0.01901931192244597,
                      -0.005234360091881988,
                      -0.00867343603403108,
                      -0.017457106789277477,
                      -0.0219483543574864,
                      -0.043827293506679695,
                      0.0010825507949443177,
                      0.011001484646967808,
                      0.005795453434319594,
                      -0.001391595661048713,
                      -0.017537793875044137,
                      -0.006978265068693423,
                      0.01885642819880629,
                      -0.023228165294318707,
                      -0.008718019641592249,
                      -0.008318083562560157,
                      -0.009708907431549304,
                      0.020634724524799707,
                      -0.013050491714356554,
                      -0.015522851875552374,
                      -0.0030903662706156377,
                      -0.010359240255954156,
                      -0.0015030114373353284,
                      0.004116013979666568,
                      -0.01104421493669352,
                      -0.010352757313619378,
                      0.000091706665877836,
                      0.008144558168700662,
                      -0.04394682402970106,
                      -0.024855605407227494,
                      -0.002348781745213443,
                      0.0017035966500550783,
                      -0.0051256268765335995,
                      -0.014665506912407944,
                      -0.0038681085021168332,
                      -0.016243655785616273,
                      -0.014283023234911986,
                      0.0035003608296690527,
                      -0.018910561725526825,
                      -0.013241068446344425,
                      0.01340427710072182,
                      -0.023515501483424475,
                      -0.006937355714453126,
                      0.0039413272836162595,
                      -0.0047819488446779485,
                      -0.006209883105524621,
                      -0.015375226889448472,
                      0.001828845542070831,
                      0.008497711098673415,
                      -0.008860878815813985,
                      0.0004174320942352367,
                      -0.007202762885780295,
                      -0.04828940525007715,
                      -0.0060624228765978035,
                      -0.0029864074678875433,
                      -0.0021639572658213946,
                      0.019242405742436793,
                      0.011016626122169785,
                      -0.004444182664528521,
                      -0.016264252359868055,
                      -0.015550714337290984,
                      -0.0029850004191367277,
                      -0.012654322633433777,
                      0.0033511618575198508,
                      -0.0028379227702359684,
                      0.004129111703455036,
                      -0.010589347569006789,
                      -0.01391231350295036,
                      0.0021269144750821595,
                      0.0065829786458879505,
                      -0.020473956048845648,
                      -0.0018418837533784888,
                      -0.01268207769855442,
                      -0.01176635834565386,
                      -0.009163805209150092,
                      -0.0067819996734434645,
                      -0.008980816172689235,
                      -0.0015079104677364942,
                      0.005344507525759112,
                      0.01469448885212424,
                      -0.0045997584717260695,
                      0.007629492017963376,
                      0.0023448517684944085,
                      0.013593261042162026,
                      0.020555458651332282,
                      0.0030359440975371438,
                      -0.007094343462732031,
                      -0.03088312940650026,
                      0.00015933889095972117,
                      -0.011309607785439364,
                      -0.012663840035949534,
                      0.02127575067156738,
                      0.009018830219523847,
                      0.00006315524674316549,
                      -0.01640729118118777,
                      0.007420185868078578,
                      0.006318139386562491,
                      0.010253854498463177,
                      -0.009476366380592365,
                      -0.006798807046316282,
                      -0.015514751471628483,
                      -0.0015528394995825737,
                      -0.0049114501085677385,
                      -0.012867204325537788,
                      -0.02075611510579531,
                      -0.01256373658423224,
                      0.003521204420418416,
                      0.005719012949767131,
                      -0.022086897475122217,
                      -0.010657175920663503,
                      0.0015152601909513225,
                      -0.006402095050403783,
                      0.0074087890498917485,
                      -0.009221511024211728,
                      -0.00792355419240285,
                      0.000969585125463593,
                      -0.0032122956448452345,
                      -0.00023398907171855293
                    ]
                  },
                  "name": "",
                  "parents": [
                    "S&P500/Health Care",
                    "S&P500/Industrials",
                    "S&P500/Consumer Discretionary",
                    "S&P500/Information Technology",
                    "S&P500/Health Care",
                    "S&P500/Health Care",
                    "S&P500/Health Care",
                    "S&P500/Information Technology",
                    "S&P500/Information Technology",
                    "S&P500/Information Technology",
                    "S&P500/Consumer Staples",
                    "S&P500/Information Technology",
                    "S&P500/Information Technology",
                    "S&P500/Utilities",
                    "S&P500/Utilities",
                    "S&P500/Utilities",
                    "S&P500/Financials",
                    "S&P500/Financials",
                    "S&P500/Real Estate",
                    "S&P500/Financials",
                    "S&P500/Financials",
                    "S&P500/Information Technology",
                    "S&P500/Materials",
                    "S&P500/Health Care",
                    "S&P500/Industrials",
                    "S&P500/Financials",
                    "S&P500/Industrials",
                    "S&P500/Health Care",
                    "S&P500/Information Technology",
                    "S&P500/Information Technology",
                    "S&P500/Industrials",
                    "S&P500/Health Care",
                    "S&P500/Financials",
                    "S&P500/Real Estate",
                    "S&P500/Consumer Discretionary",
                    "S&P500/Information Technology",
                    "S&P500/Health Care",
                    "S&P500/Financials",
                    "S&P500/Industrials",
                    "S&P500/Materials",
                    "S&P500/Information Technology",
                    "S&P500/Consumer Discretionary",
                    "S&P500/Real Estate",
                    "S&P500/Information Technology",
                    "S&P500/Real Estate",
                    "S&P500/Information Technology",
                    "S&P500/Materials",
                    "S&P500/Utilities",
                    "S&P500/Financials",
                    "S&P500/Consumer Discretionary",
                    "S&P500/Industrials",
                    "S&P500/Financials",
                    "S&P500/Health Care",
                    "S&P500/Consumer Discretionary",
                    "S&P500/Health Care",
                    "S&P500/Financials",
                    "S&P500/Health Care",
                    "S&P500/Financials",
                    "S&P500/Financials",
                    "S&P500/Materials",
                    "S&P500/Health Care",
                    "S&P500/Health Care",
                    "S&P500/Consumer Discretionary",
                    "S&P500/Real Estate",
                    "S&P500/Financials",
                    "S&P500/Consumer Staples",
                    "S&P500/Health Care",
                    "S&P500/Industrials",
                    "S&P500/Financials",
                    "S&P500/Financials",
                    "S&P500/Real Estate",
                    "S&P500/Consumer Discretionary",
                    "S&P500/Information Technology",
                    "S&P500/Health Care",
                    "S&P500/Materials",
                    "S&P500/Financials",
                    "S&P500/Consumer Staples",
                    "S&P500/Industrials",
                    "S&P500/Consumer Discretionary",
                    "S&P500/Health Care",
                    "S&P500/Financials",
                    "S&P500/Consumer Staples",
                    "S&P500/Consumer Staples",
                    "S&P500/Financials",
                    "S&P500/Consumer Discretionary",
                    "S&P500/Financials",
                    "S&P500/Consumer Discretionary",
                    "S&P500/Industrials",
                    "S&P500/Utilities",
                    "S&P500/Health Care",
                    "S&P500/Utilities",
                    "S&P500/Financials",
                    "S&P500/Energy",
                    "S&P500/Health Care",
                    "S&P500/Energy",
                    "S&P500/Consumer Staples",
                    "S&P500/Consumer Staples",
                    "S&P500/Consumer Staples",
                    "S&P500/Information Technology",
                    "S&P500/Information Technology",
                    "S&P500/Industrials",
                    "S&P500/Industrials",
                    "S&P500/Telecommunication Services",
                    "S&P500/Information Technology",
                    "S&P500/Information Technology",
                    "S&P500/Consumer Staples",
                    "S&P500/Energy",
                    "S&P500/Energy",
                    "S&P500/Utilities",
                    "S&P500/Industrials",
                    "S&P500/Industrials",
                    "S&P500/Financials",
                    "S&P500/Consumer Discretionary",
                    "S&P500/Health Care",
                    "S&P500/Consumer Discretionary",
                    "S&P500/Health Care",
                    "S&P500/Consumer Discretionary",
                    "S&P500/Consumer Discretionary",
                    "S&P500/Consumer Discretionary",
                    "S&P500/Consumer Discretionary",
                    "S&P500/Real Estate",
                    "S&P500/Consumer Discretionary",
                    "S&P500/Industrials",
                    "S&P500/Real Estate",
                    "S&P500/Consumer Discretionary",
                    "S&P500/Utilities",
                    "S&P500/Utilities",
                    "S&P500/Health Care",
                    "S&P500/Energy",
                    "S&P500/Information Technology",
                    "S&P500/Information Technology",
                    "S&P500/Information Technology",
                    "S&P500/Materials",
                    "S&P500/Utilities",
                    "S&P500/Industrials",
                    "S&P500/Utilities",
                    "S&P500/Consumer Staples",
                    "S&P500/Materials",
                    "S&P500/Industrials",
                    "S&P500/Energy",
                    "S&P500/Real Estate",
                    "S&P500/Real Estate",
                    "S&P500/Utilities",
                    "S&P500/Real Estate",
                    "S&P500/Industrials",
                    "S&P500/Utilities",
                    "S&P500/Health Care",
                    "S&P500/Utilities",
                    "S&P500/Industrials",
                    "S&P500/Consumer Discretionary",
                    "S&P500/Real Estate",
                    "S&P500/Consumer Discretionary",
                    "S&P500/Industrials",
                    "S&P500/Information Technology",
                    "S&P500/Industrials",
                    "S&P500/Materials",
                    "S&P500/Industrials",
                    "S&P500/Utilities",
                    "S&P500/Information Technology",
                    "S&P500/Information Technology",
                    "S&P500/Information Technology",
                    "S&P500/Financials",
                    "S&P500/Information Technology",
                    "S&P500/Industrials",
                    "S&P500/Materials",
                    "S&P500/Consumer Discretionary",
                    "S&P500/Consumer Discretionary",
                    "S&P500/Real Estate",
                    "S&P500/Energy",
                    "S&P500/Industrials",
                    "S&P500/Industrials",
                    "S&P500/Industrials",
                    "S&P500/Health Care",
                    "S&P500/Consumer Staples",
                    "S&P500/Information Technology",
                    "S&P500/Consumer Discretionary",
                    "S&P500/Information Technology",
                    "S&P500/Information Technology",
                    "S&P500/Consumer Discretionary",
                    "S&P500/Information Technology",
                    "S&P500/Consumer Discretionary",
                    "S&P500/Financials",
                    "S&P500/Industrials",
                    "S&P500/Energy",
                    "S&P500/Consumer Discretionary",
                    "S&P500/Financials",
                    "S&P500/Consumer Discretionary",
                    "S&P500/Health Care",
                    "S&P500/Consumer Discretionary",
                    "S&P500/Energy",
                    "S&P500/Financials",
                    "S&P500/Industrials",
                    "S&P500/Consumer Discretionary",
                    "S&P500/Health Care",
                    "S&P500/Industrials",
                    "S&P500/Information Technology",
                    "S&P500/Information Technology",
                    "S&P500/Financials",
                    "S&P500/Consumer Staples",
                    "S&P500/Health Care",
                    "S&P500/Real Estate",
                    "S&P500/Consumer Staples",
                    "S&P500/Health Care",
                    "S&P500/Information Technology",
                    "S&P500/Financials",
                    "S&P500/Health Care",
                    "S&P500/Materials",
                    "S&P500/Health Care",
                    "S&P500/Health Care",
                    "S&P500/Industrials",
                    "S&P500/Information Technology",
                    "S&P500/Information Technology",
                    "S&P500/Materials",
                    "S&P500/Consumer Discretionary",
                    "S&P500/Health Care",
                    "S&P500/Industrials",
                    "S&P500/Real Estate",
                    "S&P500/Health Care",
                    "S&P500/Information Technology",
                    "S&P500/Industrials",
                    "S&P500/Financials",
                    "S&P500/Industrials",
                    "S&P500/Industrials",
                    "S&P500/Health Care",
                    "S&P500/Information Technology",
                    "S&P500/Financials",
                    "S&P500/Consumer Staples",
                    "S&P500/Financials",
                    "S&P500/Consumer Staples",
                    "S&P500/Real Estate",
                    "S&P500/Information Technology",
                    "S&P500/Consumer Staples",
                    "S&P500/Energy",
                    "S&P500/Consumer Discretionary",
                    "S&P500/Consumer Staples",
                    "S&P500/Consumer Staples",
                    "S&P500/Consumer Discretionary",
                    "S&P500/Industrials",
                    "S&P500/Financials",
                    "S&P500/Consumer Discretionary",
                    "S&P500/Consumer Discretionary",
                    "S&P500/Consumer Discretionary",
                    "S&P500/Health Care",
                    "S&P500/Consumer Discretionary",
                    "S&P500/Health Care",
                    "S&P500/Industrials",
                    "S&P500/Financials",
                    "S&P500/Utilities",
                    "S&P500/Consumer Discretionary",
                    "S&P500/Information Technology",
                    "S&P500/Industrials",
                    "S&P500/Materials",
                    "S&P500/Information Technology",
                    "S&P500/Real Estate",
                    "S&P500/Consumer Discretionary",
                    "S&P500/Industrials",
                    "S&P500/Consumer Discretionary",
                    "S&P500/Information Technology",
                    "S&P500/Health Care",
                    "S&P500/Financials",
                    "S&P500/Consumer Staples",
                    "S&P500/Health Care",
                    "S&P500/Financials",
                    "S&P500/Consumer Discretionary",
                    "S&P500/Consumer Discretionary",
                    "S&P500/Consumer Staples",
                    "S&P500/Materials",
                    "S&P500/Financials",
                    "S&P500/Industrials",
                    "S&P500/Consumer Staples",
                    "S&P500/Consumer Staples",
                    "S&P500/Materials",
                    "S&P500/Energy",
                    "S&P500/Health Care",
                    "S&P500/Financials",
                    "S&P500/Information Technology",
                    "S&P500/Information Technology",
                    "S&P500/Financials",
                    "S&P500/Health Care",
                    "S&P500/Information Technology",
                    "S&P500/Health Care",
                    "S&P500/Energy",
                    "S&P500/Consumer Discretionary",
                    "S&P500/Financials",
                    "S&P500/Utilities",
                    "S&P500/Materials",
                    "S&P500/Information Technology",
                    "S&P500/Utilities",
                    "S&P500/Consumer Discretionary",
                    "S&P500/Industrials",
                    "S&P500/Industrials",
                    "S&P500/Energy",
                    "S&P500/Utilities",
                    "S&P500/Industrials",
                    "S&P500/Information Technology",
                    "S&P500/Financials",
                    "S&P500/Materials",
                    "S&P500/Information Technology",
                    "S&P500/Consumer Discretionary",
                    "S&P500/Consumer Discretionary",
                    "S&P500/Consumer Discretionary",
                    "S&P500/Real Estate",
                    "S&P500/Consumer Discretionary",
                    "S&P500/Information Technology",
                    "S&P500/Consumer Discretionary",
                    "S&P500/Information Technology",
                    "S&P500/Financials",
                    "S&P500/Industrials",
                    "S&P500/Utilities",
                    "S&P500/Consumer Staples",
                    "S&P500/Health Care",
                    "S&P500/Financials",
                    "S&P500/Consumer Staples",
                    "S&P500/Financials",
                    "S&P500/Industrials",
                    "S&P500/Consumer Discretionary",
                    "S&P500/Materials",
                    "S&P500/Health Care",
                    "S&P500/Real Estate",
                    "S&P500/Consumer Staples",
                    "S&P500/Financials",
                    "S&P500/Industrials",
                    "S&P500/Utilities",
                    "S&P500/Materials",
                    "S&P500/Utilities",
                    "S&P500/Health Care",
                    "S&P500/Financials",
                    "S&P500/Real Estate",
                    "S&P500/Energy",
                    "S&P500/Consumer Discretionary",
                    "S&P500/Industrials",
                    "S&P500/Energy",
                    "S&P500/Information Technology",
                    "S&P500/Information Technology",
                    "S&P500/Information Technology",
                    "S&P500/Consumer Discretionary",
                    "S&P500/Financials",
                    "S&P500/Real Estate",
                    "S&P500/Health Care",
                    "S&P500/Financials",
                    "S&P500/Industrials",
                    "S&P500/Financials",
                    "S&P500/Consumer Discretionary",
                    "S&P500/Health Care",
                    "S&P500/Industrials",
                    "S&P500/Industrials",
                    "S&P500/Consumer Discretionary",
                    "S&P500/Industrials",
                    "S&P500/Real Estate",
                    "S&P500/Consumer Discretionary",
                    "S&P500/Financials",
                    "S&P500/Materials",
                    "S&P500/Materials",
                    "S&P500/Consumer Staples",
                    "S&P500/Energy",
                    "S&P500/Real Estate",
                    "S&P500/Consumer Discretionary",
                    "S&P500/Information Technology",
                    "S&P500/Utilities",
                    "S&P500/Real Estate",
                    "S&P500/Financials",
                    "S&P500/Utilities",
                    "S&P500/Financials",
                    "S&P500/Information Technology",
                    "S&P500/Consumer Staples",
                    "S&P500/Consumer Discretionary",
                    "S&P500/Information Technology",
                    "S&P500/Financials",
                    "S&P500/Health Care",
                    "S&P500/Consumer Staples",
                    "S&P500/Telecommunication Services",
                    "S&P500/Consumer Staples",
                    "S&P500/Industrials",
                    "S&P500/Information Technology",
                    "S&P500/Consumer Discretionary",
                    "S&P500/Consumer Discretionary",
                    "S&P500/Consumer Discretionary",
                    "S&P500/Health Care",
                    "S&P500/Consumer Discretionary",
                    "S&P500/Financials",
                    "S&P500/Financials",
                    "S&P500/Consumer Discretionary",
                    "S&P500/Consumer Staples",
                    "S&P500/Information Technology",
                    "S&P500/Industrials",
                    "S&P500/Consumer Discretionary",
                    "S&P500/Consumer Discretionary",
                    "S&P500/Industrials",
                    "S&P500/Real Estate",
                    "S&P500/Health Care",
                    "S&P500/Consumer Discretionary",
                    "S&P500/Health Care",
                    "S&P500/Financials",
                    "S&P500/Industrials",
                    "S&P500/Industrials",
                    "S&P500/Industrials",
                    "S&P500/Financials",
                    "S&P500/Information Technology",
                    "S&P500/Health Care",
                    "S&P500/Consumer Discretionary",
                    "S&P500/Energy",
                    "S&P500/Materials",
                    "S&P500/Real Estate",
                    "S&P500/Industrials",
                    "S&P500/Information Technology",
                    "S&P500/Health Care",
                    "S&P500/Real Estate",
                    "S&P500/Telecommunication Services",
                    "S&P500/Health Care",
                    "S&P500/Consumer Staples",
                    "S&P500/Information Technology",
                    "S&P500/Utilities",
                    "S&P500/Financials",
                    "S&P500/Consumer Discretionary",
                    "S&P500/Financials",
                    "S&P500/Industrials",
                    "S&P500/Energy",
                    "S&P500/Consumer Staples",
                    "S&P500/Materials",
                    "S&P500/Information Technology",
                    "S&P500/Real Estate",
                    "S&P500/Consumer Discretionary",
                    "S&P500/Utilities",
                    "S&P500/Information Technology",
                    "S&P500/Energy",
                    "S&P500/Health Care",
                    "S&P500/Information Technology",
                    "S&P500/Industrials",
                    "S&P500/Consumer Discretionary",
                    "S&P500/Health Care",
                    "S&P500/Financials",
                    "S&P500/Health Care",
                    "S&P500",
                    "S&P500",
                    "S&P500",
                    "S&P500",
                    "S&P500",
                    "S&P500",
                    "S&P500",
                    "S&P500",
                    "S&P500",
                    "S&P500",
                    "S&P500",
                    ""
                  ],
                  "type": "treemap",
                  "values": [
                    21984606918,
                    24594852352,
                    8123611867,
                    809508034020,
                    181386347059,
                    20587704101,
                    102121042306,
                    98765855553,
                    94550214268,
                    31811578855,
                    23594770663,
                    50337702249,
                    24348294504,
                    12905744906,
                    31701916517,
                    6920851212,
                    33422948000,
                    54360073164,
                    6156884142,
                    4653993594,
                    11968488290,
                    10906904066,
                    11782151266,
                    18788041378,
                    7903173734,
                    34759468905,
                    7599609494,
                    26172439795,
                    51296481503,
                    11191663795,
                    17139651923,
                    128133340000,
                    23472126000,
                    59213892640,
                    685873374731,
                    13155919129,
                    61221978627,
                    35123123422,
                    10783419933,
                    34638387128,
                    26955335395,
                    24906530300,
                    12043374429,
                    52518668144,
                    21856547430,
                    92791974933,
                    10104814319,
                    13906146184,
                    80410990000,
                    19922021415,
                    205617405233,
                    321478200969,
                    35713732553,
                    20831186176,
                    50910180308,
                    21759187973,
                    69157726427,
                    56083904906,
                    85907759858,
                    13767688518,
                    102506501960,
                    36142506007,
                    11596117445,
                    17799878487,
                    192709302000,
                    14379717835,
                    20493281175,
                    91822049046,
                    68424670566,
                    12998295607,
                    44183023189,
                    49180044050,
                    10890625200,
                    21101697598,
                    9209106695,
                    22008050974,
                    11838963451,
                    12932483889,
                    86708878113,
                    47680910480,
                    11916533018,
                    61616643498,
                    16540418002,
                    16274969256,
                    186476996883,
                    54423298745,
                    7685283970,
                    28669230787,
                    11873960824,
                    18012494506,
                    11362043297,
                    47637260000,
                    10808821635,
                    11297958140,
                    65482462410,
                    80439804508,
                    13101112504,
                    13467193376,
                    79489115000,
                    199425716482,
                    47340511707,
                    16676145923,
                    18237196861,
                    45119684067,
                    13199167493,
                    75323141722,
                    218978820159,
                    22021882339,
                    47543571860,
                    38393603535,
                    52186628646,
                    27433540000,
                    26580644874,
                    13578300000,
                    17390873686,
                    66351150000,
                    157817273295,
                    8763756733,
                    8320262123,
                    21032719056,
                    21400952517,
                    25151198417,
                    15566645713,
                    9035293365,
                    11745595320,
                    17808073691,
                    52078185682,
                    13685178000,
                    19317380000,
                    27408621020,
                    37890226992,
                    44216696399,
                    38460272282,
                    23335777662,
                    14121334618,
                    19447670886,
                    49543264457,
                    14226830813,
                    44040298425,
                    61164030149,
                    33333813618,
                    20925508143,
                    18027633617,
                    14383525286,
                    35961772000,
                    13116894887,
                    27447099863,
                    34734816899,
                    11040678071,
                    19722178609,
                    10133547517,
                    42414328338,
                    15311373377,
                    523423036576,
                    9624169008,
                    25853969330,
                    67280478816,
                    13706075072,
                    8744185796,
                    32308459680,
                    26918949723,
                    22437653700,
                    6706992926,
                    5427884956,
                    11273961835,
                    66135313503,
                    44027094922,
                    8077368506,
                    14163064455,
                    24916503061,
                    64180390701,
                    132249296250,
                    108106822109,
                    31098243069,
                    25759280346,
                    61536606173,
                    728535558140,
                    733823966137,
                    14554321748,
                    16920023264,
                    11840331607,
                    96978500251,
                    14639308205,
                    43356557470,
                    12732072001,
                    16766497291,
                    8006268615,
                    34449052800,
                    223378633329,
                    14016129999,
                    19926305632,
                    10628247899,
                    26242415796,
                    11181493750,
                    114422168609,
                    24800859640,
                    34895294088,
                    5381433872,
                    17338613096,
                    11452961984,
                    14394715334,
                    20867272020,
                    36973617235,
                    142433003505,
                    41373051167,
                    15422885020,
                    11270040447,
                    32295200000,
                    18220961259,
                    17969275816,
                    211536000000,
                    41233771565,
                    24465996443,
                    8277363031,
                    20426488713,
                    22785450609,
                    9410249279,
                    44866621303,
                    10828314389,
                    55994378108,
                    13620847614,
                    12945366350,
                    34822224800,
                    353062464971,
                    9267350000,
                    386613611000,
                    22182794875,
                    22589744920,
                    89618309338,
                    6180487499,
                    16078622033,
                    39449596000,
                    38612712234,
                    11827453706,
                    189855335601,
                    25471355847,
                    10570861198,
                    11037040988,
                    16111166935,
                    13862042842,
                    6034600480,
                    14615967194,
                    17271388000,
                    12469931896,
                    84475986228,
                    98102120000,
                    17123031000,
                    8670163500,
                    82909678852,
                    27967534829,
                    34351211637,
                    43556650000,
                    187102014193,
                    9992628990,
                    50910130358,
                    13428792315,
                    132101623787,
                    19393095636,
                    31534840262,
                    30189978000,
                    65827817742,
                    110107062300,
                    48679364276,
                    19633674337,
                    19897356456,
                    13459353253,
                    13756812736,
                    41819440000,
                    138721055226,
                    36403831015,
                    126985101434,
                    9726962131,
                    31633740000,
                    152241530340,
                    97535400000,
                    689978437468,
                    16626039679,
                    27840827434,
                    16420774443,
                    48576791974,
                    21698849265,
                    13177325251,
                    13191507318,
                    12844304115,
                    69661177770,
                    19749449484,
                    114805404842,
                    7776566371,
                    106776113744,
                    13377670080,
                    58782413951,
                    12940096785,
                    8030036023,
                    40543547441,
                    15375210915,
                    22908130223,
                    20003317128,
                    138652800000,
                    14438346000,
                    9496735699,
                    9356906461,
                    13784942453,
                    17377551986,
                    202302349740,
                    21433781860,
                    23253666810,
                    6527616000,
                    24152102921,
                    24138050331,
                    161413271020,
                    208505541949,
                    18457199721,
                    206318943299,
                    31062780000,
                    24421668509,
                    8792572352,
                    11051273948,
                    8351767268,
                    31953288000,
                    153580671803,
                    73315000000,
                    12466660892,
                    8397609889,
                    29043337549,
                    20839814845,
                    12326379902,
                    47136080000,
                    32258539942,
                    47996220000,
                    11478625926,
                    5330131216,
                    29983119693,
                    90708000000,
                    96282828902,
                    9877885146,
                    27418147452,
                    10131892523,
                    9858367494,
                    35950369241,
                    21500640000,
                    7047165475,
                    13216271700,
                    8753430477,
                    13233622689,
                    24123216432,
                    27247789759,
                    29803566306,
                    21590903863,
                    19572031314,
                    76548976000,
                    69750188843,
                    8001938397,
                    37730994828,
                    13612394896,
                    96529311126,
                    8617714345,
                    9499107736,
                    12767067883,
                    43497224128,
                    48139839531,
                    46585950000,
                    26163862235,
                    38059113300,
                    14113197720,
                    41697453163,
                    24496399600,
                    18493080922,
                    28893750000,
                    57509096756,
                    30445320778,
                    226713270000,
                    12396862128,
                    15241203731,
                    34983666316,
                    39816696539,
                    12810515320,
                    48181450881,
                    83226586345,
                    14247199374,
                    25810865035,
                    38903131815,
                    8459271203,
                    26957526800,
                    100262526470,
                    15254672353,
                    5366628950,
                    5856913571,
                    19363059152,
                    9050154422,
                    11116075286,
                    13300000127,
                    218834811333,
                    11256432318,
                    101513290382,
                    96436356833,
                    14654954091,
                    90940115897,
                    270038723213,
                    10692681720,
                    31797645904,
                    39312309113,
                    16964162228,
                    12778779911,
                    15594677147,
                    10754983829,
                    39369386348,
                    18865999082,
                    208092277044,
                    16064078572,
                    70862541911,
                    24760297793,
                    18890296993,
                    281463620775,
                    12177920000,
                    20780269334,
                    35488486675,
                    24802396470,
                    304680931618,
                    16433340688,
                    8951609207,
                    26070297960,
                    18225400525,
                    21559611927,
                    17064975551,
                    326148660000,
                    13390513478,
                    7938833340,
                    12915021000,
                    27003303098,
                    24454698119,
                    10670678640,
                    35991109776,
                    2917911331641,
                    2060368570722,
                    1130445039288,
                    3042427068578,
                    3003699935965,
                    2166771223663,
                    6621023169253,
                    431071458193,
                    549471644825,
                    453042743905,
                    586093777208,
                    22962325963241
                  ]
                }
              ],
              "layout": {
                "coloraxis": {
                  "cmid": -0.00023398907171855293,
                  "colorbar": {
                    "title": {
                      "text": "COVID beta"
                    }
                  },
                  "colorscale": [
                    [
                      0,
                      "rgb(103,0,31)"
                    ],
                    [
                      0.1,
                      "rgb(178,24,43)"
                    ],
                    [
                      0.2,
                      "rgb(214,96,77)"
                    ],
                    [
                      0.3,
                      "rgb(244,165,130)"
                    ],
                    [
                      0.4,
                      "rgb(253,219,199)"
                    ],
                    [
                      0.5,
                      "rgb(247,247,247)"
                    ],
                    [
                      0.6,
                      "rgb(209,229,240)"
                    ],
                    [
                      0.7,
                      "rgb(146,197,222)"
                    ],
                    [
                      0.8,
                      "rgb(67,147,195)"
                    ],
                    [
                      0.9,
                      "rgb(33,102,172)"
                    ],
                    [
                      1,
                      "rgb(5,48,97)"
                    ]
                  ]
                },
                "legend": {
                  "tracegroupgap": 0
                },
                "margin": {
                  "b": 0,
                  "l": 0,
                  "r": 0,
                  "t": 20
                },
                "template": {
                  "data": {
                    "bar": [
                      {
                        "error_x": {
                          "color": "#2a3f5f"
                        },
                        "error_y": {
                          "color": "#2a3f5f"
                        },
                        "marker": {
                          "line": {
                            "color": "#E5ECF6",
                            "width": 0.5
                          }
                        },
                        "type": "bar"
                      }
                    ],
                    "barpolar": [
                      {
                        "marker": {
                          "line": {
                            "color": "#E5ECF6",
                            "width": 0.5
                          }
                        },
                        "type": "barpolar"
                      }
                    ],
                    "carpet": [
                      {
                        "aaxis": {
                          "endlinecolor": "#2a3f5f",
                          "gridcolor": "white",
                          "linecolor": "white",
                          "minorgridcolor": "white",
                          "startlinecolor": "#2a3f5f"
                        },
                        "baxis": {
                          "endlinecolor": "#2a3f5f",
                          "gridcolor": "white",
                          "linecolor": "white",
                          "minorgridcolor": "white",
                          "startlinecolor": "#2a3f5f"
                        },
                        "type": "carpet"
                      }
                    ],
                    "choropleth": [
                      {
                        "colorbar": {
                          "outlinewidth": 0,
                          "ticks": ""
                        },
                        "type": "choropleth"
                      }
                    ],
                    "contour": [
                      {
                        "colorbar": {
                          "outlinewidth": 0,
                          "ticks": ""
                        },
                        "colorscale": [
                          [
                            0,
                            "#0d0887"
                          ],
                          [
                            0.1111111111111111,
                            "#46039f"
                          ],
                          [
                            0.2222222222222222,
                            "#7201a8"
                          ],
                          [
                            0.3333333333333333,
                            "#9c179e"
                          ],
                          [
                            0.4444444444444444,
                            "#bd3786"
                          ],
                          [
                            0.5555555555555556,
                            "#d8576b"
                          ],
                          [
                            0.6666666666666666,
                            "#ed7953"
                          ],
                          [
                            0.7777777777777778,
                            "#fb9f3a"
                          ],
                          [
                            0.8888888888888888,
                            "#fdca26"
                          ],
                          [
                            1,
                            "#f0f921"
                          ]
                        ],
                        "type": "contour"
                      }
                    ],
                    "contourcarpet": [
                      {
                        "colorbar": {
                          "outlinewidth": 0,
                          "ticks": ""
                        },
                        "type": "contourcarpet"
                      }
                    ],
                    "heatmap": [
                      {
                        "colorbar": {
                          "outlinewidth": 0,
                          "ticks": ""
                        },
                        "colorscale": [
                          [
                            0,
                            "#0d0887"
                          ],
                          [
                            0.1111111111111111,
                            "#46039f"
                          ],
                          [
                            0.2222222222222222,
                            "#7201a8"
                          ],
                          [
                            0.3333333333333333,
                            "#9c179e"
                          ],
                          [
                            0.4444444444444444,
                            "#bd3786"
                          ],
                          [
                            0.5555555555555556,
                            "#d8576b"
                          ],
                          [
                            0.6666666666666666,
                            "#ed7953"
                          ],
                          [
                            0.7777777777777778,
                            "#fb9f3a"
                          ],
                          [
                            0.8888888888888888,
                            "#fdca26"
                          ],
                          [
                            1,
                            "#f0f921"
                          ]
                        ],
                        "type": "heatmap"
                      }
                    ],
                    "heatmapgl": [
                      {
                        "colorbar": {
                          "outlinewidth": 0,
                          "ticks": ""
                        },
                        "colorscale": [
                          [
                            0,
                            "#0d0887"
                          ],
                          [
                            0.1111111111111111,
                            "#46039f"
                          ],
                          [
                            0.2222222222222222,
                            "#7201a8"
                          ],
                          [
                            0.3333333333333333,
                            "#9c179e"
                          ],
                          [
                            0.4444444444444444,
                            "#bd3786"
                          ],
                          [
                            0.5555555555555556,
                            "#d8576b"
                          ],
                          [
                            0.6666666666666666,
                            "#ed7953"
                          ],
                          [
                            0.7777777777777778,
                            "#fb9f3a"
                          ],
                          [
                            0.8888888888888888,
                            "#fdca26"
                          ],
                          [
                            1,
                            "#f0f921"
                          ]
                        ],
                        "type": "heatmapgl"
                      }
                    ],
                    "histogram": [
                      {
                        "marker": {
                          "colorbar": {
                            "outlinewidth": 0,
                            "ticks": ""
                          }
                        },
                        "type": "histogram"
                      }
                    ],
                    "histogram2d": [
                      {
                        "colorbar": {
                          "outlinewidth": 0,
                          "ticks": ""
                        },
                        "colorscale": [
                          [
                            0,
                            "#0d0887"
                          ],
                          [
                            0.1111111111111111,
                            "#46039f"
                          ],
                          [
                            0.2222222222222222,
                            "#7201a8"
                          ],
                          [
                            0.3333333333333333,
                            "#9c179e"
                          ],
                          [
                            0.4444444444444444,
                            "#bd3786"
                          ],
                          [
                            0.5555555555555556,
                            "#d8576b"
                          ],
                          [
                            0.6666666666666666,
                            "#ed7953"
                          ],
                          [
                            0.7777777777777778,
                            "#fb9f3a"
                          ],
                          [
                            0.8888888888888888,
                            "#fdca26"
                          ],
                          [
                            1,
                            "#f0f921"
                          ]
                        ],
                        "type": "histogram2d"
                      }
                    ],
                    "histogram2dcontour": [
                      {
                        "colorbar": {
                          "outlinewidth": 0,
                          "ticks": ""
                        },
                        "colorscale": [
                          [
                            0,
                            "#0d0887"
                          ],
                          [
                            0.1111111111111111,
                            "#46039f"
                          ],
                          [
                            0.2222222222222222,
                            "#7201a8"
                          ],
                          [
                            0.3333333333333333,
                            "#9c179e"
                          ],
                          [
                            0.4444444444444444,
                            "#bd3786"
                          ],
                          [
                            0.5555555555555556,
                            "#d8576b"
                          ],
                          [
                            0.6666666666666666,
                            "#ed7953"
                          ],
                          [
                            0.7777777777777778,
                            "#fb9f3a"
                          ],
                          [
                            0.8888888888888888,
                            "#fdca26"
                          ],
                          [
                            1,
                            "#f0f921"
                          ]
                        ],
                        "type": "histogram2dcontour"
                      }
                    ],
                    "mesh3d": [
                      {
                        "colorbar": {
                          "outlinewidth": 0,
                          "ticks": ""
                        },
                        "type": "mesh3d"
                      }
                    ],
                    "parcoords": [
                      {
                        "line": {
                          "colorbar": {
                            "outlinewidth": 0,
                            "ticks": ""
                          }
                        },
                        "type": "parcoords"
                      }
                    ],
                    "pie": [
                      {
                        "automargin": true,
                        "type": "pie"
                      }
                    ],
                    "scatter": [
                      {
                        "marker": {
                          "colorbar": {
                            "outlinewidth": 0,
                            "ticks": ""
                          }
                        },
                        "type": "scatter"
                      }
                    ],
                    "scatter3d": [
                      {
                        "line": {
                          "colorbar": {
                            "outlinewidth": 0,
                            "ticks": ""
                          }
                        },
                        "marker": {
                          "colorbar": {
                            "outlinewidth": 0,
                            "ticks": ""
                          }
                        },
                        "type": "scatter3d"
                      }
                    ],
                    "scattercarpet": [
                      {
                        "marker": {
                          "colorbar": {
                            "outlinewidth": 0,
                            "ticks": ""
                          }
                        },
                        "type": "scattercarpet"
                      }
                    ],
                    "scattergeo": [
                      {
                        "marker": {
                          "colorbar": {
                            "outlinewidth": 0,
                            "ticks": ""
                          }
                        },
                        "type": "scattergeo"
                      }
                    ],
                    "scattergl": [
                      {
                        "marker": {
                          "colorbar": {
                            "outlinewidth": 0,
                            "ticks": ""
                          }
                        },
                        "type": "scattergl"
                      }
                    ],
                    "scattermapbox": [
                      {
                        "marker": {
                          "colorbar": {
                            "outlinewidth": 0,
                            "ticks": ""
                          }
                        },
                        "type": "scattermapbox"
                      }
                    ],
                    "scatterpolar": [
                      {
                        "marker": {
                          "colorbar": {
                            "outlinewidth": 0,
                            "ticks": ""
                          }
                        },
                        "type": "scatterpolar"
                      }
                    ],
                    "scatterpolargl": [
                      {
                        "marker": {
                          "colorbar": {
                            "outlinewidth": 0,
                            "ticks": ""
                          }
                        },
                        "type": "scatterpolargl"
                      }
                    ],
                    "scatterternary": [
                      {
                        "marker": {
                          "colorbar": {
                            "outlinewidth": 0,
                            "ticks": ""
                          }
                        },
                        "type": "scatterternary"
                      }
                    ],
                    "surface": [
                      {
                        "colorbar": {
                          "outlinewidth": 0,
                          "ticks": ""
                        },
                        "colorscale": [
                          [
                            0,
                            "#0d0887"
                          ],
                          [
                            0.1111111111111111,
                            "#46039f"
                          ],
                          [
                            0.2222222222222222,
                            "#7201a8"
                          ],
                          [
                            0.3333333333333333,
                            "#9c179e"
                          ],
                          [
                            0.4444444444444444,
                            "#bd3786"
                          ],
                          [
                            0.5555555555555556,
                            "#d8576b"
                          ],
                          [
                            0.6666666666666666,
                            "#ed7953"
                          ],
                          [
                            0.7777777777777778,
                            "#fb9f3a"
                          ],
                          [
                            0.8888888888888888,
                            "#fdca26"
                          ],
                          [
                            1,
                            "#f0f921"
                          ]
                        ],
                        "type": "surface"
                      }
                    ],
                    "table": [
                      {
                        "cells": {
                          "fill": {
                            "color": "#EBF0F8"
                          },
                          "line": {
                            "color": "white"
                          }
                        },
                        "header": {
                          "fill": {
                            "color": "#C8D4E3"
                          },
                          "line": {
                            "color": "white"
                          }
                        },
                        "type": "table"
                      }
                    ]
                  },
                  "layout": {
                    "annotationdefaults": {
                      "arrowcolor": "#2a3f5f",
                      "arrowhead": 0,
                      "arrowwidth": 1
                    },
                    "coloraxis": {
                      "colorbar": {
                        "outlinewidth": 0,
                        "ticks": ""
                      }
                    },
                    "colorscale": {
                      "diverging": [
                        [
                          0,
                          "#8e0152"
                        ],
                        [
                          0.1,
                          "#c51b7d"
                        ],
                        [
                          0.2,
                          "#de77ae"
                        ],
                        [
                          0.3,
                          "#f1b6da"
                        ],
                        [
                          0.4,
                          "#fde0ef"
                        ],
                        [
                          0.5,
                          "#f7f7f7"
                        ],
                        [
                          0.6,
                          "#e6f5d0"
                        ],
                        [
                          0.7,
                          "#b8e186"
                        ],
                        [
                          0.8,
                          "#7fbc41"
                        ],
                        [
                          0.9,
                          "#4d9221"
                        ],
                        [
                          1,
                          "#276419"
                        ]
                      ],
                      "sequential": [
                        [
                          0,
                          "#0d0887"
                        ],
                        [
                          0.1111111111111111,
                          "#46039f"
                        ],
                        [
                          0.2222222222222222,
                          "#7201a8"
                        ],
                        [
                          0.3333333333333333,
                          "#9c179e"
                        ],
                        [
                          0.4444444444444444,
                          "#bd3786"
                        ],
                        [
                          0.5555555555555556,
                          "#d8576b"
                        ],
                        [
                          0.6666666666666666,
                          "#ed7953"
                        ],
                        [
                          0.7777777777777778,
                          "#fb9f3a"
                        ],
                        [
                          0.8888888888888888,
                          "#fdca26"
                        ],
                        [
                          1,
                          "#f0f921"
                        ]
                      ],
                      "sequentialminus": [
                        [
                          0,
                          "#0d0887"
                        ],
                        [
                          0.1111111111111111,
                          "#46039f"
                        ],
                        [
                          0.2222222222222222,
                          "#7201a8"
                        ],
                        [
                          0.3333333333333333,
                          "#9c179e"
                        ],
                        [
                          0.4444444444444444,
                          "#bd3786"
                        ],
                        [
                          0.5555555555555556,
                          "#d8576b"
                        ],
                        [
                          0.6666666666666666,
                          "#ed7953"
                        ],
                        [
                          0.7777777777777778,
                          "#fb9f3a"
                        ],
                        [
                          0.8888888888888888,
                          "#fdca26"
                        ],
                        [
                          1,
                          "#f0f921"
                        ]
                      ]
                    },
                    "colorway": [
                      "#636efa",
                      "#EF553B",
                      "#00cc96",
                      "#ab63fa",
                      "#FFA15A",
                      "#19d3f3",
                      "#FF6692",
                      "#B6E880",
                      "#FF97FF",
                      "#FECB52"
                    ],
                    "font": {
                      "color": "#2a3f5f"
                    },
                    "geo": {
                      "bgcolor": "white",
                      "lakecolor": "white",
                      "landcolor": "#E5ECF6",
                      "showlakes": true,
                      "showland": true,
                      "subunitcolor": "white"
                    },
                    "hoverlabel": {
                      "align": "left"
                    },
                    "hovermode": "closest",
                    "mapbox": {
                      "style": "light"
                    },
                    "paper_bgcolor": "white",
                    "plot_bgcolor": "#E5ECF6",
                    "polar": {
                      "angularaxis": {
                        "gridcolor": "white",
                        "linecolor": "white",
                        "ticks": ""
                      },
                      "bgcolor": "#E5ECF6",
                      "radialaxis": {
                        "gridcolor": "white",
                        "linecolor": "white",
                        "ticks": ""
                      }
                    },
                    "scene": {
                      "xaxis": {
                        "backgroundcolor": "#E5ECF6",
                        "gridcolor": "white",
                        "gridwidth": 2,
                        "linecolor": "white",
                        "showbackground": true,
                        "ticks": "",
                        "zerolinecolor": "white"
                      },
                      "yaxis": {
                        "backgroundcolor": "#E5ECF6",
                        "gridcolor": "white",
                        "gridwidth": 2,
                        "linecolor": "white",
                        "showbackground": true,
                        "ticks": "",
                        "zerolinecolor": "white"
                      },
                      "zaxis": {
                        "backgroundcolor": "#E5ECF6",
                        "gridcolor": "white",
                        "gridwidth": 2,
                        "linecolor": "white",
                        "showbackground": true,
                        "ticks": "",
                        "zerolinecolor": "white"
                      }
                    },
                    "shapedefaults": {
                      "line": {
                        "color": "#2a3f5f"
                      }
                    },
                    "ternary": {
                      "aaxis": {
                        "gridcolor": "white",
                        "linecolor": "white",
                        "ticks": ""
                      },
                      "baxis": {
                        "gridcolor": "white",
                        "linecolor": "white",
                        "ticks": ""
                      },
                      "bgcolor": "#E5ECF6",
                      "caxis": {
                        "gridcolor": "white",
                        "linecolor": "white",
                        "ticks": ""
                      }
                    },
                    "title": {
                      "x": 0.05
                    },
                    "xaxis": {
                      "automargin": true,
                      "gridcolor": "white",
                      "linecolor": "white",
                      "ticks": "",
                      "title": {
                        "standoff": 15
                      },
                      "zerolinecolor": "white",
                      "zerolinewidth": 2
                    },
                    "yaxis": {
                      "automargin": true,
                      "gridcolor": "white",
                      "linecolor": "white",
                      "ticks": "",
                      "title": {
                        "standoff": 15
                      },
                      "zerolinecolor": "white",
                      "zerolinewidth": 2
                    }
                  }
                }
              }
            },
            "text/html": [
              "<div>                            <div id=\"8df4459a-1bb7-48ba-be6a-715f15886b6c\" class=\"plotly-graph-div\" style=\"height:525px; width:100%;\"></div>            <script type=\"text/javascript\">                require([\"plotly\"], function(Plotly) {                    window.PLOTLYENV=window.PLOTLYENV || {};                                    if (document.getElementById(\"8df4459a-1bb7-48ba-be6a-715f15886b6c\")) {                    Plotly.newPlot(                        \"8df4459a-1bb7-48ba-be6a-715f15886b6c\",                        [{\"branchvalues\": \"total\", \"customdata\": [[27.45, 6.493563, 4.56, -0.005211944444846901], [9.92, 0.58022565, 6.03, 0.005146316851280463], [19.54, 1.1301061000000001, 2.51, 0.011968566534969001], [16.86, 3.4586093, 5.66, 0.005721207777088747], [19.41, 6.291571, 26.14, -0.011370893938062444], [15.54, 0.17396984, 9.73, 0.0025971937237106875], [22.51, 3.7404803999999996, 3.19, -0.002372214723871919], [25.47, 2.604117, 10.62, 0.005272199508263387], [52.31, 13.092818, 11.06, 0.014046171434700392], [17.67, 8.003910000000001, 3.13, 0.004856033766381212], [17.45, 0.52478915, 1.29, 0.004022635445282359], [29.34, 4.0483294, 12.86, 0.005636630473284431], [-77.07, 16.50682, 224.13, 0.012320552976079856], [20.38, 2.693119, 1.79, 0.003960345913192124], [17.32, 2.7489934, 1.81, 0.003949750462976146], [9.96, 0.65951383, 2.2, -0.0006535824688885981], [12.24, 1.5429343999999998, 1.53, 0.0016672729595150486], [23.22, 1.4686536000000001, 0.75, -0.011290153144923215], [15.6, 6.187621, 4.69, -0.02431644524435351], [33.27, 0.9821866, 1.12, 0.0009328985099824269], [21.05, 1.9400215, 2.92, -0.006870038787552745], [32.55, 5.854652400000001, 3.25, 0.014138768947978423], [26.03, 5.3666205, 2.98, -0.023835934103786035], [56.59, 13.138819, 16.44, 0.0016831583882636109], [9.66, 0.9801091999999999, 2.21, -0.003643770347538094], [13.26, 1.2085556, 1.67, 0.00760233594907773], [21.07, 4.265232, 20.48, 0.002494049639971337], [22.18, 9.720562, 2.82, 0.009950924944506312], [14.08, 4.7020154000000005, 5.44, 0.014560545778284356], [187.0, 2.1091955000000002, 21.47, 0.01940068129234403], [27.61, 4.015368, 4.54, -0.019078068960887203], [13.76, 5.581919999999999, 3.91, 0.01312129489586959], [12.41, 1.9493247, 3.73, -0.007470290940363182], [20.68, 11.954137, 9.22, -0.0038263277598695206], [296.16, 3.927053, 24.28, 0.019482404978986515], [42.53, 16.8134, 5.79, 0.013988299224205225], [19.23, 0.6696521, 2.28, -0.004564176217167694], [20.8, 3.4972682, 6.78, -0.015442096877633881], [27.76, 3.5754826, 6.35, 0.01304744011342674], [24.22, 4.1163682999999995, 3.35, -0.010212143410935905], [25.9, 3.85675, 6.64, -0.0014609973322396606], [69.74, 1.5025798000000001, 7.56, 0.0013056062916759498], [19.03, 10.492155, 2.07, -0.012467031090422463], [31.8, 10.59512, 5.16, 0.019359773463067796], [17.97, 10.251216000000001, 2.12, -0.019693595797618094], [15.94, 6.961892999999999, 4.4, 0.009483591955420617], [22.11, 1.5206499, 8.83, -0.0116649336393489], [26.23, 5.553833, 2.55, 0.007718224871634394], [15.0, 2.273575, 3.75, 0.0012004715043340687], [16.31, 1.8510429, 136.23, 0.013673830991563414], [27.29, 2.1560605, 182.86, 0.008771546681345586], [16.34, 3.2011874, 1.24, -0.017252009632601345], [25.12, 3.4394413999999998, 3.77, -0.007861734439547486], [19.22, 0.76715523, 4.79, 0.0023032043139229745], [22.28, 5.6912947, 3.98, -0.006443553574806066], [12.67, 3.3991010000000004, 1.83, -0.005208710836239727], [14.3, 5.737439, 5.51, 0.010976285251000676], [14.76, 3.3834257000000005, 1.49, -0.0038263289566380426], [22.49, 6.9158196, 2.95, -0.00185005677303454], [20.56, 1.5696398999999999, 3.62, -0.006256355222867376], [20.83, 6.5032309999999995, 6.75, -0.004723203491505887], [20.0, 4.0556849999999995, 4.78, -0.011609804743006703], [14.15, 1.5831376, 2.89, 0.006533944677330572], [18.05, 6.839459, 3.15, -0.011758013641352427], [13.48, 2.1857585999999998, 0.9, -0.014494205823317674], [18.2, 1.8294993999999998, 3.86, 0.021075781492984478], [12.29, 0.21131156, 3.03, 0.005660985266729233], [21.22, 2.0468428, 5.75, -0.01005152858693978], [17.5, 2.0985637, 1.35, -0.014630640149051377], [35.06, 8.249042, 5.15, -0.004186843466014379], [21.45, 10.125291, 3.54, -0.0028177378515077687], [17.48, 2.8147783, 2.0, -0.02007882668612668], [34.09, 5.751737, 10.98, 0.014678239162095529], [27.09, 5.5560412, 4.62, 0.0007976719115372684], [-59.46, 3.0044447999999995, 2.81, -0.008692078999113726], [16.04, 3.3917346, 1.08, -0.03238322668258034], [24.42, 3.1682447999999996, 6.28, -0.007955116411373761], [26.0, 0.85282737, 9.31, 0.00614884208453846], [162.92, 2.1208633999999997, 2.27, -0.0009546343850366932], [18.11, 1.550762, 3.39, 0.001058337992789738], [27.48, 2.756679, 1.6, -0.0037652756481916954], [24.02, 4.000737, 236.42, 0.00230998781569137], [23.44, 2.798683, 21.62, 0.016191180385520483], [18.89, 4.9054720000000005, 1.96, -0.03839986235413864], [18.54, 2.1797748, 2.65, 0.01183236173731168], [32.15, 14.881806, 2.51, -0.014052599571629213], [45.86, 2.5523853, 6.11, 0.006379417787741427], [16.83, 1.9406168000000001, 3.89, -0.012730418554944277], [21.42, 2.4711676, 2.65, 0.006885414858035954], [19.12, 0.5028663, 2.58, 0.0059810174249736265], [19.73, 1.6262617, 3.21, -0.02713147212375979], [11.85, 1.5931405, 0.94, -0.018322391834393464], [60.55, 8.636728999999999, 4.21, 0.027165001712310278], [22.96, 6.8538464999999995, 3.57, 0.0024197398754250304], [72.93, 2.0764177, 2.16, -0.038357302497295756], [30.69, 0.61203885, 7.24, 0.011477776333029741], [24.64, 2.0061796000000003, 1.37, 0.014012325608763202], [14.84, 2.3898203, 7.91, 0.0018117760775266853], [520.15, 10.3738785, 8.81, 0.004054902507402308], [17.87, 5.484418, 3.07, 0.016214058199933302], [21.94, 4.216355, 4.27, -0.012325226772562032], [32.75, 2.7614057, 6.53, -0.02634409349027191], [8.35, 1.4795983999999998, 1.39, -0.0035226686402254105], [22.44, 3.9678397000000003, 3.94, -0.012624390742221523], [20.37, 4.7538714, 6.73, 0.035769992225420856], [12.36, 0.549852, 2.13, 0.0023672682215463573], [27.52, 1.6489863, 1.71, -0.015302922743007145], [84.39, 12.271951, 2.61, -0.026566594029823167], [20.42, 3.7954214, 2.96, -0.013314158256335444], [10.37, 0.91792434, 2.67, 0.004115487088473426], [23.14, 2.3746447999999996, 5.31, 9.664664147547687e-05], [12.13, 2.3610325, 2.52, -0.005576736180525364], [21.18, 1.5283886, 4.53, 0.011482655647318393], [17.07, 1.7709883000000002, 2.82, 0.0022719931803685057], [16.32, 1.1931022, 2.17, -0.024398452513502887], [22.87, 3.688278, 2.65, -4.099481359057324e-05], [17.78, 3.9635562999999996, 3.82, 0.006209784440618377], [11.0, 1.8040880000000001, 1.5, 0.0009871167083228066], [10.37, 1.7147918000000002, 1.43, -0.006190276193262106], [16.09, 1.8521843, 3.76, -0.01949171430778312], [16.55, 12.434961, 2.32, -0.004943581670782496], [26.66, 1.6097589, 4.08, 0.02705939001097488], [23.87, 1.986176, 3.59, -0.001440242232707276], [19.77, 16.077257, 1.94, -5.2348968509810614e-05], [22.72, 1.5278828000000002, 5.89, 0.0013531746899852208], [19.12, 1.9091922, 1.95, -0.012368130145702216], [16.7, 2.9348857, 1.27, -0.0045192771169053365], [20.55, 1.1451396999999999, 2.79, 0.01500195787747678], [23.93, 2.0660408, 2.85, -0.04047937246501265], [79.93, 1.9598055, 2.26, -0.0180832202994249], [34.48, 7.4415816999999995, 8.54, 0.01929854568673626], [24.86, 4.6720185, 3.8, -0.0047585359660166715], [28.08, 3.7360687000000006, 5.28, -0.005398415133827148], [18.64, 2.960244, 1.58, -0.003971774933591539], [19.03, 5.633805799999999, 4.59, -0.003159623880077383], [13.23, 2.161095, 1.59, -0.008509337198586247], [37.78, 3.9522583, 10.82, -0.006204115653058076], [12.28, 1.4904785, 2.78, -0.017427212196990192], [25.74, 3.6707752, 5.01, -0.031035360920482296], [246.44, 8.023019999999999, 4.55, -0.04040250856652219], [23.06, 10.639136, 5.14, 0.006076612760791995], [17.6, 8.593619, 2.09, -0.008254964025256271], [18.22, 3.1134193, 1.68, -0.00793711853297717], [18.66, 14.1830845, 2.3, -0.015371717167891494], [17.08, 1.8161736000000002, 2.17, -0.01267592588905073], [10.65, 1.5543115, 1.54, -0.0026691850948117337], [32.57, 7.8283277, 8.48, -0.006672618467486239], [14.51, 1.3933871, 1.26, 0.002546239665763615], [25.26, 2.1903189999999997, 5.55, 0.0046728889915320935], [30.99, 2.5074897000000003, 4.14, -0.010138051676533269], [18.12, 12.204818, 4.54, -0.017028131686928363], [5.89, 0.27054095, 1.26, -0.022876709173270632], [27.02, 3.4729769999999998, 7.39, -0.0011765165884513257], [27.9, 13.241967, 7.08, 0.0014556290277680155], [20.27, 1.8434572, 3.76, -0.011718181587976726], [14.67, 1.6538345, 3.66, -0.006770270441361845], [19.45, 1.0751684, 3.9, 0.0007934566284133259], [11.18, 1.2994481000000002, 2.19, 0.001799617170908583], [21.21, 4.1203604, 6.86, -0.00016460199026139757], [22.08, 4.7038417, 3.25, 0.007523192081407915], [27.32, 6.518713, 11.54, 0.0010091901522352746], [16.9, 2.8802847999999996, 1.46, -0.02391965972170854], [25.53, 5.137961, 3.52, 0.02606490896695029], [26.17, 2.0803037, 3.15, -0.02975968459035388], [32.48, 6.008903500000001, 5.26, -0.0036094809290794184], [17.57, 3.1654842, 4.04, 0.009749274813400101], [17.81, 2.1080317, 4.11, 0.005992875915388915], [18.35, 12.898601, 3.98, -0.020055081217117337], [18.77, 1.561575, 1.06, -0.021380588742550454], [25.05, 5.168267299999999, 7.17, -0.016100201624195423], [20.71, 2.0481362, 5.45, -0.010560972773461361], [13.76, 1.0887611000000001, 1.7, -0.019622962971670457], [8.16, 5.208746400000001, 4.12, 0.010338335549579542], [17.53, 2.0389178, 7.26, -0.0017398360622333663], [16.45, 2.544682, 1.71, -0.0059483483233222405], [6.58, 0.5633218000000001, 1.33, -0.01940713768491655], [40.29, 6.772653, 4.67, 0.0026913649541678163], [31.48, 6.801692, 4.7, 0.002831401211770181], [21.17, 1.212236, 4.33, -0.006679291235580846], [27.86, 5.775833, 4.73, 0.0009841409352427104], [21.23, 5.319881, 3.14, -0.0031009608223211064], [12.44, 2.309415, 1.25, 0.0013612162920702854], [22.57, 1.3995146, 8.1, -0.006302337883429149], [38.86, 2.1424223999999996, 4.74, -0.04706940729863944], [20.57, 3.2375681, 5.82, 0.02304156761706902], [15.41, 3.5112102, 1.72, -0.022816977205098975], [10.04, 1.6339768, 6.17, -0.007195381559930038], [14.07, 0.7251920999999999, null, 0.0034897870119070173], [28.1, 2.8964397999999996, 84.08, 0.010827357272847057], [-9.33, 3.780475, 1.08, -0.04816605870806598], [14.34, 1.3939538, 1.15, -0.0034630604649506223], [18.75, 1.8924941000000002, 6.04, 0.0032868803998141994], [36.42, 3.7628453, 17.67, 0.0003785646019073803], [19.21, 4.80335, 4.0, -0.019933991414622945], [20.68, 2.8267898999999996, 5.71, -0.01132164673949048], [11.57, 1.4609766000000002, 1.06, -0.010555292433670259], [12.07, 0.8954903000000001, 0.66, -0.003466003438362531], [12.29, 2.0188456, 205.41, 0.004766809691879001], [20.39, 2.5174792, 3.49, 0.008129621013979474], [19.85, 1.262194, 3.74, -0.005173678360449004], [11.23, 3.5549128, 2.02, 0.007097297507087319], [20.51, 2.8396711, 25.64, 0.0014963929324440777], [22.39, 0.9256895, 3.33, 0.0001642544674747643], [10.67, 1.8171669999999998, 7.7, 0.009333061790035782], [22.95, 9.619987, 2.62, -0.006828871068624925], [53.57, 7.97525, 196.21, 0.003431716247592465], [24.17, 4.4208813, 6.34, -0.006721615834976336], [52.25, 11.713953, 10.89, 0.016311887783871354], [-119.89, 17.026989999999998, 10.25, 0.006089167330283835], [26.19, 5.0604, 2.24, -0.013410589633505625], [12.32, 3.348876, 3.34, 0.02921890594477179], [40.52, 9.633731, 33.5, 0.006419562906692098], [15.57, 1.0738261, 4.99, -0.014169395019772494], [15.46, 1.4712903, 4.01, 0.010025819508912], [21.74, 2.8477087000000005, 2.77, -0.008897690940054123], [19.38, 1.6147361, 3.34, -0.013823721027156698], [15.42, 3.2898626, 4.97, -0.005809820916215805], [48.58, 14.655261, 9.48, -0.006916568674655936], [36.86, 4.894499, 13.47, 0.003096575609895901], [23.62, 3.9286149, 10.99, -0.0007323925570659076], [11.87, 2.6513786, 1.62, -0.023058177737641333], [30.62, 1.7697401999999998, 8.55, -0.006105815100516674], [14.0, 1.1415336, 1.69, -0.010265431559030425], [17.31, 4.6326222, 4.74, 0.002195808669378473], [14.09, 1.8543326, 1.78, 0.003680015354494763], [15.43, 3.3714992999999995, 1.6, -0.01170215895156367], [16.5, 2.3173764, 11.5, 0.004072078443906747], [14.66, 3.270451, 1.55, -0.02446588686332279], [20.11, 4.678085299999999, 1.54, 0.002154506258865259], [9.28, 7.0508942999999995, 1.2, -0.03293056541309831], [16.59, 4.3395863, 12.93, 0.02948261218843561], [17.93, 2.1947837000000003, 151.66, 0.008152054369699074], [25.07, 2.8239360000000002, 1.07, -0.03183224522324732], [19.44, 0.6913859, 3.55, -0.01241379007502522], [22.8, 6.822138000000001, 8.65, -0.001199416829058241], [13.07, 0.27961263, 4.02, 0.010374842311749328], [16.01, 0.8557756999999999, 2.04, -0.047110865183773075], [19.8, 4.281897, 2.39, -0.0197302726478458], [15.99, 1.5809761, 0.85, 0.004232775594714922], [12.77, 1.7060977, 1403.38, -0.03536595462918194], [17.88, 2.0302901, 4.89, -0.009235549182613179], [15.35, 1.1468264, 1.76, -0.037544597114206595], [17.79, 2.2459624, 2.71, 0.0014087679022756537], [21.35, 1.723609, 3.02, -0.02690816199168261], [17.34, 3.7546779999999997, 5.73, 0.009439501651635712], [24.28, 1.8781451, 45.55, -0.009388131842584491], [9.49, 1.2019440000000001, 1.04, 0.004085785776588883], [19.86, 3.4331481, 2.13, 0.004569041699351878], [23.87, 1.5653384, 14.1, -0.00913971972907641], [16.29, 3.0405292999999998, 4.52, 0.015408561212144142], [15.89, 1.6294897, 3.84, 0.010441857580937911], [10.35, 1.3037611999999998, 5.86, -0.023675445366839652], [34.99, 15.020556, 26.93, 0.0039440335579645595], [14.38, 6.6291075, 1.6, -0.010657467937122139], [32.73, 2.9997249, 11.02, -0.010184733466565047], [22.12, 2.308266, 11.93, -0.01335095070469442], [23.83, 5.770237, 146.07, -0.009279655263833226], [21.77, 7.4475183000000005, 5.9, 0.023712270861135958], [11.68, 0.15318617, 2.68, 0.0031616805252892588], [26.55, 9.932974, 73.84, -0.00296788060072629], [19.85, 2.5708609, 2.52, 0.006595719449469191], [17.04, 4.944542, 2.14, -0.003589994217966392], [8.52, 1.0496864, 0.85, -0.013984346557428324], [29.65, 2.2276719, 3.09, -0.014993353594555765], [19.08, 2.7977824, 2.88, 0.01741276896312713], [23.91, 2.7788277000000003, 5.2, -0.007624898675210386], [30.38, 4.416998, 3.03, -0.01984931559677483], [20.23, 2.9848945, 5.85, -0.0039768186034041175], [24.31, 4.3902707, 11.34, -0.0014367784175169662], [42.17, 14.152586999999999, 9.56, 0.003009341799971624], [18.89, 4.945682, 10.32, -0.0061432898309723765], [23.66, 1.8161957999999998, 0.94, -0.012362865272747806], [16.06, 0.42713487, 2.43, -0.029999831516122222], [13.75, 5.0893345000000005, 4.02, 0.003181155356062412], [14.23, 2.2258842, 1.33, -0.005949437302202008], [25.76, 7.113096700000001, 9.49, 0.014079913775493105], [19.03, 2.6092633999999997, 6.81, -0.00540143048284831], [18.91, 4.6277885, 1.79, -0.02011971694261844], [35.56, 8.372307000000001, 31.69, -0.006273016296312799], [9.01, 2.1912806000000002, 2.02, 0.012994654255559093], [8.35, 2.5358944, 1.63, 0.019319568625946457], [105.96, 4.6976447, 1.44, -0.02486028505486566], [15.35, 3.2066103999999997, 2.35, -0.00723675969639415], [17.78, 3.2591083, 2.25, -0.0013859218107946686], [21.65, 4.091698, 2.75, 0.003440942164727904], [26.34, 3.7076392, 1.81, 0.011571989916356714], [200.08, 9.861594, 30.8, 0.021827105328401344], [19.57, 2.2361343, 1.82, 0.005301639328776007], [24.9, 3.0549932, 8.91, -0.005204270629748287], [18.73, 2.7288197999999997, 3.02, -0.021232080112079922], [24.4, 2.2095759999999998, 7.96, -0.0011901173389977802], [-77.71, 2.5209634, 0.91, -0.0230855041346655], [17.78, 0.9933021000000001, 6.73, -0.016324016071984002], [20.65, 3.8525907999999998, 3.09, -0.011086256547186714], [26.1, 3.6687025999999996, 5.46, 0.005744794758890263], [19.96, 4.031728, 2.44, -0.0009270297945173961], [17.01, 0.99837583, 2.34, -0.014475209384937078], [82.08, 20.094294, 20.39, 0.016505133531003607], [9.72, 1.2810479, 1.01, 0.006942228824096058], [44.03, 1.5718216, 0.86, -0.0032047963059406363], [43.47, 1.5518167, 0.85, -0.009717201704225858], [15.54, 15.588069, 1.92, -0.023597456624024158], [15.27, 1.5327156000000002, 6.66, 0.001773164898074631], [18.81, 5.256164599999999, 3.56, 0.012161178006862733], [21.91, 3.1934318999999998, 34.12, 0.012124694918575775], [27.49, 7.248487, 11.77, -0.002602194966189144], [18.02, 3.9272704, 1.17, -0.00048757850988621025], [15.72, 1.28693, 3.07, -0.00042657659893862343], [16.11, 3.4491453, 1.88, -0.0015911640979352109], [21.51, 3.6705062000000006, null, 0.00944620114219623], [12.69, 4.0020885, 3.4, 0.008146484147308676], [11.96, 1.7167546000000002, 1.53, -0.020251277805570133], [20.46, 3.1595004, 3.85, 0.0029940294974010965], [20.76, 1.1458876, 3.25, 0.003933568573636418], [21.6, 1.8652664, 4.39, -0.007881089623740971], [12.86, 1.0341544, 1.99, -0.03208002738278349], [18.57, 1.741522, 5.54, -0.002818124206272134], [24.68, 3.7116462999999995, 3.25, -0.0120329546899741], [20.76, 14.380373, 2.11, 0.002750006546750386], [22.36, 2.7574685000000003, 1318.7, 0.0011355560502218597], [17.55, 4.046530000000001, 1.53, -0.017913485156501235], [18.89, 2.5191512, 2.48, -0.01443953737103722], [16.06, 2.9931207000000004, 1.65, -0.0020108650655840093], [18.73, 1.9551051, 4.83, -0.013768245617619445], [12.83, 3.7497053, 1.95, -0.009757351780341088], [null, 3.3850067000000004, 2.03, 0.0187964441543274], [9.99, 1.083727, 0.93, -0.01901931192244597], [18.21, 16.164170000000002, 6.56, -0.005234360091881988], [21.11, 0.47499472, 2.12, -0.00867343603403108], [20.98, 1.7617522, 2.14, -0.017457106789277477], [17.54, 0.77893436, 1.43, -0.0219483543574864], [118.29, 6.7890477, 2.76, -0.043827293506679695], [49.53, 6.935696000000001, 5.81, 0.0010825507949443177], [16.51, 4.263658, 3.82, 0.011001484646967808], [19.71, 3.3891419999999997, 1.98, 0.005795453434319594], [16.26, 3.1026611, 2.56, -0.001391595661048713], [27.24, 2.0991988, 1.16, -0.017537793875044137], [15.27, 13.762162, 1.51, -0.006978265068693423], [27.93, 8.48541, 5.89, 0.01885642819880629], [17.9, 3.474771, 1.32, -0.023228165294318707], [20.18, 1.3330402, 5.98, -0.008718019641592249], [16.94, 1.9734555, 2.34, -0.008318083562560157], [17.74, 1.3948757999999999, 2.44, -0.009708907431549304], [31.54, 6.1640687000000005, 6.61, 0.020634724524799707], [26.48, 3.760594, 10.94, -0.013050491714356554], [27.57, 5.9715905, 4.23, -0.015522851875552374], [26.52, 2.9734495, 10.28, -0.0030903662706156377], [26.13, 2.8841186000000003, 2.83, -0.010359240255954156], [199.81, 15.189207000000001, 91.04, -0.0015030114373353284], [25.98, 3.4392443, 13.36, 0.004116013979666568], [29.82, 7.949615, 4.51, -0.01104421493669352], [21.31, 2.4700067000000003, 10.55, -0.010352757313619378], [26.75, 2.5276077, 13.42, 9.1706665877836e-05], [15.35, 2.496677, 1.88, 0.008144558168700662], [44.93, 3.2297827999999997, 2.64, -0.04394682402970106], [14.07, 6.5820084, 1.32, -0.024855605407227494], [15.81, 3.5114812999999994, 3.21, -0.002348781745213443], [67.72, 6.276264, 3.98, 0.0017035966500550783], [15.78, 2.5080602, 1.82, -0.0051256268765335995], [13.56, 8.754495, 13.24, -0.014665506912407944], [27.38, 10.254703999999998, 50.56, -0.0038681085021168332], [19.14, 3.1530299999999998, 1.98, -0.016243655785616273], [15.35, 3.263072, 1.95, -0.014283023234911986], [11.51, 1.3048558000000001, 13.33, 0.0035003608296690527], [30.92, 5.145596, 5.14, -0.018910561725526825], [20.57, 1.944325, 3.34, -0.013241068446344425], [16.45, 6.970443700000001, 4.25, 0.01340427710072182], [13.35, 2.1096623, 1.97, -0.023515501483424475], [23.46, 4.635566000000001, 5.54, -0.006937355714453126], [22.98, 0.7295535, 13.4, 0.0039413272836162595], [12.14, 1.4083152, 1.8, -0.0047819488446779485], [17.66, 1.2371694, 1.34, -0.006209883105524621], [23.76, 4.268832, null, -0.015375226889448472], [19.72, 2.5734365, 3.6, 0.001828845542070831], [14.19, 0.8047394, 3.45, 0.008497711098673415], [27.0, 4.516748000000001, 3.97, -0.008860878815813985], [21.01, 1.9293598, 10.35, 0.0004174320942352367], [21.84, 4.015666, 3.38, -0.007202762885780295], [null, 4.0785494, 4.35, -0.04828940525007715], [19.92, 7.3911157, 4.61, -0.0060624228765978035], [16.48, 1.33382, 1.63, -0.0029864074678875433], [19.57, 1.1642125, 6.01, -0.0021639572658213946], [13.92, 0.93730986, 2.55, 0.019242405742436793], [24.05, 6.957223399999999, 9.32, 0.011016626122169785], [22.13, 1.0645695, 2.57, -0.004444182664528521], [29.15, 1.4738787, 2.5, -0.016264252359868055], [32.05, 1.602308, 2.72, -0.015550714337290984], [8.85, 0.5020496, 2.09, -0.0029850004191367277], [17.79, 12.365829, 3.27, -0.012654322633433777], [15.36, 1.3158662, 2.21, 0.0033511618575198508], [32.07, 3.3779112999999996, 8.04, -0.0028379227702359684], [21.47, 1.0903316, 4.71, 0.004129111703455036], [11.51, 0.9984924000000001, 1.19, -0.010589347569006789], [22.06, 4.8605075, null, -0.01391231350295036], [18.27, 1.4744618, 64.7, 0.0021269144750821595], [16.33, 2.1782618, 4.53, 0.0065829786458879505], [15.35, 3.7773547, 2.09, -0.020473956048845648], [32.72, 14.433654, 9.4, -0.0018418837533784888], [29.93, 3.9652252, 7.32, -0.01268207769855442], [25.9, 3.7110943999999995, 7.89, -0.01176635834565386], [18.74, 0.42119179999999995, 1.93, -0.009163805209150092], [40.9, 5.7576876, 3.54, -0.0067819996734434645], [16.22, 7.1491003, 3.63, -0.008980816172689235], [28.84, 9.935474000000001, 9.34, -0.0015079104677364942], [29.5, 12.401829, 10.82, 0.005344507525759112], [252.67, 16.185404000000002, 21.91, 0.01469448885212424], [12.21, 7.074049499999999, 1.76, -0.0045997584717260695], [13.08, 1.6452543999999998, 7.96, 0.007629492017963376], [26.64, 6.9824114, 6.15, 0.0023448517684944085], [13.38, 0.5904388, 3.06, 0.013593261042162026], [10.19, 1.245503, 2.0, 0.020555458651332282], [19.57, 2.4834197000000002, 2.1, 0.0030359440975371438], [13.58, 2.8728192000000004, 1.58, -0.007094343462732031], [11.77, 0.58064795, 2.57, -0.03088312940650026], [18.67, 3.4484663, 2.1, 0.00015933889095972117], [25.36, 3.2787669000000004, 6.73, -0.011309607785439364], [48.41, 4.2982845, 3.01, -0.012663840035949534], [23.1, 0.82099426, 3.89, 0.02127575067156738], [23.26, 1.075785, 1.58, 0.009018830219523847], [10.17, 2.22677, 12.65, 6.315524674316549e-05], [34.29, 3.6396794000000003, 2.9, -0.01640729118118777], [31.7, 2.4786580000000002, 51.69, 0.007420185868078578], [18.14, 2.5204560000000003, 1.94, 0.006318139386562491], [27.19, 7.1012059999999995, 7.22, 0.010253854498463177], [21.37, 1.7701944, 1.85, -0.009476366380592365], [22.65, 4.6262620000000005, 1.8, -0.006798807046316282], [8.87, 0.7877656, 1.49, -0.015514751471628483], [30.94, 2.7262093999999997, 5.31, -0.0015528394995825737], [27.25, 6.3136363, 212.08, -0.0049114501085677385], [14.32, 3.1648953, 2.39, -0.012867204325537788], [17.73, 3.7945792999999997, 1.42, -0.02075611510579531], [32.8, 9.280896, 18.09, -0.01256373658423224], [\"(?)\", \"(?)\", \"(?)\", 0.003521204420418416], [\"(?)\", \"(?)\", \"(?)\", 0.005719012949767131], [\"(?)\", \"(?)\", \"(?)\", -0.022086897475122217], [\"(?)\", \"(?)\", \"(?)\", -0.010657175920663503], [\"(?)\", \"(?)\", \"(?)\", 0.0015152601909513225], [\"(?)\", \"(?)\", \"(?)\", -0.006402095050403783], [\"(?)\", \"(?)\", \"(?)\", 0.0074087890498917485], [\"(?)\", \"(?)\", \"(?)\", -0.009221511024211728], [\"(?)\", \"(?)\", \"(?)\", -0.00792355419240285], [\"(?)\", \"(?)\", \"(?)\", 0.000969585125463593], [\"(?)\", \"(?)\", \"(?)\", -0.0032122956448452345], [\"(?)\", \"(?)\", \"(?)\", -0.00023398907171855293]], \"domain\": {\"x\": [0.0, 1.0], \"y\": [0.0, 1.0]}, \"hovertemplate\": \"labels=%{label}<br>Market Cap=%{value}<br>parent=%{parent}<br>id=%{id}<br>Price/Earnings=%{customdata[0]}<br>Price/Sales=%{customdata[1]}<br>Price/Book=%{customdata[2]}<br>COVID beta=%{color}<extra></extra>\", \"ids\": [\"S&P500/Health Care/A\", \"S&P500/Industrials/AAL\", \"S&P500/Consumer Discretionary/AAP\", \"S&P500/Information Technology/AAPL\", \"S&P500/Health Care/ABBV\", \"S&P500/Health Care/ABC\", \"S&P500/Health Care/ABT\", \"S&P500/Information Technology/ACN\", \"S&P500/Information Technology/ADBE\", \"S&P500/Information Technology/ADI\", \"S&P500/Consumer Staples/ADM\", \"S&P500/Information Technology/ADP\", \"S&P500/Information Technology/ADSK\", \"S&P500/Utilities/AEE\", \"S&P500/Utilities/AEP\", \"S&P500/Utilities/AES\", \"S&P500/Financials/AFL\", \"S&P500/Financials/AIG\", \"S&P500/Real Estate/AIV\", \"S&P500/Financials/AIZ\", \"S&P500/Financials/AJG\", \"S&P500/Information Technology/AKAM\", \"S&P500/Materials/ALB\", \"S&P500/Health Care/ALGN\", \"S&P500/Industrials/ALK\", \"S&P500/Financials/ALL\", \"S&P500/Industrials/ALLE\", \"S&P500/Health Care/ALXN\", \"S&P500/Information Technology/AMAT\", \"S&P500/Information Technology/AMD\", \"S&P500/Industrials/AME\", \"S&P500/Health Care/AMGN\", \"S&P500/Financials/AMP\", \"S&P500/Real Estate/AMT\", \"S&P500/Consumer Discretionary/AMZN\", \"S&P500/Information Technology/ANSS\", \"S&P500/Health Care/ANTM\", \"S&P500/Financials/AON\", \"S&P500/Industrials/AOS\", \"S&P500/Materials/APD\", \"S&P500/Information Technology/APH\", \"S&P500/Consumer Discretionary/APTV\", \"S&P500/Real Estate/ARE\", \"S&P500/Information Technology/ATVI\", \"S&P500/Real Estate/AVB\", \"S&P500/Information Technology/AVGO\", \"S&P500/Materials/AVY\", \"S&P500/Utilities/AWK\", \"S&P500/Financials/AXP\", \"S&P500/Consumer Discretionary/AZO\", \"S&P500/Industrials/BA\", \"S&P500/Financials/BAC\", \"S&P500/Health Care/BAX\", \"S&P500/Consumer Discretionary/BBY\", \"S&P500/Health Care/BDX\", \"S&P500/Financials/BEN\", \"S&P500/Health Care/BIIB\", \"S&P500/Financials/BK\", \"S&P500/Financials/BLK\", \"S&P500/Materials/BLL\", \"S&P500/Health Care/BMY\", \"S&P500/Health Care/BSX\", \"S&P500/Consumer Discretionary/BWA\", \"S&P500/Real Estate/BXP\", \"S&P500/Financials/C\", \"S&P500/Consumer Staples/CAG\", \"S&P500/Health Care/CAH\", \"S&P500/Industrials/CAT\", \"S&P500/Financials/CB\", \"S&P500/Financials/CBOE\", \"S&P500/Real Estate/CCI\", \"S&P500/Consumer Discretionary/CCL\", \"S&P500/Information Technology/CDNS\", \"S&P500/Health Care/CERN\", \"S&P500/Materials/CF\", \"S&P500/Financials/CFG\", \"S&P500/Consumer Staples/CHD\", \"S&P500/Industrials/CHRW\", \"S&P500/Consumer Discretionary/CHTR\", \"S&P500/Health Care/CI\", \"S&P500/Financials/CINF\", \"S&P500/Consumer Staples/CL\", \"S&P500/Consumer Staples/CLX\", \"S&P500/Financials/CMA\", \"S&P500/Consumer Discretionary/CMCSA\", \"S&P500/Financials/CME\", \"S&P500/Consumer Discretionary/CMG\", \"S&P500/Industrials/CMI\", \"S&P500/Utilities/CMS\", \"S&P500/Health Care/CNC\", \"S&P500/Utilities/CNP\", \"S&P500/Financials/COF\", \"S&P500/Energy/COG\", \"S&P500/Health Care/COO\", \"S&P500/Energy/COP\", \"S&P500/Consumer Staples/COST\", \"S&P500/Consumer Staples/COTY\", \"S&P500/Consumer Staples/CPB\", \"S&P500/Information Technology/CRM\", \"S&P500/Information Technology/CSCO\", \"S&P500/Industrials/CSX\", \"S&P500/Industrials/CTAS\", \"S&P500/Telecommunication Services/CTL\", \"S&P500/Information Technology/CTSH\", \"S&P500/Information Technology/CTXS\", \"S&P500/Consumer Staples/CVS\", \"S&P500/Energy/CVX\", \"S&P500/Energy/CXO\", \"S&P500/Utilities/D\", \"S&P500/Industrials/DAL\", \"S&P500/Industrials/DE\", \"S&P500/Financials/DFS\", \"S&P500/Consumer Discretionary/DG\", \"S&P500/Health Care/DGX\", \"S&P500/Consumer Discretionary/DHI\", \"S&P500/Health Care/DHR\", \"S&P500/Consumer Discretionary/DIS\", \"S&P500/Consumer Discretionary/DISCA\", \"S&P500/Consumer Discretionary/DISCK\", \"S&P500/Consumer Discretionary/DISH\", \"S&P500/Real Estate/DLR\", \"S&P500/Consumer Discretionary/DLTR\", \"S&P500/Industrials/DOV\", \"S&P500/Real Estate/DRE\", \"S&P500/Consumer Discretionary/DRI\", \"S&P500/Utilities/DTE\", \"S&P500/Utilities/DUK\", \"S&P500/Health Care/DVA\", \"S&P500/Energy/DVN\", \"S&P500/Information Technology/DXC\", \"S&P500/Information Technology/EA\", \"S&P500/Information Technology/EBAY\", \"S&P500/Materials/ECL\", \"S&P500/Utilities/ED\", \"S&P500/Industrials/EFX\", \"S&P500/Utilities/EIX\", \"S&P500/Consumer Staples/EL\", \"S&P500/Materials/EMN\", \"S&P500/Industrials/EMR\", \"S&P500/Energy/EOG\", \"S&P500/Real Estate/EQIX\", \"S&P500/Real Estate/EQR\", \"S&P500/Utilities/ES\", \"S&P500/Real Estate/ESS\", \"S&P500/Industrials/ETN\", \"S&P500/Utilities/ETR\", \"S&P500/Health Care/EW\", \"S&P500/Utilities/EXC\", \"S&P500/Industrials/EXPD\", \"S&P500/Consumer Discretionary/EXPE\", \"S&P500/Real Estate/EXR\", \"S&P500/Consumer Discretionary/F\", \"S&P500/Industrials/FAST\", \"S&P500/Information Technology/FB\", \"S&P500/Industrials/FBHS\", \"S&P500/Materials/FCX\", \"S&P500/Industrials/FDX\", \"S&P500/Utilities/FE\", \"S&P500/Information Technology/FFIV\", \"S&P500/Information Technology/FIS\", \"S&P500/Information Technology/FISV\", \"S&P500/Financials/FITB\", \"S&P500/Information Technology/FLIR\", \"S&P500/Industrials/FLS\", \"S&P500/Materials/FMC\", \"S&P500/Consumer Discretionary/FOX\", \"S&P500/Consumer Discretionary/FOXA\", \"S&P500/Real Estate/FRT\", \"S&P500/Energy/FTI\", \"S&P500/Industrials/FTV\", \"S&P500/Industrials/GD\", \"S&P500/Industrials/GE\", \"S&P500/Health Care/GILD\", \"S&P500/Consumer Staples/GIS\", \"S&P500/Information Technology/GLW\", \"S&P500/Consumer Discretionary/GM\", \"S&P500/Information Technology/GOOG\", \"S&P500/Information Technology/GOOGL\", \"S&P500/Consumer Discretionary/GPC\", \"S&P500/Information Technology/GPN\", \"S&P500/Consumer Discretionary/GRMN\", \"S&P500/Financials/GS\", \"S&P500/Industrials/GWW\", \"S&P500/Energy/HAL\", \"S&P500/Consumer Discretionary/HAS\", \"S&P500/Financials/HBAN\", \"S&P500/Consumer Discretionary/HBI\", \"S&P500/Health Care/HCA\", \"S&P500/Consumer Discretionary/HD\", \"S&P500/Energy/HES\", \"S&P500/Financials/HIG\", \"S&P500/Industrials/HII\", \"S&P500/Consumer Discretionary/HLT\", \"S&P500/Health Care/HOLX\", \"S&P500/Industrials/HON\", \"S&P500/Information Technology/HPE\", \"S&P500/Information Technology/HPQ\", \"S&P500/Financials/HRB\", \"S&P500/Consumer Staples/HRL\", \"S&P500/Health Care/HSIC\", \"S&P500/Real Estate/HST\", \"S&P500/Consumer Staples/HSY\", \"S&P500/Health Care/HUM\", \"S&P500/Information Technology/IBM\", \"S&P500/Financials/ICE\", \"S&P500/Health Care/IDXX\", \"S&P500/Materials/IFF\", \"S&P500/Health Care/ILMN\", \"S&P500/Health Care/INCY\", \"S&P500/Industrials/INFO\", \"S&P500/Information Technology/INTC\", \"S&P500/Information Technology/INTU\", \"S&P500/Materials/IP\", \"S&P500/Consumer Discretionary/IPG\", \"S&P500/Health Care/IQV\", \"S&P500/Industrials/IR\", \"S&P500/Real Estate/IRM\", \"S&P500/Health Care/ISRG\", \"S&P500/Information Technology/IT\", \"S&P500/Industrials/ITW\", \"S&P500/Financials/IVZ\", \"S&P500/Industrials/JBHT\", \"S&P500/Industrials/JCI\", \"S&P500/Health Care/JNJ\", \"S&P500/Information Technology/JNPR\", \"S&P500/Financials/JPM\", \"S&P500/Consumer Staples/K\", \"S&P500/Financials/KEY\", \"S&P500/Consumer Staples/KHC\", \"S&P500/Real Estate/KIM\", \"S&P500/Information Technology/KLAC\", \"S&P500/Consumer Staples/KMB\", \"S&P500/Energy/KMI\", \"S&P500/Consumer Discretionary/KMX\", \"S&P500/Consumer Staples/KO\", \"S&P500/Consumer Staples/KR\", \"S&P500/Consumer Discretionary/KSS\", \"S&P500/Industrials/KSU\", \"S&P500/Financials/L\", \"S&P500/Consumer Discretionary/LB\", \"S&P500/Consumer Discretionary/LEG\", \"S&P500/Consumer Discretionary/LEN\", \"S&P500/Health Care/LH\", \"S&P500/Consumer Discretionary/LKQ\", \"S&P500/Health Care/LLY\", \"S&P500/Industrials/LMT\", \"S&P500/Financials/LNC\", \"S&P500/Utilities/LNT\", \"S&P500/Consumer Discretionary/LOW\", \"S&P500/Information Technology/LRCX\", \"S&P500/Industrials/LUV\", \"S&P500/Materials/LYB\", \"S&P500/Information Technology/MA\", \"S&P500/Real Estate/MAA\", \"S&P500/Consumer Discretionary/MAR\", \"S&P500/Industrials/MAS\", \"S&P500/Consumer Discretionary/MCD\", \"S&P500/Information Technology/MCHP\", \"S&P500/Health Care/MCK\", \"S&P500/Financials/MCO\", \"S&P500/Consumer Staples/MDLZ\", \"S&P500/Health Care/MDT\", \"S&P500/Financials/MET\", \"S&P500/Consumer Discretionary/MGM\", \"S&P500/Consumer Discretionary/MHK\", \"S&P500/Consumer Staples/MKC\", \"S&P500/Materials/MLM\", \"S&P500/Financials/MMC\", \"S&P500/Industrials/MMM\", \"S&P500/Consumer Staples/MNST\", \"S&P500/Consumer Staples/MO\", \"S&P500/Materials/MOS\", \"S&P500/Energy/MPC\", \"S&P500/Health Care/MRK\", \"S&P500/Financials/MS\", \"S&P500/Information Technology/MSFT\", \"S&P500/Information Technology/MSI\", \"S&P500/Financials/MTB\", \"S&P500/Health Care/MTD\", \"S&P500/Information Technology/MU\", \"S&P500/Health Care/MYL\", \"S&P500/Energy/NBL\", \"S&P500/Consumer Discretionary/NCLH\", \"S&P500/Financials/NDAQ\", \"S&P500/Utilities/NEE\", \"S&P500/Materials/NEM\", \"S&P500/Information Technology/NFLX\", \"S&P500/Utilities/NI\", \"S&P500/Consumer Discretionary/NKE\", \"S&P500/Industrials/NLSN\", \"S&P500/Industrials/NOC\", \"S&P500/Energy/NOV\", \"S&P500/Utilities/NRG\", \"S&P500/Industrials/NSC\", \"S&P500/Information Technology/NTAP\", \"S&P500/Financials/NTRS\", \"S&P500/Materials/NUE\", \"S&P500/Information Technology/NVDA\", \"S&P500/Consumer Discretionary/NWL\", \"S&P500/Consumer Discretionary/NWS\", \"S&P500/Consumer Discretionary/NWSA\", \"S&P500/Real Estate/O\", \"S&P500/Consumer Discretionary/OMC\", \"S&P500/Information Technology/ORCL\", \"S&P500/Consumer Discretionary/ORLY\", \"S&P500/Information Technology/PAYX\", \"S&P500/Financials/PBCT\", \"S&P500/Industrials/PCAR\", \"S&P500/Utilities/PEG\", \"S&P500/Consumer Staples/PEP\", \"S&P500/Health Care/PFE\", \"S&P500/Financials/PFG\", \"S&P500/Consumer Staples/PG\", \"S&P500/Financials/PGR\", \"S&P500/Industrials/PH\", \"S&P500/Consumer Discretionary/PHM\", \"S&P500/Materials/PKG\", \"S&P500/Health Care/PKI\", \"S&P500/Real Estate/PLD\", \"S&P500/Consumer Staples/PM\", \"S&P500/Financials/PNC\", \"S&P500/Industrials/PNR\", \"S&P500/Utilities/PNW\", \"S&P500/Materials/PPG\", \"S&P500/Utilities/PPL\", \"S&P500/Health Care/PRGO\", \"S&P500/Financials/PRU\", \"S&P500/Real Estate/PSA\", \"S&P500/Energy/PSX\", \"S&P500/Consumer Discretionary/PVH\", \"S&P500/Industrials/PWR\", \"S&P500/Energy/PXD\", \"S&P500/Information Technology/PYPL\", \"S&P500/Information Technology/QCOM\", \"S&P500/Information Technology/QRVO\", \"S&P500/Consumer Discretionary/RCL\", \"S&P500/Financials/RE\", \"S&P500/Real Estate/REG\", \"S&P500/Health Care/REGN\", \"S&P500/Financials/RF\", \"S&P500/Industrials/RHI\", \"S&P500/Financials/RJF\", \"S&P500/Consumer Discretionary/RL\", \"S&P500/Health Care/RMD\", \"S&P500/Industrials/ROK\", \"S&P500/Industrials/ROP\", \"S&P500/Consumer Discretionary/ROST\", \"S&P500/Industrials/RSG\", \"S&P500/Real Estate/SBAC\", \"S&P500/Consumer Discretionary/SBUX\", \"S&P500/Financials/SCHW\", \"S&P500/Materials/SEE\", \"S&P500/Materials/SHW\", \"S&P500/Consumer Staples/SJM\", \"S&P500/Energy/SLB\", \"S&P500/Real Estate/SLG\", \"S&P500/Consumer Discretionary/SNA\", \"S&P500/Information Technology/SNPS\", \"S&P500/Utilities/SO\", \"S&P500/Real Estate/SPG\", \"S&P500/Financials/SPGI\", \"S&P500/Utilities/SRE\", \"S&P500/Financials/STT\", \"S&P500/Information Technology/STX\", \"S&P500/Consumer Staples/STZ\", \"S&P500/Consumer Discretionary/SWK\", \"S&P500/Information Technology/SWKS\", \"S&P500/Financials/SYF\", \"S&P500/Health Care/SYK\", \"S&P500/Consumer Staples/SYY\", \"S&P500/Telecommunication Services/T\", \"S&P500/Consumer Staples/TAP\", \"S&P500/Industrials/TDG\", \"S&P500/Information Technology/TEL\", \"S&P500/Consumer Discretionary/TGT\", \"S&P500/Consumer Discretionary/TIF\", \"S&P500/Consumer Discretionary/TJX\", \"S&P500/Health Care/TMO\", \"S&P500/Consumer Discretionary/TPR\", \"S&P500/Financials/TROW\", \"S&P500/Financials/TRV\", \"S&P500/Consumer Discretionary/TSCO\", \"S&P500/Consumer Staples/TSN\", \"S&P500/Information Technology/TXN\", \"S&P500/Industrials/TXT\", \"S&P500/Consumer Discretionary/UA\", \"S&P500/Consumer Discretionary/UAA\", \"S&P500/Industrials/UAL\", \"S&P500/Real Estate/UDR\", \"S&P500/Health Care/UHS\", \"S&P500/Consumer Discretionary/ULTA\", \"S&P500/Health Care/UNH\", \"S&P500/Financials/UNM\", \"S&P500/Industrials/UNP\", \"S&P500/Industrials/UPS\", \"S&P500/Industrials/URI\", \"S&P500/Financials/USB\", \"S&P500/Information Technology/V\", \"S&P500/Health Care/VAR\", \"S&P500/Consumer Discretionary/VFC\", \"S&P500/Energy/VLO\", \"S&P500/Materials/VMC\", \"S&P500/Real Estate/VNO\", \"S&P500/Industrials/VRSK\", \"S&P500/Information Technology/VRSN\", \"S&P500/Health Care/VRTX\", \"S&P500/Real Estate/VTR\", \"S&P500/Telecommunication Services/VZ\", \"S&P500/Health Care/WAT\", \"S&P500/Consumer Staples/WBA\", \"S&P500/Information Technology/WDC\", \"S&P500/Utilities/WEC\", \"S&P500/Financials/WFC\", \"S&P500/Consumer Discretionary/WHR\", \"S&P500/Financials/WLTW\", \"S&P500/Industrials/WM\", \"S&P500/Energy/WMB\", \"S&P500/Consumer Staples/WMT\", \"S&P500/Materials/WRK\", \"S&P500/Information Technology/WU\", \"S&P500/Real Estate/WY\", \"S&P500/Consumer Discretionary/WYNN\", \"S&P500/Utilities/XEL\", \"S&P500/Information Technology/XLNX\", \"S&P500/Energy/XOM\", \"S&P500/Health Care/XRAY\", \"S&P500/Information Technology/XRX\", \"S&P500/Industrials/XYL\", \"S&P500/Consumer Discretionary/YUM\", \"S&P500/Health Care/ZBH\", \"S&P500/Financials/ZION\", \"S&P500/Health Care/ZTS\", \"S&P500/Consumer Discretionary\", \"S&P500/Consumer Staples\", \"S&P500/Energy\", \"S&P500/Financials\", \"S&P500/Health Care\", \"S&P500/Industrials\", \"S&P500/Information Technology\", \"S&P500/Materials\", \"S&P500/Real Estate\", \"S&P500/Telecommunication Services\", \"S&P500/Utilities\", \"S&P500\"], \"labels\": [\"A\", \"AAL\", \"AAP\", \"AAPL\", \"ABBV\", \"ABC\", \"ABT\", \"ACN\", \"ADBE\", \"ADI\", \"ADM\", \"ADP\", \"ADSK\", \"AEE\", \"AEP\", \"AES\", \"AFL\", \"AIG\", \"AIV\", \"AIZ\", \"AJG\", \"AKAM\", \"ALB\", \"ALGN\", \"ALK\", \"ALL\", \"ALLE\", \"ALXN\", \"AMAT\", \"AMD\", \"AME\", \"AMGN\", \"AMP\", \"AMT\", \"AMZN\", \"ANSS\", \"ANTM\", \"AON\", \"AOS\", \"APD\", \"APH\", \"APTV\", \"ARE\", \"ATVI\", \"AVB\", \"AVGO\", \"AVY\", \"AWK\", \"AXP\", \"AZO\", \"BA\", \"BAC\", \"BAX\", \"BBY\", \"BDX\", \"BEN\", \"BIIB\", \"BK\", \"BLK\", \"BLL\", \"BMY\", \"BSX\", \"BWA\", \"BXP\", \"C\", \"CAG\", \"CAH\", \"CAT\", \"CB\", \"CBOE\", \"CCI\", \"CCL\", \"CDNS\", \"CERN\", \"CF\", \"CFG\", \"CHD\", \"CHRW\", \"CHTR\", \"CI\", \"CINF\", \"CL\", \"CLX\", \"CMA\", \"CMCSA\", \"CME\", \"CMG\", \"CMI\", \"CMS\", \"CNC\", \"CNP\", \"COF\", \"COG\", \"COO\", \"COP\", \"COST\", \"COTY\", \"CPB\", \"CRM\", \"CSCO\", \"CSX\", \"CTAS\", \"CTL\", \"CTSH\", \"CTXS\", \"CVS\", \"CVX\", \"CXO\", \"D\", \"DAL\", \"DE\", \"DFS\", \"DG\", \"DGX\", \"DHI\", \"DHR\", \"DIS\", \"DISCA\", \"DISCK\", \"DISH\", \"DLR\", \"DLTR\", \"DOV\", \"DRE\", \"DRI\", \"DTE\", \"DUK\", \"DVA\", \"DVN\", \"DXC\", \"EA\", \"EBAY\", \"ECL\", \"ED\", \"EFX\", \"EIX\", \"EL\", \"EMN\", \"EMR\", \"EOG\", \"EQIX\", \"EQR\", \"ES\", \"ESS\", \"ETN\", \"ETR\", \"EW\", \"EXC\", \"EXPD\", \"EXPE\", \"EXR\", \"F\", \"FAST\", \"FB\", \"FBHS\", \"FCX\", \"FDX\", \"FE\", \"FFIV\", \"FIS\", \"FISV\", \"FITB\", \"FLIR\", \"FLS\", \"FMC\", \"FOX\", \"FOXA\", \"FRT\", \"FTI\", \"FTV\", \"GD\", \"GE\", \"GILD\", \"GIS\", \"GLW\", \"GM\", \"GOOG\", \"GOOGL\", \"GPC\", \"GPN\", \"GRMN\", \"GS\", \"GWW\", \"HAL\", \"HAS\", \"HBAN\", \"HBI\", \"HCA\", \"HD\", \"HES\", \"HIG\", \"HII\", \"HLT\", \"HOLX\", \"HON\", \"HPE\", \"HPQ\", \"HRB\", \"HRL\", \"HSIC\", \"HST\", \"HSY\", \"HUM\", \"IBM\", \"ICE\", \"IDXX\", \"IFF\", \"ILMN\", \"INCY\", \"INFO\", \"INTC\", \"INTU\", \"IP\", \"IPG\", \"IQV\", \"IR\", \"IRM\", \"ISRG\", \"IT\", \"ITW\", \"IVZ\", \"JBHT\", \"JCI\", \"JNJ\", \"JNPR\", \"JPM\", \"K\", \"KEY\", \"KHC\", \"KIM\", \"KLAC\", \"KMB\", \"KMI\", \"KMX\", \"KO\", \"KR\", \"KSS\", \"KSU\", \"L\", \"LB\", \"LEG\", \"LEN\", \"LH\", \"LKQ\", \"LLY\", \"LMT\", \"LNC\", \"LNT\", \"LOW\", \"LRCX\", \"LUV\", \"LYB\", \"MA\", \"MAA\", \"MAR\", \"MAS\", \"MCD\", \"MCHP\", \"MCK\", \"MCO\", \"MDLZ\", \"MDT\", \"MET\", \"MGM\", \"MHK\", \"MKC\", \"MLM\", \"MMC\", \"MMM\", \"MNST\", \"MO\", \"MOS\", \"MPC\", \"MRK\", \"MS\", \"MSFT\", \"MSI\", \"MTB\", \"MTD\", \"MU\", \"MYL\", \"NBL\", \"NCLH\", \"NDAQ\", \"NEE\", \"NEM\", \"NFLX\", \"NI\", \"NKE\", \"NLSN\", \"NOC\", \"NOV\", \"NRG\", \"NSC\", \"NTAP\", \"NTRS\", \"NUE\", \"NVDA\", \"NWL\", \"NWS\", \"NWSA\", \"O\", \"OMC\", \"ORCL\", \"ORLY\", \"PAYX\", \"PBCT\", \"PCAR\", \"PEG\", \"PEP\", \"PFE\", \"PFG\", \"PG\", \"PGR\", \"PH\", \"PHM\", \"PKG\", \"PKI\", \"PLD\", \"PM\", \"PNC\", \"PNR\", \"PNW\", \"PPG\", \"PPL\", \"PRGO\", \"PRU\", \"PSA\", \"PSX\", \"PVH\", \"PWR\", \"PXD\", \"PYPL\", \"QCOM\", \"QRVO\", \"RCL\", \"RE\", \"REG\", \"REGN\", \"RF\", \"RHI\", \"RJF\", \"RL\", \"RMD\", \"ROK\", \"ROP\", \"ROST\", \"RSG\", \"SBAC\", \"SBUX\", \"SCHW\", \"SEE\", \"SHW\", \"SJM\", \"SLB\", \"SLG\", \"SNA\", \"SNPS\", \"SO\", \"SPG\", \"SPGI\", \"SRE\", \"STT\", \"STX\", \"STZ\", \"SWK\", \"SWKS\", \"SYF\", \"SYK\", \"SYY\", \"T\", \"TAP\", \"TDG\", \"TEL\", \"TGT\", \"TIF\", \"TJX\", \"TMO\", \"TPR\", \"TROW\", \"TRV\", \"TSCO\", \"TSN\", \"TXN\", \"TXT\", \"UA\", \"UAA\", \"UAL\", \"UDR\", \"UHS\", \"ULTA\", \"UNH\", \"UNM\", \"UNP\", \"UPS\", \"URI\", \"USB\", \"V\", \"VAR\", \"VFC\", \"VLO\", \"VMC\", \"VNO\", \"VRSK\", \"VRSN\", \"VRTX\", \"VTR\", \"VZ\", \"WAT\", \"WBA\", \"WDC\", \"WEC\", \"WFC\", \"WHR\", \"WLTW\", \"WM\", \"WMB\", \"WMT\", \"WRK\", \"WU\", \"WY\", \"WYNN\", \"XEL\", \"XLNX\", \"XOM\", \"XRAY\", \"XRX\", \"XYL\", \"YUM\", \"ZBH\", \"ZION\", \"ZTS\", \"Consumer Discretionary\", \"Consumer Staples\", \"Energy\", \"Financials\", \"Health Care\", \"Industrials\", \"Information Technology\", \"Materials\", \"Real Estate\", \"Telecommunication Services\", \"Utilities\", \"S&P500\"], \"marker\": {\"coloraxis\": \"coloraxis\", \"colors\": [-0.005211944444846901, 0.005146316851280463, 0.011968566534969001, 0.005721207777088747, -0.011370893938062444, 0.0025971937237106875, -0.002372214723871919, 0.005272199508263387, 0.014046171434700392, 0.004856033766381212, 0.004022635445282359, 0.005636630473284431, 0.012320552976079856, 0.003960345913192124, 0.003949750462976146, -0.0006535824688885981, 0.0016672729595150486, -0.011290153144923215, -0.02431644524435351, 0.0009328985099824269, -0.006870038787552745, 0.014138768947978423, -0.023835934103786035, 0.0016831583882636109, -0.003643770347538094, 0.00760233594907773, 0.002494049639971337, 0.009950924944506312, 0.014560545778284356, 0.01940068129234403, -0.019078068960887203, 0.01312129489586959, -0.007470290940363182, -0.0038263277598695206, 0.019482404978986515, 0.013988299224205225, -0.004564176217167694, -0.015442096877633881, 0.01304744011342674, -0.010212143410935905, -0.0014609973322396606, 0.0013056062916759498, -0.012467031090422463, 0.019359773463067796, -0.019693595797618094, 0.009483591955420617, -0.0116649336393489, 0.007718224871634394, 0.0012004715043340687, 0.013673830991563414, 0.008771546681345586, -0.017252009632601345, -0.007861734439547486, 0.0023032043139229745, -0.006443553574806066, -0.005208710836239727, 0.010976285251000676, -0.0038263289566380426, -0.00185005677303454, -0.006256355222867376, -0.004723203491505887, -0.011609804743006703, 0.006533944677330572, -0.011758013641352427, -0.014494205823317674, 0.021075781492984478, 0.005660985266729233, -0.01005152858693978, -0.014630640149051377, -0.004186843466014379, -0.0028177378515077687, -0.02007882668612668, 0.014678239162095529, 0.0007976719115372684, -0.008692078999113726, -0.03238322668258034, -0.007955116411373761, 0.00614884208453846, -0.0009546343850366932, 0.001058337992789738, -0.0037652756481916954, 0.00230998781569137, 0.016191180385520483, -0.03839986235413864, 0.01183236173731168, -0.014052599571629213, 0.006379417787741427, -0.012730418554944277, 0.006885414858035954, 0.0059810174249736265, -0.02713147212375979, -0.018322391834393464, 0.027165001712310278, 0.0024197398754250304, -0.038357302497295756, 0.011477776333029741, 0.014012325608763202, 0.0018117760775266853, 0.004054902507402308, 0.016214058199933302, -0.012325226772562032, -0.02634409349027191, -0.0035226686402254105, -0.012624390742221523, 0.035769992225420856, 0.0023672682215463573, -0.015302922743007145, -0.026566594029823167, -0.013314158256335444, 0.004115487088473426, 9.664664147547687e-05, -0.005576736180525364, 0.011482655647318393, 0.0022719931803685057, -0.024398452513502887, -4.099481359057324e-05, 0.006209784440618377, 0.0009871167083228066, -0.006190276193262106, -0.01949171430778312, -0.004943581670782496, 0.02705939001097488, -0.001440242232707276, -5.2348968509810614e-05, 0.0013531746899852208, -0.012368130145702216, -0.0045192771169053365, 0.01500195787747678, -0.04047937246501265, -0.0180832202994249, 0.01929854568673626, -0.0047585359660166715, -0.005398415133827148, -0.003971774933591539, -0.003159623880077383, -0.008509337198586247, -0.006204115653058076, -0.017427212196990192, -0.031035360920482296, -0.04040250856652219, 0.006076612760791995, -0.008254964025256271, -0.00793711853297717, -0.015371717167891494, -0.01267592588905073, -0.0026691850948117337, -0.006672618467486239, 0.002546239665763615, 0.0046728889915320935, -0.010138051676533269, -0.017028131686928363, -0.022876709173270632, -0.0011765165884513257, 0.0014556290277680155, -0.011718181587976726, -0.006770270441361845, 0.0007934566284133259, 0.001799617170908583, -0.00016460199026139757, 0.007523192081407915, 0.0010091901522352746, -0.02391965972170854, 0.02606490896695029, -0.02975968459035388, -0.0036094809290794184, 0.009749274813400101, 0.005992875915388915, -0.020055081217117337, -0.021380588742550454, -0.016100201624195423, -0.010560972773461361, -0.019622962971670457, 0.010338335549579542, -0.0017398360622333663, -0.0059483483233222405, -0.01940713768491655, 0.0026913649541678163, 0.002831401211770181, -0.006679291235580846, 0.0009841409352427104, -0.0031009608223211064, 0.0013612162920702854, -0.006302337883429149, -0.04706940729863944, 0.02304156761706902, -0.022816977205098975, -0.007195381559930038, 0.0034897870119070173, 0.010827357272847057, -0.04816605870806598, -0.0034630604649506223, 0.0032868803998141994, 0.0003785646019073803, -0.019933991414622945, -0.01132164673949048, -0.010555292433670259, -0.003466003438362531, 0.004766809691879001, 0.008129621013979474, -0.005173678360449004, 0.007097297507087319, 0.0014963929324440777, 0.0001642544674747643, 0.009333061790035782, -0.006828871068624925, 0.003431716247592465, -0.006721615834976336, 0.016311887783871354, 0.006089167330283835, -0.013410589633505625, 0.02921890594477179, 0.006419562906692098, -0.014169395019772494, 0.010025819508912, -0.008897690940054123, -0.013823721027156698, -0.005809820916215805, -0.006916568674655936, 0.003096575609895901, -0.0007323925570659076, -0.023058177737641333, -0.006105815100516674, -0.010265431559030425, 0.002195808669378473, 0.003680015354494763, -0.01170215895156367, 0.004072078443906747, -0.02446588686332279, 0.002154506258865259, -0.03293056541309831, 0.02948261218843561, 0.008152054369699074, -0.03183224522324732, -0.01241379007502522, -0.001199416829058241, 0.010374842311749328, -0.047110865183773075, -0.0197302726478458, 0.004232775594714922, -0.03536595462918194, -0.009235549182613179, -0.037544597114206595, 0.0014087679022756537, -0.02690816199168261, 0.009439501651635712, -0.009388131842584491, 0.004085785776588883, 0.004569041699351878, -0.00913971972907641, 0.015408561212144142, 0.010441857580937911, -0.023675445366839652, 0.0039440335579645595, -0.010657467937122139, -0.010184733466565047, -0.01335095070469442, -0.009279655263833226, 0.023712270861135958, 0.0031616805252892588, -0.00296788060072629, 0.006595719449469191, -0.003589994217966392, -0.013984346557428324, -0.014993353594555765, 0.01741276896312713, -0.007624898675210386, -0.01984931559677483, -0.0039768186034041175, -0.0014367784175169662, 0.003009341799971624, -0.0061432898309723765, -0.012362865272747806, -0.029999831516122222, 0.003181155356062412, -0.005949437302202008, 0.014079913775493105, -0.00540143048284831, -0.02011971694261844, -0.006273016296312799, 0.012994654255559093, 0.019319568625946457, -0.02486028505486566, -0.00723675969639415, -0.0013859218107946686, 0.003440942164727904, 0.011571989916356714, 0.021827105328401344, 0.005301639328776007, -0.005204270629748287, -0.021232080112079922, -0.0011901173389977802, -0.0230855041346655, -0.016324016071984002, -0.011086256547186714, 0.005744794758890263, -0.0009270297945173961, -0.014475209384937078, 0.016505133531003607, 0.006942228824096058, -0.0032047963059406363, -0.009717201704225858, -0.023597456624024158, 0.001773164898074631, 0.012161178006862733, 0.012124694918575775, -0.002602194966189144, -0.00048757850988621025, -0.00042657659893862343, -0.0015911640979352109, 0.00944620114219623, 0.008146484147308676, -0.020251277805570133, 0.0029940294974010965, 0.003933568573636418, -0.007881089623740971, -0.03208002738278349, -0.002818124206272134, -0.0120329546899741, 0.002750006546750386, 0.0011355560502218597, -0.017913485156501235, -0.01443953737103722, -0.0020108650655840093, -0.013768245617619445, -0.009757351780341088, 0.0187964441543274, -0.01901931192244597, -0.005234360091881988, -0.00867343603403108, -0.017457106789277477, -0.0219483543574864, -0.043827293506679695, 0.0010825507949443177, 0.011001484646967808, 0.005795453434319594, -0.001391595661048713, -0.017537793875044137, -0.006978265068693423, 0.01885642819880629, -0.023228165294318707, -0.008718019641592249, -0.008318083562560157, -0.009708907431549304, 0.020634724524799707, -0.013050491714356554, -0.015522851875552374, -0.0030903662706156377, -0.010359240255954156, -0.0015030114373353284, 0.004116013979666568, -0.01104421493669352, -0.010352757313619378, 9.1706665877836e-05, 0.008144558168700662, -0.04394682402970106, -0.024855605407227494, -0.002348781745213443, 0.0017035966500550783, -0.0051256268765335995, -0.014665506912407944, -0.0038681085021168332, -0.016243655785616273, -0.014283023234911986, 0.0035003608296690527, -0.018910561725526825, -0.013241068446344425, 0.01340427710072182, -0.023515501483424475, -0.006937355714453126, 0.0039413272836162595, -0.0047819488446779485, -0.006209883105524621, -0.015375226889448472, 0.001828845542070831, 0.008497711098673415, -0.008860878815813985, 0.0004174320942352367, -0.007202762885780295, -0.04828940525007715, -0.0060624228765978035, -0.0029864074678875433, -0.0021639572658213946, 0.019242405742436793, 0.011016626122169785, -0.004444182664528521, -0.016264252359868055, -0.015550714337290984, -0.0029850004191367277, -0.012654322633433777, 0.0033511618575198508, -0.0028379227702359684, 0.004129111703455036, -0.010589347569006789, -0.01391231350295036, 0.0021269144750821595, 0.0065829786458879505, -0.020473956048845648, -0.0018418837533784888, -0.01268207769855442, -0.01176635834565386, -0.009163805209150092, -0.0067819996734434645, -0.008980816172689235, -0.0015079104677364942, 0.005344507525759112, 0.01469448885212424, -0.0045997584717260695, 0.007629492017963376, 0.0023448517684944085, 0.013593261042162026, 0.020555458651332282, 0.0030359440975371438, -0.007094343462732031, -0.03088312940650026, 0.00015933889095972117, -0.011309607785439364, -0.012663840035949534, 0.02127575067156738, 0.009018830219523847, 6.315524674316549e-05, -0.01640729118118777, 0.007420185868078578, 0.006318139386562491, 0.010253854498463177, -0.009476366380592365, -0.006798807046316282, -0.015514751471628483, -0.0015528394995825737, -0.0049114501085677385, -0.012867204325537788, -0.02075611510579531, -0.01256373658423224, 0.003521204420418416, 0.005719012949767131, -0.022086897475122217, -0.010657175920663503, 0.0015152601909513225, -0.006402095050403783, 0.0074087890498917485, -0.009221511024211728, -0.00792355419240285, 0.000969585125463593, -0.0032122956448452345, -0.00023398907171855293]}, \"name\": \"\", \"parents\": [\"S&P500/Health Care\", \"S&P500/Industrials\", \"S&P500/Consumer Discretionary\", \"S&P500/Information Technology\", \"S&P500/Health Care\", \"S&P500/Health Care\", \"S&P500/Health Care\", \"S&P500/Information Technology\", \"S&P500/Information Technology\", \"S&P500/Information Technology\", \"S&P500/Consumer Staples\", \"S&P500/Information Technology\", \"S&P500/Information Technology\", \"S&P500/Utilities\", \"S&P500/Utilities\", \"S&P500/Utilities\", \"S&P500/Financials\", \"S&P500/Financials\", \"S&P500/Real Estate\", \"S&P500/Financials\", \"S&P500/Financials\", \"S&P500/Information Technology\", \"S&P500/Materials\", \"S&P500/Health Care\", \"S&P500/Industrials\", \"S&P500/Financials\", \"S&P500/Industrials\", \"S&P500/Health Care\", \"S&P500/Information Technology\", \"S&P500/Information Technology\", \"S&P500/Industrials\", \"S&P500/Health Care\", \"S&P500/Financials\", \"S&P500/Real Estate\", \"S&P500/Consumer Discretionary\", \"S&P500/Information Technology\", \"S&P500/Health Care\", \"S&P500/Financials\", \"S&P500/Industrials\", \"S&P500/Materials\", \"S&P500/Information Technology\", \"S&P500/Consumer Discretionary\", \"S&P500/Real Estate\", \"S&P500/Information Technology\", \"S&P500/Real Estate\", \"S&P500/Information Technology\", \"S&P500/Materials\", \"S&P500/Utilities\", \"S&P500/Financials\", \"S&P500/Consumer Discretionary\", \"S&P500/Industrials\", \"S&P500/Financials\", \"S&P500/Health Care\", \"S&P500/Consumer Discretionary\", \"S&P500/Health Care\", \"S&P500/Financials\", \"S&P500/Health Care\", \"S&P500/Financials\", \"S&P500/Financials\", \"S&P500/Materials\", \"S&P500/Health Care\", \"S&P500/Health Care\", \"S&P500/Consumer Discretionary\", \"S&P500/Real Estate\", \"S&P500/Financials\", \"S&P500/Consumer Staples\", \"S&P500/Health Care\", \"S&P500/Industrials\", \"S&P500/Financials\", \"S&P500/Financials\", \"S&P500/Real Estate\", \"S&P500/Consumer Discretionary\", \"S&P500/Information Technology\", \"S&P500/Health Care\", \"S&P500/Materials\", \"S&P500/Financials\", \"S&P500/Consumer Staples\", \"S&P500/Industrials\", \"S&P500/Consumer Discretionary\", \"S&P500/Health Care\", \"S&P500/Financials\", \"S&P500/Consumer Staples\", \"S&P500/Consumer Staples\", \"S&P500/Financials\", \"S&P500/Consumer Discretionary\", \"S&P500/Financials\", \"S&P500/Consumer Discretionary\", \"S&P500/Industrials\", \"S&P500/Utilities\", \"S&P500/Health Care\", \"S&P500/Utilities\", \"S&P500/Financials\", \"S&P500/Energy\", \"S&P500/Health Care\", \"S&P500/Energy\", \"S&P500/Consumer Staples\", \"S&P500/Consumer Staples\", \"S&P500/Consumer Staples\", \"S&P500/Information Technology\", \"S&P500/Information Technology\", \"S&P500/Industrials\", \"S&P500/Industrials\", \"S&P500/Telecommunication Services\", \"S&P500/Information Technology\", \"S&P500/Information Technology\", \"S&P500/Consumer Staples\", \"S&P500/Energy\", \"S&P500/Energy\", \"S&P500/Utilities\", \"S&P500/Industrials\", \"S&P500/Industrials\", \"S&P500/Financials\", \"S&P500/Consumer Discretionary\", \"S&P500/Health Care\", \"S&P500/Consumer Discretionary\", \"S&P500/Health Care\", \"S&P500/Consumer Discretionary\", \"S&P500/Consumer Discretionary\", \"S&P500/Consumer Discretionary\", \"S&P500/Consumer Discretionary\", \"S&P500/Real Estate\", \"S&P500/Consumer Discretionary\", \"S&P500/Industrials\", \"S&P500/Real Estate\", \"S&P500/Consumer Discretionary\", \"S&P500/Utilities\", \"S&P500/Utilities\", \"S&P500/Health Care\", \"S&P500/Energy\", \"S&P500/Information Technology\", \"S&P500/Information Technology\", \"S&P500/Information Technology\", \"S&P500/Materials\", \"S&P500/Utilities\", \"S&P500/Industrials\", \"S&P500/Utilities\", \"S&P500/Consumer Staples\", \"S&P500/Materials\", \"S&P500/Industrials\", \"S&P500/Energy\", \"S&P500/Real Estate\", \"S&P500/Real Estate\", \"S&P500/Utilities\", \"S&P500/Real Estate\", \"S&P500/Industrials\", \"S&P500/Utilities\", \"S&P500/Health Care\", \"S&P500/Utilities\", \"S&P500/Industrials\", \"S&P500/Consumer Discretionary\", \"S&P500/Real Estate\", \"S&P500/Consumer Discretionary\", \"S&P500/Industrials\", \"S&P500/Information Technology\", \"S&P500/Industrials\", \"S&P500/Materials\", \"S&P500/Industrials\", \"S&P500/Utilities\", \"S&P500/Information Technology\", \"S&P500/Information Technology\", \"S&P500/Information Technology\", \"S&P500/Financials\", \"S&P500/Information Technology\", \"S&P500/Industrials\", \"S&P500/Materials\", \"S&P500/Consumer Discretionary\", \"S&P500/Consumer Discretionary\", \"S&P500/Real Estate\", \"S&P500/Energy\", \"S&P500/Industrials\", \"S&P500/Industrials\", \"S&P500/Industrials\", \"S&P500/Health Care\", \"S&P500/Consumer Staples\", \"S&P500/Information Technology\", \"S&P500/Consumer Discretionary\", \"S&P500/Information Technology\", \"S&P500/Information Technology\", \"S&P500/Consumer Discretionary\", \"S&P500/Information Technology\", \"S&P500/Consumer Discretionary\", \"S&P500/Financials\", \"S&P500/Industrials\", \"S&P500/Energy\", \"S&P500/Consumer Discretionary\", \"S&P500/Financials\", \"S&P500/Consumer Discretionary\", \"S&P500/Health Care\", \"S&P500/Consumer Discretionary\", \"S&P500/Energy\", \"S&P500/Financials\", \"S&P500/Industrials\", \"S&P500/Consumer Discretionary\", \"S&P500/Health Care\", \"S&P500/Industrials\", \"S&P500/Information Technology\", \"S&P500/Information Technology\", \"S&P500/Financials\", \"S&P500/Consumer Staples\", \"S&P500/Health Care\", \"S&P500/Real Estate\", \"S&P500/Consumer Staples\", \"S&P500/Health Care\", \"S&P500/Information Technology\", \"S&P500/Financials\", \"S&P500/Health Care\", \"S&P500/Materials\", \"S&P500/Health Care\", \"S&P500/Health Care\", \"S&P500/Industrials\", \"S&P500/Information Technology\", \"S&P500/Information Technology\", \"S&P500/Materials\", \"S&P500/Consumer Discretionary\", \"S&P500/Health Care\", \"S&P500/Industrials\", \"S&P500/Real Estate\", \"S&P500/Health Care\", \"S&P500/Information Technology\", \"S&P500/Industrials\", \"S&P500/Financials\", \"S&P500/Industrials\", \"S&P500/Industrials\", \"S&P500/Health Care\", \"S&P500/Information Technology\", \"S&P500/Financials\", \"S&P500/Consumer Staples\", \"S&P500/Financials\", \"S&P500/Consumer Staples\", \"S&P500/Real Estate\", \"S&P500/Information Technology\", \"S&P500/Consumer Staples\", \"S&P500/Energy\", \"S&P500/Consumer Discretionary\", \"S&P500/Consumer Staples\", \"S&P500/Consumer Staples\", \"S&P500/Consumer Discretionary\", \"S&P500/Industrials\", \"S&P500/Financials\", \"S&P500/Consumer Discretionary\", \"S&P500/Consumer Discretionary\", \"S&P500/Consumer Discretionary\", \"S&P500/Health Care\", \"S&P500/Consumer Discretionary\", \"S&P500/Health Care\", \"S&P500/Industrials\", \"S&P500/Financials\", \"S&P500/Utilities\", \"S&P500/Consumer Discretionary\", \"S&P500/Information Technology\", \"S&P500/Industrials\", \"S&P500/Materials\", \"S&P500/Information Technology\", \"S&P500/Real Estate\", \"S&P500/Consumer Discretionary\", \"S&P500/Industrials\", \"S&P500/Consumer Discretionary\", \"S&P500/Information Technology\", \"S&P500/Health Care\", \"S&P500/Financials\", \"S&P500/Consumer Staples\", \"S&P500/Health Care\", \"S&P500/Financials\", \"S&P500/Consumer Discretionary\", \"S&P500/Consumer Discretionary\", \"S&P500/Consumer Staples\", \"S&P500/Materials\", \"S&P500/Financials\", \"S&P500/Industrials\", \"S&P500/Consumer Staples\", \"S&P500/Consumer Staples\", \"S&P500/Materials\", \"S&P500/Energy\", \"S&P500/Health Care\", \"S&P500/Financials\", \"S&P500/Information Technology\", \"S&P500/Information Technology\", \"S&P500/Financials\", \"S&P500/Health Care\", \"S&P500/Information Technology\", \"S&P500/Health Care\", \"S&P500/Energy\", \"S&P500/Consumer Discretionary\", \"S&P500/Financials\", \"S&P500/Utilities\", \"S&P500/Materials\", \"S&P500/Information Technology\", \"S&P500/Utilities\", \"S&P500/Consumer Discretionary\", \"S&P500/Industrials\", \"S&P500/Industrials\", \"S&P500/Energy\", \"S&P500/Utilities\", \"S&P500/Industrials\", \"S&P500/Information Technology\", \"S&P500/Financials\", \"S&P500/Materials\", \"S&P500/Information Technology\", \"S&P500/Consumer Discretionary\", \"S&P500/Consumer Discretionary\", \"S&P500/Consumer Discretionary\", \"S&P500/Real Estate\", \"S&P500/Consumer Discretionary\", \"S&P500/Information Technology\", \"S&P500/Consumer Discretionary\", \"S&P500/Information Technology\", \"S&P500/Financials\", \"S&P500/Industrials\", \"S&P500/Utilities\", \"S&P500/Consumer Staples\", \"S&P500/Health Care\", \"S&P500/Financials\", \"S&P500/Consumer Staples\", \"S&P500/Financials\", \"S&P500/Industrials\", \"S&P500/Consumer Discretionary\", \"S&P500/Materials\", \"S&P500/Health Care\", \"S&P500/Real Estate\", \"S&P500/Consumer Staples\", \"S&P500/Financials\", \"S&P500/Industrials\", \"S&P500/Utilities\", \"S&P500/Materials\", \"S&P500/Utilities\", \"S&P500/Health Care\", \"S&P500/Financials\", \"S&P500/Real Estate\", \"S&P500/Energy\", \"S&P500/Consumer Discretionary\", \"S&P500/Industrials\", \"S&P500/Energy\", \"S&P500/Information Technology\", \"S&P500/Information Technology\", \"S&P500/Information Technology\", \"S&P500/Consumer Discretionary\", \"S&P500/Financials\", \"S&P500/Real Estate\", \"S&P500/Health Care\", \"S&P500/Financials\", \"S&P500/Industrials\", \"S&P500/Financials\", \"S&P500/Consumer Discretionary\", \"S&P500/Health Care\", \"S&P500/Industrials\", \"S&P500/Industrials\", \"S&P500/Consumer Discretionary\", \"S&P500/Industrials\", \"S&P500/Real Estate\", \"S&P500/Consumer Discretionary\", \"S&P500/Financials\", \"S&P500/Materials\", \"S&P500/Materials\", \"S&P500/Consumer Staples\", \"S&P500/Energy\", \"S&P500/Real Estate\", \"S&P500/Consumer Discretionary\", \"S&P500/Information Technology\", \"S&P500/Utilities\", \"S&P500/Real Estate\", \"S&P500/Financials\", \"S&P500/Utilities\", \"S&P500/Financials\", \"S&P500/Information Technology\", \"S&P500/Consumer Staples\", \"S&P500/Consumer Discretionary\", \"S&P500/Information Technology\", \"S&P500/Financials\", \"S&P500/Health Care\", \"S&P500/Consumer Staples\", \"S&P500/Telecommunication Services\", \"S&P500/Consumer Staples\", \"S&P500/Industrials\", \"S&P500/Information Technology\", \"S&P500/Consumer Discretionary\", \"S&P500/Consumer Discretionary\", \"S&P500/Consumer Discretionary\", \"S&P500/Health Care\", \"S&P500/Consumer Discretionary\", \"S&P500/Financials\", \"S&P500/Financials\", \"S&P500/Consumer Discretionary\", \"S&P500/Consumer Staples\", \"S&P500/Information Technology\", \"S&P500/Industrials\", \"S&P500/Consumer Discretionary\", \"S&P500/Consumer Discretionary\", \"S&P500/Industrials\", \"S&P500/Real Estate\", \"S&P500/Health Care\", \"S&P500/Consumer Discretionary\", \"S&P500/Health Care\", \"S&P500/Financials\", \"S&P500/Industrials\", \"S&P500/Industrials\", \"S&P500/Industrials\", \"S&P500/Financials\", \"S&P500/Information Technology\", \"S&P500/Health Care\", \"S&P500/Consumer Discretionary\", \"S&P500/Energy\", \"S&P500/Materials\", \"S&P500/Real Estate\", \"S&P500/Industrials\", \"S&P500/Information Technology\", \"S&P500/Health Care\", \"S&P500/Real Estate\", \"S&P500/Telecommunication Services\", \"S&P500/Health Care\", \"S&P500/Consumer Staples\", \"S&P500/Information Technology\", \"S&P500/Utilities\", \"S&P500/Financials\", \"S&P500/Consumer Discretionary\", \"S&P500/Financials\", \"S&P500/Industrials\", \"S&P500/Energy\", \"S&P500/Consumer Staples\", \"S&P500/Materials\", \"S&P500/Information Technology\", \"S&P500/Real Estate\", \"S&P500/Consumer Discretionary\", \"S&P500/Utilities\", \"S&P500/Information Technology\", \"S&P500/Energy\", \"S&P500/Health Care\", \"S&P500/Information Technology\", \"S&P500/Industrials\", \"S&P500/Consumer Discretionary\", \"S&P500/Health Care\", \"S&P500/Financials\", \"S&P500/Health Care\", \"S&P500\", \"S&P500\", \"S&P500\", \"S&P500\", \"S&P500\", \"S&P500\", \"S&P500\", \"S&P500\", \"S&P500\", \"S&P500\", \"S&P500\", \"\"], \"type\": \"treemap\", \"values\": [21984606918, 24594852352, 8123611867, 809508034020, 181386347059, 20587704101, 102121042306, 98765855553, 94550214268, 31811578855, 23594770663, 50337702249, 24348294504, 12905744906, 31701916517, 6920851212, 33422948000, 54360073164, 6156884142, 4653993594, 11968488290, 10906904066, 11782151266, 18788041378, 7903173734, 34759468905, 7599609494, 26172439795, 51296481503, 11191663795, 17139651923, 128133340000, 23472126000, 59213892640, 685873374731, 13155919129, 61221978627, 35123123422, 10783419933, 34638387128, 26955335395, 24906530300, 12043374429, 52518668144, 21856547430, 92791974933, 10104814319, 13906146184, 80410990000, 19922021415, 205617405233, 321478200969, 35713732553, 20831186176, 50910180308, 21759187973, 69157726427, 56083904906, 85907759858, 13767688518, 102506501960, 36142506007, 11596117445, 17799878487, 192709302000, 14379717835, 20493281175, 91822049046, 68424670566, 12998295607, 44183023189, 49180044050, 10890625200, 21101697598, 9209106695, 22008050974, 11838963451, 12932483889, 86708878113, 47680910480, 11916533018, 61616643498, 16540418002, 16274969256, 186476996883, 54423298745, 7685283970, 28669230787, 11873960824, 18012494506, 11362043297, 47637260000, 10808821635, 11297958140, 65482462410, 80439804508, 13101112504, 13467193376, 79489115000, 199425716482, 47340511707, 16676145923, 18237196861, 45119684067, 13199167493, 75323141722, 218978820159, 22021882339, 47543571860, 38393603535, 52186628646, 27433540000, 26580644874, 13578300000, 17390873686, 66351150000, 157817273295, 8763756733, 8320262123, 21032719056, 21400952517, 25151198417, 15566645713, 9035293365, 11745595320, 17808073691, 52078185682, 13685178000, 19317380000, 27408621020, 37890226992, 44216696399, 38460272282, 23335777662, 14121334618, 19447670886, 49543264457, 14226830813, 44040298425, 61164030149, 33333813618, 20925508143, 18027633617, 14383525286, 35961772000, 13116894887, 27447099863, 34734816899, 11040678071, 19722178609, 10133547517, 42414328338, 15311373377, 523423036576, 9624169008, 25853969330, 67280478816, 13706075072, 8744185796, 32308459680, 26918949723, 22437653700, 6706992926, 5427884956, 11273961835, 66135313503, 44027094922, 8077368506, 14163064455, 24916503061, 64180390701, 132249296250, 108106822109, 31098243069, 25759280346, 61536606173, 728535558140, 733823966137, 14554321748, 16920023264, 11840331607, 96978500251, 14639308205, 43356557470, 12732072001, 16766497291, 8006268615, 34449052800, 223378633329, 14016129999, 19926305632, 10628247899, 26242415796, 11181493750, 114422168609, 24800859640, 34895294088, 5381433872, 17338613096, 11452961984, 14394715334, 20867272020, 36973617235, 142433003505, 41373051167, 15422885020, 11270040447, 32295200000, 18220961259, 17969275816, 211536000000, 41233771565, 24465996443, 8277363031, 20426488713, 22785450609, 9410249279, 44866621303, 10828314389, 55994378108, 13620847614, 12945366350, 34822224800, 353062464971, 9267350000, 386613611000, 22182794875, 22589744920, 89618309338, 6180487499, 16078622033, 39449596000, 38612712234, 11827453706, 189855335601, 25471355847, 10570861198, 11037040988, 16111166935, 13862042842, 6034600480, 14615967194, 17271388000, 12469931896, 84475986228, 98102120000, 17123031000, 8670163500, 82909678852, 27967534829, 34351211637, 43556650000, 187102014193, 9992628990, 50910130358, 13428792315, 132101623787, 19393095636, 31534840262, 30189978000, 65827817742, 110107062300, 48679364276, 19633674337, 19897356456, 13459353253, 13756812736, 41819440000, 138721055226, 36403831015, 126985101434, 9726962131, 31633740000, 152241530340, 97535400000, 689978437468, 16626039679, 27840827434, 16420774443, 48576791974, 21698849265, 13177325251, 13191507318, 12844304115, 69661177770, 19749449484, 114805404842, 7776566371, 106776113744, 13377670080, 58782413951, 12940096785, 8030036023, 40543547441, 15375210915, 22908130223, 20003317128, 138652800000, 14438346000, 9496735699, 9356906461, 13784942453, 17377551986, 202302349740, 21433781860, 23253666810, 6527616000, 24152102921, 24138050331, 161413271020, 208505541949, 18457199721, 206318943299, 31062780000, 24421668509, 8792572352, 11051273948, 8351767268, 31953288000, 153580671803, 73315000000, 12466660892, 8397609889, 29043337549, 20839814845, 12326379902, 47136080000, 32258539942, 47996220000, 11478625926, 5330131216, 29983119693, 90708000000, 96282828902, 9877885146, 27418147452, 10131892523, 9858367494, 35950369241, 21500640000, 7047165475, 13216271700, 8753430477, 13233622689, 24123216432, 27247789759, 29803566306, 21590903863, 19572031314, 76548976000, 69750188843, 8001938397, 37730994828, 13612394896, 96529311126, 8617714345, 9499107736, 12767067883, 43497224128, 48139839531, 46585950000, 26163862235, 38059113300, 14113197720, 41697453163, 24496399600, 18493080922, 28893750000, 57509096756, 30445320778, 226713270000, 12396862128, 15241203731, 34983666316, 39816696539, 12810515320, 48181450881, 83226586345, 14247199374, 25810865035, 38903131815, 8459271203, 26957526800, 100262526470, 15254672353, 5366628950, 5856913571, 19363059152, 9050154422, 11116075286, 13300000127, 218834811333, 11256432318, 101513290382, 96436356833, 14654954091, 90940115897, 270038723213, 10692681720, 31797645904, 39312309113, 16964162228, 12778779911, 15594677147, 10754983829, 39369386348, 18865999082, 208092277044, 16064078572, 70862541911, 24760297793, 18890296993, 281463620775, 12177920000, 20780269334, 35488486675, 24802396470, 304680931618, 16433340688, 8951609207, 26070297960, 18225400525, 21559611927, 17064975551, 326148660000, 13390513478, 7938833340, 12915021000, 27003303098, 24454698119, 10670678640, 35991109776, 2917911331641, 2060368570722, 1130445039288, 3042427068578, 3003699935965, 2166771223663, 6621023169253, 431071458193, 549471644825, 453042743905, 586093777208, 22962325963241]}],                        {\"coloraxis\": {\"cmid\": -0.00023398907171855293, \"colorbar\": {\"title\": {\"text\": \"COVID beta\"}}, \"colorscale\": [[0.0, \"rgb(103,0,31)\"], [0.1, \"rgb(178,24,43)\"], [0.2, \"rgb(214,96,77)\"], [0.3, \"rgb(244,165,130)\"], [0.4, \"rgb(253,219,199)\"], [0.5, \"rgb(247,247,247)\"], [0.6, \"rgb(209,229,240)\"], [0.7, \"rgb(146,197,222)\"], [0.8, \"rgb(67,147,195)\"], [0.9, \"rgb(33,102,172)\"], [1.0, \"rgb(5,48,97)\"]]}, \"legend\": {\"tracegroupgap\": 0}, \"margin\": {\"b\": 0, \"l\": 0, \"r\": 0, \"t\": 20}, \"template\": {\"data\": {\"bar\": [{\"error_x\": {\"color\": \"#2a3f5f\"}, \"error_y\": {\"color\": \"#2a3f5f\"}, \"marker\": {\"line\": {\"color\": \"#E5ECF6\", \"width\": 0.5}}, \"type\": \"bar\"}], \"barpolar\": [{\"marker\": {\"line\": {\"color\": \"#E5ECF6\", \"width\": 0.5}}, \"type\": \"barpolar\"}], \"carpet\": [{\"aaxis\": {\"endlinecolor\": \"#2a3f5f\", \"gridcolor\": \"white\", \"linecolor\": \"white\", \"minorgridcolor\": \"white\", \"startlinecolor\": \"#2a3f5f\"}, \"baxis\": {\"endlinecolor\": \"#2a3f5f\", \"gridcolor\": \"white\", \"linecolor\": \"white\", \"minorgridcolor\": \"white\", \"startlinecolor\": \"#2a3f5f\"}, \"type\": \"carpet\"}], \"choropleth\": [{\"colorbar\": {\"outlinewidth\": 0, \"ticks\": \"\"}, \"type\": \"choropleth\"}], \"contour\": [{\"colorbar\": {\"outlinewidth\": 0, \"ticks\": \"\"}, \"colorscale\": [[0.0, \"#0d0887\"], [0.1111111111111111, \"#46039f\"], [0.2222222222222222, \"#7201a8\"], [0.3333333333333333, \"#9c179e\"], [0.4444444444444444, \"#bd3786\"], [0.5555555555555556, \"#d8576b\"], [0.6666666666666666, \"#ed7953\"], [0.7777777777777778, \"#fb9f3a\"], [0.8888888888888888, \"#fdca26\"], [1.0, \"#f0f921\"]], \"type\": \"contour\"}], \"contourcarpet\": [{\"colorbar\": {\"outlinewidth\": 0, \"ticks\": \"\"}, \"type\": \"contourcarpet\"}], \"heatmap\": [{\"colorbar\": {\"outlinewidth\": 0, \"ticks\": \"\"}, \"colorscale\": [[0.0, \"#0d0887\"], [0.1111111111111111, \"#46039f\"], [0.2222222222222222, \"#7201a8\"], [0.3333333333333333, \"#9c179e\"], [0.4444444444444444, \"#bd3786\"], [0.5555555555555556, \"#d8576b\"], [0.6666666666666666, \"#ed7953\"], [0.7777777777777778, \"#fb9f3a\"], [0.8888888888888888, \"#fdca26\"], [1.0, \"#f0f921\"]], \"type\": \"heatmap\"}], \"heatmapgl\": [{\"colorbar\": {\"outlinewidth\": 0, \"ticks\": \"\"}, \"colorscale\": [[0.0, \"#0d0887\"], [0.1111111111111111, \"#46039f\"], [0.2222222222222222, \"#7201a8\"], [0.3333333333333333, \"#9c179e\"], [0.4444444444444444, \"#bd3786\"], [0.5555555555555556, \"#d8576b\"], [0.6666666666666666, \"#ed7953\"], [0.7777777777777778, \"#fb9f3a\"], [0.8888888888888888, \"#fdca26\"], [1.0, \"#f0f921\"]], \"type\": \"heatmapgl\"}], \"histogram\": [{\"marker\": {\"colorbar\": {\"outlinewidth\": 0, \"ticks\": \"\"}}, \"type\": \"histogram\"}], \"histogram2d\": [{\"colorbar\": {\"outlinewidth\": 0, \"ticks\": \"\"}, \"colorscale\": [[0.0, \"#0d0887\"], [0.1111111111111111, \"#46039f\"], [0.2222222222222222, \"#7201a8\"], [0.3333333333333333, \"#9c179e\"], [0.4444444444444444, \"#bd3786\"], [0.5555555555555556, \"#d8576b\"], [0.6666666666666666, \"#ed7953\"], [0.7777777777777778, \"#fb9f3a\"], [0.8888888888888888, \"#fdca26\"], [1.0, \"#f0f921\"]], \"type\": \"histogram2d\"}], \"histogram2dcontour\": [{\"colorbar\": {\"outlinewidth\": 0, \"ticks\": \"\"}, \"colorscale\": [[0.0, \"#0d0887\"], [0.1111111111111111, \"#46039f\"], [0.2222222222222222, \"#7201a8\"], [0.3333333333333333, \"#9c179e\"], [0.4444444444444444, \"#bd3786\"], [0.5555555555555556, \"#d8576b\"], [0.6666666666666666, \"#ed7953\"], [0.7777777777777778, \"#fb9f3a\"], [0.8888888888888888, \"#fdca26\"], [1.0, \"#f0f921\"]], \"type\": \"histogram2dcontour\"}], \"mesh3d\": [{\"colorbar\": {\"outlinewidth\": 0, \"ticks\": \"\"}, \"type\": \"mesh3d\"}], \"parcoords\": [{\"line\": {\"colorbar\": {\"outlinewidth\": 0, \"ticks\": \"\"}}, \"type\": \"parcoords\"}], \"pie\": [{\"automargin\": true, \"type\": \"pie\"}], \"scatter\": [{\"marker\": {\"colorbar\": {\"outlinewidth\": 0, \"ticks\": \"\"}}, \"type\": \"scatter\"}], \"scatter3d\": [{\"line\": {\"colorbar\": {\"outlinewidth\": 0, \"ticks\": \"\"}}, \"marker\": {\"colorbar\": {\"outlinewidth\": 0, \"ticks\": \"\"}}, \"type\": \"scatter3d\"}], \"scattercarpet\": [{\"marker\": {\"colorbar\": {\"outlinewidth\": 0, \"ticks\": \"\"}}, \"type\": \"scattercarpet\"}], \"scattergeo\": [{\"marker\": {\"colorbar\": {\"outlinewidth\": 0, \"ticks\": \"\"}}, \"type\": \"scattergeo\"}], \"scattergl\": [{\"marker\": {\"colorbar\": {\"outlinewidth\": 0, \"ticks\": \"\"}}, \"type\": \"scattergl\"}], \"scattermapbox\": [{\"marker\": {\"colorbar\": {\"outlinewidth\": 0, \"ticks\": \"\"}}, \"type\": \"scattermapbox\"}], \"scatterpolar\": [{\"marker\": {\"colorbar\": {\"outlinewidth\": 0, \"ticks\": \"\"}}, \"type\": \"scatterpolar\"}], \"scatterpolargl\": [{\"marker\": {\"colorbar\": {\"outlinewidth\": 0, \"ticks\": \"\"}}, \"type\": \"scatterpolargl\"}], \"scatterternary\": [{\"marker\": {\"colorbar\": {\"outlinewidth\": 0, \"ticks\": \"\"}}, \"type\": \"scatterternary\"}], \"surface\": [{\"colorbar\": {\"outlinewidth\": 0, \"ticks\": \"\"}, \"colorscale\": [[0.0, \"#0d0887\"], [0.1111111111111111, \"#46039f\"], [0.2222222222222222, \"#7201a8\"], [0.3333333333333333, \"#9c179e\"], [0.4444444444444444, \"#bd3786\"], [0.5555555555555556, \"#d8576b\"], [0.6666666666666666, \"#ed7953\"], [0.7777777777777778, \"#fb9f3a\"], [0.8888888888888888, \"#fdca26\"], [1.0, \"#f0f921\"]], \"type\": \"surface\"}], \"table\": [{\"cells\": {\"fill\": {\"color\": \"#EBF0F8\"}, \"line\": {\"color\": \"white\"}}, \"header\": {\"fill\": {\"color\": \"#C8D4E3\"}, \"line\": {\"color\": \"white\"}}, \"type\": \"table\"}]}, \"layout\": {\"annotationdefaults\": {\"arrowcolor\": \"#2a3f5f\", \"arrowhead\": 0, \"arrowwidth\": 1}, \"coloraxis\": {\"colorbar\": {\"outlinewidth\": 0, \"ticks\": \"\"}}, \"colorscale\": {\"diverging\": [[0, \"#8e0152\"], [0.1, \"#c51b7d\"], [0.2, \"#de77ae\"], [0.3, \"#f1b6da\"], [0.4, \"#fde0ef\"], [0.5, \"#f7f7f7\"], [0.6, \"#e6f5d0\"], [0.7, \"#b8e186\"], [0.8, \"#7fbc41\"], [0.9, \"#4d9221\"], [1, \"#276419\"]], \"sequential\": [[0.0, \"#0d0887\"], [0.1111111111111111, \"#46039f\"], [0.2222222222222222, \"#7201a8\"], [0.3333333333333333, \"#9c179e\"], [0.4444444444444444, \"#bd3786\"], [0.5555555555555556, \"#d8576b\"], [0.6666666666666666, \"#ed7953\"], [0.7777777777777778, \"#fb9f3a\"], [0.8888888888888888, \"#fdca26\"], [1.0, \"#f0f921\"]], \"sequentialminus\": [[0.0, \"#0d0887\"], [0.1111111111111111, \"#46039f\"], [0.2222222222222222, \"#7201a8\"], [0.3333333333333333, \"#9c179e\"], [0.4444444444444444, \"#bd3786\"], [0.5555555555555556, \"#d8576b\"], [0.6666666666666666, \"#ed7953\"], [0.7777777777777778, \"#fb9f3a\"], [0.8888888888888888, \"#fdca26\"], [1.0, \"#f0f921\"]]}, \"colorway\": [\"#636efa\", \"#EF553B\", \"#00cc96\", \"#ab63fa\", \"#FFA15A\", \"#19d3f3\", \"#FF6692\", \"#B6E880\", \"#FF97FF\", \"#FECB52\"], \"font\": {\"color\": \"#2a3f5f\"}, \"geo\": {\"bgcolor\": \"white\", \"lakecolor\": \"white\", \"landcolor\": \"#E5ECF6\", \"showlakes\": true, \"showland\": true, \"subunitcolor\": \"white\"}, \"hoverlabel\": {\"align\": \"left\"}, \"hovermode\": \"closest\", \"mapbox\": {\"style\": \"light\"}, \"paper_bgcolor\": \"white\", \"plot_bgcolor\": \"#E5ECF6\", \"polar\": {\"angularaxis\": {\"gridcolor\": \"white\", \"linecolor\": \"white\", \"ticks\": \"\"}, \"bgcolor\": \"#E5ECF6\", \"radialaxis\": {\"gridcolor\": \"white\", \"linecolor\": \"white\", \"ticks\": \"\"}}, \"scene\": {\"xaxis\": {\"backgroundcolor\": \"#E5ECF6\", \"gridcolor\": \"white\", \"gridwidth\": 2, \"linecolor\": \"white\", \"showbackground\": true, \"ticks\": \"\", \"zerolinecolor\": \"white\"}, \"yaxis\": {\"backgroundcolor\": \"#E5ECF6\", \"gridcolor\": \"white\", \"gridwidth\": 2, \"linecolor\": \"white\", \"showbackground\": true, \"ticks\": \"\", \"zerolinecolor\": \"white\"}, \"zaxis\": {\"backgroundcolor\": \"#E5ECF6\", \"gridcolor\": \"white\", \"gridwidth\": 2, \"linecolor\": \"white\", \"showbackground\": true, \"ticks\": \"\", \"zerolinecolor\": \"white\"}}, \"shapedefaults\": {\"line\": {\"color\": \"#2a3f5f\"}}, \"ternary\": {\"aaxis\": {\"gridcolor\": \"white\", \"linecolor\": \"white\", \"ticks\": \"\"}, \"baxis\": {\"gridcolor\": \"white\", \"linecolor\": \"white\", \"ticks\": \"\"}, \"bgcolor\": \"#E5ECF6\", \"caxis\": {\"gridcolor\": \"white\", \"linecolor\": \"white\", \"ticks\": \"\"}}, \"title\": {\"x\": 0.05}, \"xaxis\": {\"automargin\": true, \"gridcolor\": \"white\", \"linecolor\": \"white\", \"ticks\": \"\", \"title\": {\"standoff\": 15}, \"zerolinecolor\": \"white\", \"zerolinewidth\": 2}, \"yaxis\": {\"automargin\": true, \"gridcolor\": \"white\", \"linecolor\": \"white\", \"ticks\": \"\", \"title\": {\"standoff\": 15}, \"zerolinecolor\": \"white\", \"zerolinewidth\": 2}}}},                        {\"responsive\": true}                    ).then(function(){\n",
              "                            \n",
              "var gd = document.getElementById('8df4459a-1bb7-48ba-be6a-715f15886b6c');\n",
              "var x = new MutationObserver(function (mutations, observer) {{\n",
              "        var display = window.getComputedStyle(gd).display;\n",
              "        if (!display || display === 'none') {{\n",
              "            console.log([gd, 'removed!']);\n",
              "            Plotly.purge(gd);\n",
              "            observer.disconnect();\n",
              "        }}\n",
              "}});\n",
              "\n",
              "// Listen for the removal of the full notebook cells\n",
              "var notebookContainer = gd.closest('#notebook-container');\n",
              "if (notebookContainer) {{\n",
              "    x.observe(notebookContainer, {childList: true});\n",
              "}}\n",
              "\n",
              "// Listen for the clearing of the current output cell\n",
              "var outputEl = gd.closest('.output');\n",
              "if (outputEl) {{\n",
              "    x.observe(outputEl, {childList: true});\n",
              "}}\n",
              "\n",
              "                        })                };                });            </script>        </div>"
            ]
          },
          "metadata": {},
          "output_type": "display_data"
        }
      ],
      "source": [
        "import plotly.express as px\n",
        "df_merged[\"S&P500\"] = \"S&P500\" # dummy root node\n",
        "df_merged = df_merged.rename({\"cases_beta\": \"COVID beta\"}, axis=1)\n",
        "fig = px.treemap(df_merged, path=['S&P500', 'Sector', 'Symbol'], values='Market Cap',\n",
        "                  color='COVID beta', hover_data=['Price/Earnings', 'Price/Sales', 'Price/Book'],\n",
        "                  color_continuous_scale='RdBu',\n",
        "                  color_continuous_midpoint=np.average(df_merged['COVID beta'], weights=df_merged['Market Cap'])\n",
        "                )\n",
        "fig.update_layout(margin=dict(l=0, r=0, t=20, b=0)),\n",
        "fig.show()"
      ]
    },
    {
      "cell_type": "code",
      "execution_count": null,
      "metadata": {
        "id": "io-rSLcW0Ojd"
      },
      "outputs": [],
      "source": [
        "# Export to HTML\n",
        "fig.write_html(\"heatmap.html\", include_plotlyjs=\"cdn\", full_html=False)"
      ]
    },
    {
      "cell_type": "code",
      "execution_count": null,
      "metadata": {
        "id": "reZWD62x0Ojd",
        "outputId": "436a95fa-d25e-4828-97bd-f95a3bb83e99"
      },
      "outputs": [
        {
          "data": {
            "text/plain": [
              "'https://plotly.com/~robertmartin8/5/'"
            ]
          },
          "execution_count": 26,
          "metadata": {},
          "output_type": "execute_result"
        }
      ],
      "source": [
        "# Hosting on Chart Studio\n",
        "# import chart_studio\n",
        "# import chart_studio.plotly as py\n",
        "# # chart_studio.tools.set_credentials_file(username=\"\", api_key=\"\")\n",
        "# chart_studio.tools.set_config_file(sharing='public')\n",
        "# py.plot(fig, filename=\"COVID_beta\", auto_open=True)"
      ]
    },
    {
      "cell_type": "code",
      "execution_count": null,
      "metadata": {
        "id": "tG0PQRBY0Oje"
      },
      "outputs": [],
      "source": []
    }
  ],
  "metadata": {
    "kernelspec": {
      "display_name": "Python 3",
      "language": "python",
      "name": "python3"
    },
    "language_info": {
      "codemirror_mode": {
        "name": "ipython",
        "version": 3
      },
      "file_extension": ".py",
      "mimetype": "text/x-python",
      "name": "python",
      "nbconvert_exporter": "python",
      "pygments_lexer": "ipython3",
      "version": "3.8.5"
    },
    "colab": {
      "provenance": [],
      "toc_visible": true,
      "include_colab_link": true
    }
  },
  "nbformat": 4,
  "nbformat_minor": 0
}